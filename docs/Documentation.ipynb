{
 "cells": [
  {
   "cell_type": "markdown",
   "metadata": {},
   "source": [
    "# Documentation Generation\n",
    "\n",
    "<br>\n",
    "\n",
    "### Imports"
   ]
  },
  {
   "cell_type": "code",
   "execution_count": 1,
   "metadata": {},
   "outputs": [],
   "source": [
    "import junix\n",
    "from nbdev.export2html import convert_md\n",
    "\n",
    "import os\n",
    "import codecs\n",
    "from ipypb import track\n",
    "from warnings import warn"
   ]
  },
  {
   "cell_type": "markdown",
   "metadata": {},
   "source": [
    "<br>\n",
    "\n",
    "### User Inputs"
   ]
  },
  {
   "cell_type": "code",
   "execution_count": 2,
   "metadata": {},
   "outputs": [],
   "source": [
    "img_dir = 'img/nbs'\n",
    "dev_nbs_dir = '../nbs'"
   ]
  },
  {
   "cell_type": "markdown",
   "metadata": {},
   "source": [
    "<br>\n",
    "\n",
    "### Converting Notebooks to Markdown"
   ]
  },
  {
   "cell_type": "code",
   "execution_count": 3,
   "metadata": {},
   "outputs": [
    {
     "data": {
      "text/html": [
       "<div><span class=\"Text-label\" style=\"display:inline-block; overflow:hidden; white-space:nowrap; text-overflow:ellipsis; min-width:0; max-width:15ex; vertical-align:middle; text-align:right\"></span>\n",
       "<progress style=\"width:60ex\" max=\"5\" value=\"5\" class=\"Progress-main\"/></progress>\n",
       "<span class=\"Progress-label\"><strong>100%</strong></span>\n",
       "<span class=\"Iteration-label\">5/5</span>\n",
       "<span class=\"Time-label\">[00:02<00:00, 0.39s/it]</span></div>"
      ],
      "text/plain": [
       "\u001b[A\u001b[2K\r",
       " [████████████████████████████████████████████████████████████] 5/5 [00:02<00:00, 0.39s/it]"
      ]
     },
     "metadata": {},
     "output_type": "display_data"
    }
   ],
   "source": [
    "def encode_file_as_utf8(fp):\n",
    "    with codecs.open(fp, 'r') as file:\n",
    "        contents = file.read(1048576)\n",
    "        file.close()\n",
    "\n",
    "        if not contents:\n",
    "            pass\n",
    "        else:\n",
    "            with codecs.open(fp, 'w', 'utf-8') as file:\n",
    "                file.write(contents)\n",
    "            \n",
    "def convert_nbs_to_md(nbs_dir, img_dir):\n",
    "    nb_files = [f for f in os.listdir(nbs_dir) if f[-6:]=='.ipynb']\n",
    "\n",
    "    for nb_file in track(nb_files):\n",
    "        nb_fp = f'{nbs_dir}/{nb_file}'\n",
    "        junix.export_images(nb_fp, img_dir)\n",
    "        convert_md(nb_fp, '.', img_path=f'{img_dir}/', jekyll=False)\n",
    "\n",
    "        md_fp = nb_file.replace('.ipynb', '') + '.md'\n",
    "        encode_file_as_utf8(md_fp)\n",
    "        \n",
    "for nbs_dir in [dev_nbs_dir]:\n",
    "    convert_nbs_to_md(nbs_dir, img_dir)"
   ]
  },
  {
   "cell_type": "markdown",
   "metadata": {},
   "source": [
    "<br>\n",
    "\n",
    "### Cleaning Markdown"
   ]
  },
  {
   "cell_type": "code",
   "execution_count": null,
   "metadata": {},
   "outputs": [],
   "source": [
    "import markdown\n",
    "\n",
    "with open('01-source-data.md', 'r') as f:\n",
    "    file_txt = f.read()\n",
    "    \n",
    "print(file_txt)"
   ]
  },
  {
   "cell_type": "code",
   "execution_count": null,
   "metadata": {},
   "outputs": [],
   "source": []
  },
  {
   "cell_type": "code",
   "execution_count": 16,
   "metadata": {},
   "outputs": [
    {
     "data": {
      "text/plain": [
       "'|    | sett_bmu_id   | ngc_bmu_id   | bmu_root   | name                   | primary_fuel_type   | detailed_fuel_type   |   longitude |   latitude | common_name          |\\n|---:|:--------------|:-------------|:-----------|:-----------------------|:--------------------|:---------------------|------------:|-----------:|:---------------------|\\n|  0 | E_MARK-1      | MARK-1       | MARK       | Rothes Bio-Plant CHP 1 | biomass             | bone                 |    -3.60352 |    57.4804 | Rothes Bio-Plant CHP |\\n|  1 | E_MARK-2      | MARK-2       | MARK       | Rothes Bio-Plant CHP 2 | biomass             | bone                 |    -3.60352 |    57.4804 | Rothes Bio-Plant CHP |\\n|  2 | T_DIDC1       | DIDC1        | DIDC       | Didcot A (G) 1         | coal                | coalgas_opt_out      |    -1.26757 |    51.6236 | Didcot A (G)         |\\n|  3 | T_DIDC2       | DIDC2        | DIDC       | Didcot A (G) 2         | coal                | coalgas_opt_out      |    -1.26757 |    51.6236 | Didcot A (G)         |\\n|  4 | T_DIDC4       | DIDC4        | DIDC       | Didcot A (G) 4         | coal                | coalgas_opt_out      |    -1.26757 |    51.6236 | Didcot A (G)         |'"
      ]
     },
     "execution_count": 16,
     "metadata": {},
     "output_type": "execute_result"
    }
   ],
   "source": [
    "def convert_df_to_md(df_table):\n",
    "    idx_col = df_table.columns[0]\n",
    "    df_table = df_table.set_index(idx_col)\n",
    "    \n",
    "    if idx_col == 'Unnamed: 0':\n",
    "        df_table.index.name = ''\n",
    "    \n",
    "    table_md = df_table.to_markdown()\n",
    "    \n",
    "    return table_md\n",
    "\n",
    "html_dfs = pd.read_html(file_txt)\n",
    "\n",
    "convert_table_soup_to_md(html_dfs[0])"
   ]
  },
  {
   "cell_type": "code",
   "execution_count": null,
   "metadata": {},
   "outputs": [],
   "source": []
  }
 ],
 "metadata": {
  "kernelspec": {
   "display_name": "PowerDict",
   "language": "python",
   "name": "powerdict"
  },
  "language_info": {
   "codemirror_mode": {
    "name": "ipython",
    "version": 3
   },
   "file_extension": ".py",
   "mimetype": "text/x-python",
   "name": "python",
   "nbconvert_exporter": "python",
   "pygments_lexer": "ipython3",
   "version": "3.9.1"
  }
 },
 "nbformat": 4,
 "nbformat_minor": 4
}
