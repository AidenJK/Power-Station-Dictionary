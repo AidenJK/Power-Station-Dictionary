{
 "cells": [
  {
   "cell_type": "code",
   "execution_count": 1,
   "metadata": {},
   "outputs": [],
   "source": [
    "# default_exp cicd"
   ]
  },
  {
   "cell_type": "markdown",
   "metadata": {},
   "source": [
    "# CI/CD\n",
    "\n",
    "<br>\n",
    "\n",
    "This notebook includes helper functions and processes used in the continuous integration and deployment of the the Power-Station-Dictionary repository.\n",
    "\n",
    "<br>\n",
    "\n",
    "### Imports"
   ]
  },
  {
   "cell_type": "code",
   "execution_count": 2,
   "metadata": {},
   "outputs": [],
   "source": [
    "#exports\n",
    "import os\n",
    "import typer\n",
    "import logging\n",
    "from warnings import warn\n",
    "from configparser import ConfigParser"
   ]
  },
  {
   "cell_type": "markdown",
   "metadata": {},
   "source": [
    "<br>\n",
    "\n",
    "### Initialising CLI "
   ]
  },
  {
   "cell_type": "code",
   "execution_count": 3,
   "metadata": {},
   "outputs": [],
   "source": [
    "#exports\n",
    "app = typer.Typer()"
   ]
  },
  {
   "cell_type": "markdown",
   "metadata": {},
   "source": [
    "<br>\n",
    "\n",
    "### Incrementing the Package Version\n",
    "\n",
    "We'll start by retrieving the current package version specified in `settings.ini`"
   ]
  },
  {
   "cell_type": "code",
   "execution_count": 4,
   "metadata": {},
   "outputs": [],
   "source": [
    "#exports\n",
    "@app.command()\n",
    "def get_current_package_version(settings_fp: str='settings.ini'):\n",
    "    config = ConfigParser(delimiters=['='])\n",
    "    config.read(settings_fp)\n",
    "    version = config.get('DEFAULT', 'version')\n",
    "    \n",
    "    return version"
   ]
  },
  {
   "cell_type": "code",
   "execution_count": 5,
   "metadata": {},
   "outputs": [
    {
     "data": {
      "text/plain": [
       "'1.0.0'"
      ]
     },
     "execution_count": 5,
     "metadata": {},
     "output_type": "execute_result"
    }
   ],
   "source": [
    "settings_fp = '../settings.ini'\n",
    "\n",
    "original_version = get_current_package_version(settings_fp)\n",
    "\n",
    "original_version"
   ]
  },
  {
   "cell_type": "markdown",
   "metadata": {},
   "source": [
    "<br>\n",
    "\n",
    "We'll now increment the package version"
   ]
  },
  {
   "cell_type": "code",
   "execution_count": 6,
   "metadata": {},
   "outputs": [],
   "source": [
    "#exports\n",
    "@app.command()\n",
    "def increment_package_version(old_version: str, increment_level: str='micro'):\n",
    "    increment = lambda rev: str(int(rev)+1)\n",
    "    \n",
    "    major, minor, micro = old_version.split('.') # naming from - https://the-hitchhikers-guide-to-packaging.readthedocs.io/en/latest/specification.html#sequence-based-scheme\n",
    "    \n",
    "    if increment_level == 'major':\n",
    "        major = increment(major)\n",
    "    elif increment_level == 'minor':\n",
    "        minor = increment(minor)\n",
    "    elif increment_level == 'micro':\n",
    "        micro = increment(micro)\n",
    "        \n",
    "    new_version = '.'.join([major, minor, micro])\n",
    "    \n",
    "    return new_version"
   ]
  },
  {
   "cell_type": "code",
   "execution_count": 7,
   "metadata": {},
   "outputs": [
    {
     "data": {
      "text/plain": [
       "'1.0.1'"
      ]
     },
     "execution_count": 7,
     "metadata": {},
     "output_type": "execute_result"
    }
   ],
   "source": [
    "increment_package_version(original_version)"
   ]
  },
  {
   "cell_type": "markdown",
   "metadata": {},
   "source": [
    "<br>\n",
    "\n",
    "But what about if we've made large changes to the code-base and wish to express the size of these revisions in the version? For that we can specify the `increment_level`."
   ]
  },
  {
   "cell_type": "code",
   "execution_count": 8,
   "metadata": {},
   "outputs": [
    {
     "data": {
      "text/plain": [
       "'2.0.0'"
      ]
     },
     "execution_count": 8,
     "metadata": {},
     "output_type": "execute_result"
    }
   ],
   "source": [
    "increment_package_version(original_version, increment_level='major')"
   ]
  },
  {
   "cell_type": "markdown",
   "metadata": {},
   "source": [
    "<br>\n",
    "\n",
    "And finally we can set the version"
   ]
  },
  {
   "cell_type": "code",
   "execution_count": 9,
   "metadata": {},
   "outputs": [],
   "source": [
    "#exports\n",
    "@app.command()\n",
    "def set_current_package_version(version: str, settings_fp: str='settings.ini'):\n",
    "    config = ConfigParser(delimiters=['='])\n",
    "    config.read(settings_fp)\n",
    "\n",
    "    config.set('DEFAULT', 'version', version)\n",
    "\n",
    "    with open(settings_fp, 'w') as configfile:\n",
    "        config.write(configfile)\n",
    "        \n",
    "    logging.info(f'The package version has to be updated to {version}')\n",
    "    \n",
    "    return "
   ]
  },
  {
   "cell_type": "code",
   "execution_count": 10,
   "metadata": {},
   "outputs": [
    {
     "data": {
      "text/plain": [
       "'9.9.9'"
      ]
     },
     "execution_count": 10,
     "metadata": {},
     "output_type": "execute_result"
    }
   ],
   "source": [
    "set_current_package_version('9.9.9', settings_fp)\n",
    "get_current_package_version(settings_fp)"
   ]
  },
  {
   "cell_type": "markdown",
   "metadata": {},
   "source": [
    "<br>\n",
    "\n",
    "Before we move on we'll change the version on file back to the original"
   ]
  },
  {
   "cell_type": "code",
   "execution_count": 11,
   "metadata": {},
   "outputs": [
    {
     "data": {
      "text/plain": [
       "'1.0.0'"
      ]
     },
     "execution_count": 11,
     "metadata": {},
     "output_type": "execute_result"
    }
   ],
   "source": [
    "set_current_package_version(original_version, settings_fp)\n",
    "get_current_package_version(settings_fp)"
   ]
  },
  {
   "cell_type": "markdown",
   "metadata": {},
   "source": [
    "<br>\n",
    "\n",
    "Finally we need to ensure the CLI app is available when the module is loaded.\n",
    "\n",
    "N.b. we've included the condition `'__file__' in globals()` to make sure this isn't when inside the notebook"
   ]
  },
  {
   "cell_type": "code",
   "execution_count": 12,
   "metadata": {},
   "outputs": [],
   "source": [
    "#exports\n",
    "if __name__ == '__main__' and '__file__' in globals():\n",
    "    app()"
   ]
  },
  {
   "cell_type": "code",
   "execution_count": null,
   "metadata": {},
   "outputs": [],
   "source": []
  },
  {
   "cell_type": "code",
   "execution_count": 13,
   "metadata": {},
   "outputs": [
    {
     "name": "stdout",
     "output_type": "stream",
     "text": [
      "Converted 01-source-data.ipynb.\n",
      "Converted 02-data-definitions.ipynb.\n",
      "Converted 03-database-construction.ipynb.\n",
      "Converted 04-updates-and-cleaning.ipynb.\n",
      "Converted 05-pipelines.ipynb.\n",
      "Converted 06-ci-cd.ipynb.\n"
     ]
    }
   ],
   "source": [
    "#hide\n",
    "from nbdev.export import *\n",
    "notebook2script()"
   ]
  }
 ],
 "metadata": {
  "kernelspec": {
   "display_name": "PowerDict",
   "language": "python",
   "name": "powerdict"
  },
  "language_info": {
   "codemirror_mode": {
    "name": "ipython",
    "version": 3
   },
   "file_extension": ".py",
   "mimetype": "text/x-python",
   "name": "python",
   "nbconvert_exporter": "python",
   "pygments_lexer": "ipython3",
   "version": "3.9.1"
  }
 },
 "nbformat": 4,
 "nbformat_minor": 4
}
