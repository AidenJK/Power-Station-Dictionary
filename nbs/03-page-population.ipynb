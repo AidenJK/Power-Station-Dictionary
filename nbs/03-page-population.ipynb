{
 "cells": [
  {
   "cell_type": "code",
   "execution_count": 1,
   "id": "296f17be-6ae3-48b5-a69c-b16127b673d0",
   "metadata": {},
   "outputs": [],
   "source": [
    "# default_exp population"
   ]
  },
  {
   "cell_type": "code",
   "execution_count": 1,
   "id": "1008b8f9-5c4d-4eba-aafd-c7b2a05d7d35",
   "metadata": {},
   "outputs": [
    {
     "ename": "ModuleNotFoundError",
     "evalue": "No module named 'powerdict'",
     "output_type": "error",
     "traceback": [
      "\u001b[1;31m---------------------------------------------------------------------------\u001b[0m",
      "\u001b[1;31mModuleNotFoundError\u001b[0m                       Traceback (most recent call last)",
      "\u001b[1;32m~\\AppData\\Local\\Temp/ipykernel_24172/3916148942.py\u001b[0m in \u001b[0;36m<module>\u001b[1;34m\u001b[0m\n\u001b[0;32m      5\u001b[0m \u001b[1;32mfrom\u001b[0m \u001b[0mfrictionless\u001b[0m \u001b[1;32mimport\u001b[0m \u001b[0mPackage\u001b[0m\u001b[1;33m\u001b[0m\u001b[1;33m\u001b[0m\u001b[0m\n\u001b[0;32m      6\u001b[0m \u001b[1;33m\u001b[0m\u001b[0m\n\u001b[1;32m----> 7\u001b[1;33m \u001b[1;32mfrom\u001b[0m \u001b[0mpowerdict\u001b[0m \u001b[1;32mimport\u001b[0m \u001b[0mextraction\u001b[0m\u001b[1;33m\u001b[0m\u001b[1;33m\u001b[0m\u001b[0m\n\u001b[0m\u001b[0;32m      8\u001b[0m \u001b[1;33m\u001b[0m\u001b[0m\n\u001b[0;32m      9\u001b[0m \u001b[1;32mimport\u001b[0m \u001b[0mos\u001b[0m\u001b[1;33m\u001b[0m\u001b[1;33m\u001b[0m\u001b[0m\n",
      "\u001b[1;31mModuleNotFoundError\u001b[0m: No module named 'powerdict'"
     ]
    }
   ],
   "source": [
    "#exports\n",
    "import json\n",
    "import numpy as np\n",
    "import pandas as pd\n",
    "from frictionless import Package\n",
    "\n",
    "from powerdict import extraction\n",
    "\n",
    "import os\n",
    "from tqdm import tqdm\n",
    "from warnings import warn\n",
    "\n",
    "from jinja2 import Template"
   ]
  },
  {
   "cell_type": "code",
   "execution_count": null,
   "id": "21d259c5-d0bc-4892-ae07-8be024761862",
   "metadata": {},
   "outputs": [],
   "source": [
    "from IPython.display import JSON, Markdown"
   ]
  },
  {
   "cell_type": "markdown",
   "id": "702a3c59-cc07-4a0b-860b-7bb8e5e899a5",
   "metadata": {},
   "source": [
    "<br>\n",
    "\n",
    "### Data Formatting"
   ]
  },
  {
   "cell_type": "code",
   "execution_count": null,
   "id": "a579318d-3e88-4787-a9ae-a9c931a11bf6",
   "metadata": {},
   "outputs": [],
   "source": [
    "site_data_fp = '../data/intermediate/site_data.json'\n",
    "\n",
    "with open(site_data_fp, 'r') as f:\n",
    "    site_data = json.load(f)\n",
    "    \n",
    "JSON(extraction.get_dict_head(site_data))"
   ]
  },
  {
   "cell_type": "code",
   "execution_count": null,
   "id": "f1f7494b-6525-437f-a564-beba7b488d07",
   "metadata": {},
   "outputs": [],
   "source": []
  },
  {
   "cell_type": "code",
   "execution_count": 2,
   "id": "42ccdb97-dc65-4a13-822e-11f701b6aab4",
   "metadata": {},
   "outputs": [],
   "source": [
    "#exports\n",
    "def get_dp_field_to_url_format_str(datapackage_json_fp):\n",
    "    package = Package(datapackage_json_fp, profile='tabular-data-package')\n",
    "    ids_resource = package.get_resource('ids')\n",
    "\n",
    "    id_field_to_url_format_str = {\n",
    "        field['name']: field['url_format'] \n",
    "        for field \n",
    "        in ids_resource['schema']['fields'] \n",
    "        if 'url_format' in field.keys()\n",
    "    }\n",
    "\n",
    "    return id_field_to_url_format_str"
   ]
  },
  {
   "cell_type": "code",
   "execution_count": 3,
   "id": "8a4c19bc-dab0-4cda-9f68-37ed33ae0b27",
   "metadata": {},
   "outputs": [
    {
     "data": {
      "text/plain": [
       "{'4c_offshore_id': 'https://www.4coffshore.com/windfarms/united-kingdom/{value}.html',\n",
       " 'windpowernet_id': 'https://www.thewindpower.net/{value}.php',\n",
       " 'wikidata_id': 'https://www.wikidata.org/wiki/{value}',\n",
       " 'wikipedia_id': 'https://en.wikipedia.org/wiki/{value}',\n",
       " 'power_technology_id': 'https://www.power-technology.com/projects/{value}'}"
      ]
     },
     "execution_count": 3,
     "metadata": {},
     "output_type": "execute_result"
    }
   ],
   "source": [
    "datapackage_json_fp = '../data/dictionary/datapackage.json'\n",
    "\n",
    "id_field_to_url_format_str = get_dp_field_to_url_format_str(datapackage_json_fp)\n",
    "\n",
    "id_field_to_url_format_str"
   ]
  },
  {
   "cell_type": "code",
   "execution_count": null,
   "id": "d21ccfcb-e493-4931-94fd-cc27cbe41b41",
   "metadata": {},
   "outputs": [],
   "source": []
  },
  {
   "cell_type": "code",
   "execution_count": 7,
   "id": "7c26c772-931d-4275-8db1-3ee4afb4b87a",
   "metadata": {},
   "outputs": [
    {
     "data": {
      "text/plain": [
       "('eutl_id', 97165)"
      ]
     },
     "execution_count": 7,
     "metadata": {},
     "output_type": "execute_result"
    }
   ],
   "source": [
    "# load in the datapackage.json\n",
    "# create a dict mapping from the id column name to the url format string\n",
    "# format the id values to be url links in the markdown string\n",
    "\n",
    "root_id = '10001'\n",
    "single_site_data = site_data[root_id]\n",
    "\n",
    "for hierarchy_level, ids in single_site_data['id_hierarchies'].items():\n",
    "    for id_type, id_values in ids.items():\n",
    "        pass\n",
    "    \n",
    "id_type, id_values"
   ]
  },
  {
   "cell_type": "code",
   "execution_count": 8,
   "id": "ac3dadb4-21c6-449b-9450-efbbcda347f4",
   "metadata": {},
   "outputs": [],
   "source": [
    "#exports\n",
    "def format_id_values(id_values, id_type, id_field_to_url_format_str):\n",
    "    if id_type in id_field_to_url_format_str.keys():\n",
    "        url_format_str = id_field_to_url_format_str[id_type]\n",
    "        id_values_strs = [f'[{id_value}]({url_format_str.format(value=id_value)})' for id_value in id_values]\n",
    "    else:\n",
    "        id_values_strs = [str(id_value) for id_value in id_values] \n",
    "    \n",
    "    return id_values_strs"
   ]
  },
  {
   "cell_type": "code",
   "execution_count": 9,
   "id": "948ebb4d-a575-47c4-b9c4-8a9c43768161",
   "metadata": {},
   "outputs": [
    {
     "data": {
      "text/plain": [
       "['[hornsea-project-one-north-sea](https://www.power-technology.com/projects/hornsea-project-one-north-sea)',\n",
       " '[hornsea-project-two-north-sea](https://www.power-technology.com/projects/hornsea-project-two-north-sea)']"
      ]
     },
     "execution_count": 9,
     "metadata": {},
     "output_type": "execute_result"
    }
   ],
   "source": [
    "id_type = 'power_technology_id'\n",
    "id_values = ['hornsea-project-one-north-sea', 'hornsea-project-two-north-sea']\n",
    "url_format_str = 'https://www.power-technology.com/projects/{value}'\n",
    "\n",
    "id_values_strs = format_id_values(id_values, id_type, id_field_to_url_format_str)\n",
    "\n",
    "id_values_strs"
   ]
  },
  {
   "cell_type": "code",
   "execution_count": null,
   "id": "5229c1ef-f6b6-49f9-85d3-73ea5274f5c8",
   "metadata": {},
   "outputs": [],
   "source": []
  },
  {
   "cell_type": "code",
   "execution_count": 10,
   "id": "f2a5e972-c11b-4b12-9e38-c87164adf9ed",
   "metadata": {},
   "outputs": [],
   "source": [
    "#exports\n",
    "def single_site_data_to_ids_df(single_site_data, root_id, datapackage_json_fp, root_id_type='osuked_id'):\n",
    "    id_field_to_url_format_str = get_dp_field_to_url_format_str(datapackage_json_fp)\n",
    "    df_site_ids = pd.DataFrame([{'Relationship': 'root', 'ID Type': root_id_type, 'ID(s)': root_id}])\n",
    "\n",
    "    hierarchy_level_to_relationship = {\n",
    "        'parent': 'parent',\n",
    "        'child': 'element-of',\n",
    "        'equivalent': 'same-as'\n",
    "    }\n",
    "\n",
    "    for hierarchy_level, ids in single_site_data['id_hierarchies'].items():\n",
    "        if len(ids) >= 1:\n",
    "            ids = {\n",
    "                id_type: (', '.join([str(id_) for id_ in format_id_values(id_values, id_type, id_field_to_url_format_str)]) if isinstance(id_values, list) else id_values) \n",
    "                for id_type, id_values \n",
    "                in ids.items()\n",
    "            }\n",
    "                \n",
    "            relationship = hierarchy_level_to_relationship[hierarchy_level]\n",
    "\n",
    "            df_site_ids = df_site_ids.append(pd\n",
    "                                             .Series(ids)\n",
    "                                             .reset_index()\n",
    "                                             .assign(Relationship=relationship)\n",
    "                                             .rename(columns={'index': 'ID Type', 0: 'ID(s)'})\n",
    "                                            )\n",
    "\n",
    "    if df_site_ids.size >= 1:\n",
    "        df_site_ids = df_site_ids.set_index(['Relationship', 'ID Type'])\n",
    "        \n",
    "    return df_site_ids\n",
    "\n",
    "def single_site_data_to_ids_md_str(single_site_data, root_id, datapackage_json_fp):\n",
    "    df_site_ids = single_site_data_to_ids_df(single_site_data, root_id, datapackage_json_fp)\n",
    "    site_ids_md_table = df_site_ids.reset_index().to_markdown(index=False)\n",
    "    site_ids_md_str = '### Identifiers\\n\\n' + site_ids_md_table\n",
    "    \n",
    "    return site_ids_md_str"
   ]
  },
  {
   "cell_type": "code",
   "execution_count": 11,
   "id": "7838e2ac-633d-45c0-9652-a89a02a331b1",
   "metadata": {},
   "outputs": [
    {
     "data": {
      "text/markdown": [
       "### Identifiers\n",
       "\n",
       "| Relationship   | ID Type     | ID(s)                                                                                                                                  |\n",
       "|:---------------|:------------|:---------------------------------------------------------------------------------------------------------------------------------------|\n",
       "| root           | osuked_id   | 10001                                                                                                                                  |\n",
       "| element-of     | gppd_idnr   | GBR1000377, GBR1000369                                                                                                                 |\n",
       "| element-of     | sett_bmu_id | T_DIDC1, T_DIDC2, T_DIDC4, T_DIDC3, T_DIDC1G, T_DIDC2G, T_DIDC3G, T_DIDC4G, E_DIDC1G, E_DIDC2G, E_DIDC3G, E_DIDC4G, T_DIDCB5, T_DIDCB6 |\n",
       "| element-of     | ngc_bmu_id  | DIDC1, DIDC2, DIDC4, DIDC3, DIDC1G, DIDC2G, DIDC3G, DIDC4G, DIDC01G, DIDC02G, DIDC03G, DIDC04G, DIDCB5, DIDCB6                         |\n",
       "| same-as        | esail_id    | DIDC                                                                                                                                   |\n",
       "| same-as        | name        | Didcot                                                                                                                                 |\n",
       "| same-as        | eutl_id     | 97165                                                                                                                                  |"
      ],
      "text/plain": [
       "<IPython.core.display.Markdown object>"
      ]
     },
     "execution_count": 11,
     "metadata": {},
     "output_type": "execute_result"
    }
   ],
   "source": [
    "root_id = '10001'\n",
    "single_site_data = site_data[root_id]\n",
    "\n",
    "site_ids_md_str = single_site_data_to_ids_md_str(single_site_data, root_id, datapackage_json_fp)\n",
    "\n",
    "Markdown(site_ids_md_str)"
   ]
  },
  {
   "cell_type": "code",
   "execution_count": null,
   "id": "16137046-962b-45be-b9fa-2c043fc53d8c",
   "metadata": {},
   "outputs": [],
   "source": []
  },
  {
   "cell_type": "code",
   "execution_count": 12,
   "id": "a7b421f3-e869-4375-97b3-fc935fa17f79",
   "metadata": {},
   "outputs": [],
   "source": [
    "#exports\n",
    "from frictionless.types.array import type_to_class\n",
    "from frictionless.field import Field\n",
    "\n",
    "filter_dict = lambda dict_, keys_to_select: {k: dict_[k] for k in keys_to_select}\n",
    "\n",
    "def attrs_df_to_md_str(df_attrs):\n",
    "    if df_attrs['Id'].unique().size > 1:\n",
    "        attrs_md_str = df_attrs.pivot('Attribute', 'Id', 'Value').to_markdown(index=True)\n",
    "    else:\n",
    "        attrs_md_str = df_attrs.drop(columns=['Id']).to_markdown(index=False)\n",
    "        \n",
    "    return attrs_md_str\n",
    "\n",
    "def format_attribute_value_types(df_attributes, attr_to_field_schema):\n",
    "    s_values = pd.Series(index=df_attributes.index, dtype='object')\n",
    "\n",
    "    for idx, row in df_attributes.iterrows():\n",
    "        field_schema = Field(attr_to_field_schema[row['Attribute']])\n",
    "        field_type = field_schema['type']\n",
    "\n",
    "        field_class = type_to_class[field_type](field_schema)\n",
    "        s_values[idx] = field_class.read_cell(row['Value'])\n",
    "\n",
    "    df_attributes['Value'] = s_values\n",
    "    \n",
    "    return df_attributes\n",
    "\n",
    "def get_datapackage_url_to_attributes(single_site_data):\n",
    "    datapackage_url_to_attributes = {}\n",
    "\n",
    "    if 'attributes' in single_site_data.keys():\n",
    "        for attr in single_site_data['attributes']:\n",
    "            datapackage_url = attr['source']\n",
    "            attribute_values = filter_dict(attr, ['attribute', 'value', 'id'])\n",
    "\n",
    "            if datapackage_url not in datapackage_url_to_attributes.keys():\n",
    "                datapackage_url_to_attributes[datapackage_url] = []\n",
    "\n",
    "            datapackage_url_to_attributes[datapackage_url] += [attribute_values]\n",
    "\n",
    "    return datapackage_url_to_attributes\n",
    "\n",
    "def get_datapackage_url_to_attrs_md_str(single_site_data):\n",
    "    def capitalize_df_columns(df):\n",
    "        df.columns = df.columns.str.capitalize()\n",
    "        return df\n",
    "    \n",
    "    attr_to_field_schema = {attr['attribute']: attr['field_schema'] for attr in single_site_data['attributes']}\n",
    "    datapackage_url_to_attrs = get_datapackage_url_to_attributes(single_site_data)\n",
    "    \n",
    "    datapackage_url_to_attrs_md_str = {\n",
    "        datapackage_url: pd.DataFrame(attributes).pipe(lambda df: capitalize_df_columns(df)).pipe(format_attribute_value_types, attr_to_field_schema).pipe(attrs_df_to_md_str)\n",
    "        for datapackage_url, attributes\n",
    "        in datapackage_url_to_attrs.items()\n",
    "    }\n",
    "    \n",
    "    return datapackage_url_to_attrs_md_str"
   ]
  },
  {
   "cell_type": "code",
   "execution_count": 13,
   "id": "52beb8d9-736b-4150-b9ed-35e10b662c55",
   "metadata": {},
   "outputs": [
    {
     "name": "stdout",
     "output_type": "stream",
     "text": [
      "| Attribute   |    Value |\n",
      "|:------------|---------:|\n",
      "| Longitude   | -1.26757 |\n",
      "| Latitude    | 51.6236  | \n",
      "\n",
      "| Attribute                           | GBR1000369                                                                     | GBR1000377                                                                     |\n",
      "|:------------------------------------|:-------------------------------------------------------------------------------|:-------------------------------------------------------------------------------|\n",
      "| Estimated Annual Generation in 2017 | 6820.88                                                                        | 464.0                                                                          |\n",
      "| Geolocation Source                  | GEODB                                                                          | GEODB                                                                          |\n",
      "| Installed Capacity (MW)             | 1470.0                                                                         | 100.0                                                                          |\n",
      "| Latitude                            | 51.6246                                                                        | 51.6246                                                                        |\n",
      "| Longitude                           | -1.2683                                                                        | -1.2683                                                                        |\n",
      "| Owner                               | RWE Npower Plc                                                                 | RWE Npower Plc                                                                 |\n",
      "| PLATTS-WEPP ID                      | 1023591.0                                                                      | NaN                                                                            |\n",
      "| Primary Fuel Type                   | Gas                                                                            | Gas                                                                            |\n",
      "| Source                              | Department for Business Energy & Industrial Strategy                           | Department for Business Energy & Industrial Strategy                           |\n",
      "| URL                                 | https://www.gov.uk/government/collections/digest-of-uk-energy-statistics-dukes | https://www.gov.uk/government/collections/digest-of-uk-energy-statistics-dukes | \n",
      "\n",
      "| Attribute       |   Value |\n",
      "|:----------------|--------:|\n",
      "| Tonnes CO2 2005 | 6342700 |\n",
      "| Tonnes CO2 2006 | 7184281 |\n",
      "| Tonnes CO2 2007 | 5231425 |\n",
      "| Tonnes CO2 2008 | 5182660 |\n",
      "| Tonnes CO2 2009 | 2435748 |\n",
      "| Tonnes CO2 2010 | 1795512 |\n",
      "| Tonnes CO2 2011 | 2181952 |\n",
      "| Tonnes CO2 2012 | 6838317 |\n",
      "| Tonnes CO2 2013 | 1737804 |\n",
      "| Tonnes CO2 2014 |       0 |\n",
      "| Tonnes CO2 2015 |       0 | \n",
      "\n"
     ]
    }
   ],
   "source": [
    "datapackage_url_to_attrs_md_str = get_datapackage_url_to_attrs_md_str(single_site_data)\n",
    "\n",
    "for attrs_md_str in list(datapackage_url_to_attrs_md_str.values()):\n",
    "    print(attrs_md_str, '\\n')"
   ]
  },
  {
   "cell_type": "code",
   "execution_count": null,
   "id": "eaeb4401-d674-4f82-9dd8-5f43a30ddb69",
   "metadata": {},
   "outputs": [],
   "source": []
  },
  {
   "cell_type": "code",
   "execution_count": 14,
   "id": "10c0a8ce-d1e2-4bd2-8fa3-c81d50590476",
   "metadata": {},
   "outputs": [],
   "source": [
    "#exports\n",
    "clean_dp_name = lambda dp_name: dp_name.replace('-', ' ').title()\n",
    "\n",
    "def construct_dataset_md_str(dataset_metadata, dataset_attributes):\n",
    "    title = clean_dp_name(dataset_metadata['datapackage_name'])\n",
    "    url = dataset_metadata['datapackage_json_url']\n",
    "    description = dataset_metadata['datapackage_description']\n",
    "    dictionary_column_match = dataset_metadata['related_resources'][0]['dictionary_pk_field']\n",
    "    dataset_column_match = dataset_metadata['related_resources'][0]['external_fk_field']\n",
    "\n",
    "    dataset_str = f\"\"\"##### <a href=\"{url}\">{title}</a>\n",
    "\n",
    "{description}\n",
    "\n",
    "The \\\"{dictionary_column_match}\\\" field was used to match from the dictionary to the \\\"{dataset_column_match}\\\" field in this dataset.\n",
    "\n",
    "{dataset_attributes}\\n\"\"\"\n",
    "    \n",
    "    return dataset_str\n",
    "\n",
    "def single_site_data_to_datasets_md_str(single_site_data):\n",
    "    datapackage_url_to_attrs_md_str = get_datapackage_url_to_attrs_md_str(single_site_data)\n",
    "    dataset_url_to_md_str = {}\n",
    "\n",
    "    for dataset_metadata in single_site_data['datasets'].values():\n",
    "        dataset_url = dataset_metadata['datapackage_json_url']\n",
    "        dataset_attributes = datapackage_url_to_attrs_md_str[dataset_url]\n",
    "        dataset_str = construct_dataset_md_str(dataset_metadata, dataset_attributes)\n",
    "\n",
    "        dataset_url_to_md_str[dataset_url] = dataset_str\n",
    "        \n",
    "    datasets_md_str = '### Datasets\\n' + '\\n<br><br>\\n'.join(list(dataset_url_to_md_str.values()))\n",
    "    \n",
    "    return datasets_md_str"
   ]
  },
  {
   "cell_type": "code",
   "execution_count": 15,
   "id": "86644c71-22eb-4c2b-a1d8-f6658110771c",
   "metadata": {},
   "outputs": [
    {
     "data": {
      "text/markdown": [
       "### Datasets\n",
       "##### <a href=\"https://raw.githubusercontent.com/OSUKED/Dictionary-Datasets/main/datasets/plant-locations/datapackage.json\">Plant Locations</a>\n",
       "\n",
       "Dataset listing the locations of power plants\n",
       "\n",
       "The \"osuked_id\" field was used to match from the dictionary to the \"osuked_id\" field in this dataset.\n",
       "\n",
       "| Attribute   |    Value |\n",
       "|:------------|---------:|\n",
       "| Longitude   | -1.26757 |\n",
       "| Latitude    | 51.6236  |\n",
       "\n",
       "<br><br>\n",
       "##### <a href=\"https://raw.githubusercontent.com/OSUKED/Dictionary-Datasets/main/datasets/global-power-plant-database/datapackage.json\">Global Power Plant Database</a>\n",
       "\n",
       "The Global Power Plant Database is a comprehensive, open source database of power plants around the world. It centralizes power plant data to make it easier to navigate, compare and draw insights for one’s own analysis. The database covers approximately 35,000 power plants from 167 countries and includes thermal plants (e.g. coal, gas, oil, nuclear, biomass, waste, geothermal) and renewables (e.g. hydro, wind, solar). Each power plant is geolocated and entries contain information on plant capacity, generation, ownership, and fuel type. It will be continuously updated as data becomes available. \n",
       "\n",
       "The methodology for the dataset creation is given in the World Resources Institute publication [\"A Global Database of Power Plants\"](https://www.wri.org/research/global-database-power-plants). Data updates may occur without associated updates to this manuscript.\n",
       "\n",
       "The \"gppd_idnr\" field was used to match from the dictionary to the \"gppd_idnr\" field in this dataset.\n",
       "\n",
       "| Attribute                           | GBR1000369                                                                     | GBR1000377                                                                     |\n",
       "|:------------------------------------|:-------------------------------------------------------------------------------|:-------------------------------------------------------------------------------|\n",
       "| Estimated Annual Generation in 2017 | 6820.88                                                                        | 464.0                                                                          |\n",
       "| Geolocation Source                  | GEODB                                                                          | GEODB                                                                          |\n",
       "| Installed Capacity (MW)             | 1470.0                                                                         | 100.0                                                                          |\n",
       "| Latitude                            | 51.6246                                                                        | 51.6246                                                                        |\n",
       "| Longitude                           | -1.2683                                                                        | -1.2683                                                                        |\n",
       "| Owner                               | RWE Npower Plc                                                                 | RWE Npower Plc                                                                 |\n",
       "| PLATTS-WEPP ID                      | 1023591.0                                                                      | NaN                                                                            |\n",
       "| Primary Fuel Type                   | Gas                                                                            | Gas                                                                            |\n",
       "| Source                              | Department for Business Energy & Industrial Strategy                           | Department for Business Energy & Industrial Strategy                           |\n",
       "| URL                                 | https://www.gov.uk/government/collections/digest-of-uk-energy-statistics-dukes | https://www.gov.uk/government/collections/digest-of-uk-energy-statistics-dukes |\n",
       "\n",
       "<br><br>\n",
       "##### <a href=\"https://raw.githubusercontent.com/OSUKED/Dictionary-Datasets/main/datasets/eutl/datapackage.json\">Eutl</a>\n",
       "\n",
       "This dataset reports verified emissions within the EUTL. The EU Emissions Trading System (ETS) is a central instrument of the EU's policy to fight climate change and achieve cost-efficient reductions of greenhouse gas emissions. It is the world's biggest carbon market.\n",
       "\n",
       "The \"eutl_id\" field was used to match from the dictionary to the \"account_id\" field in this dataset.\n",
       "\n",
       "| Attribute       |   Value |\n",
       "|:----------------|--------:|\n",
       "| Tonnes CO2 2005 | 6342700 |\n",
       "| Tonnes CO2 2006 | 7184281 |\n",
       "| Tonnes CO2 2007 | 5231425 |\n",
       "| Tonnes CO2 2008 | 5182660 |\n",
       "| Tonnes CO2 2009 | 2435748 |\n",
       "| Tonnes CO2 2010 | 1795512 |\n",
       "| Tonnes CO2 2011 | 2181952 |\n",
       "| Tonnes CO2 2012 | 6838317 |\n",
       "| Tonnes CO2 2013 | 1737804 |\n",
       "| Tonnes CO2 2014 |       0 |\n",
       "| Tonnes CO2 2015 |       0 |\n"
      ],
      "text/plain": [
       "<IPython.core.display.Markdown object>"
      ]
     },
     "execution_count": 15,
     "metadata": {},
     "output_type": "execute_result"
    }
   ],
   "source": [
    "datasets_md_str = single_site_data_to_datasets_md_str(single_site_data)\n",
    "\n",
    "Markdown(datasets_md_str)"
   ]
  },
  {
   "cell_type": "code",
   "execution_count": null,
   "id": "3aae34e3-9f3f-4c94-825b-48fe0e3e45d6",
   "metadata": {},
   "outputs": [],
   "source": []
  },
  {
   "cell_type": "markdown",
   "id": "619d1e26-00f2-445e-9ea9-5e235b63f0da",
   "metadata": {},
   "source": [
    "<br>\n",
    "\n",
    "### Populating the Templates"
   ]
  },
  {
   "cell_type": "code",
   "execution_count": 16,
   "id": "8e687ba0-0164-4f64-bf20-9b544b53bba7",
   "metadata": {},
   "outputs": [],
   "source": [
    "#exports\n",
    "def extract_name_from_single_site_data(single_site_data):\n",
    "    potential_names = [v['name'] for k, v in single_site_data['id_hierarchies'].items() if'name' in v.keys()]\n",
    "\n",
    "    if len(potential_names) > 0:\n",
    "        name = potential_names[0]\n",
    "        return name\n",
    "    else:\n",
    "        return None\n",
    "\n",
    "def single_site_data_to_md_str(single_site_data, root_id, datapackage_json_fp):\n",
    "    site_ids_md_str = single_site_data_to_ids_md_str(single_site_data, root_id, datapackage_json_fp)\n",
    "    datasets_md_str = single_site_data_to_datasets_md_str(single_site_data)\n",
    "\n",
    "    site_md_str = site_ids_md_str + '\\n\\n<br>\\n' + datasets_md_str\n",
    "    \n",
    "    return site_md_str\n",
    "\n",
    "def populate_and_save_template(template_fp, save_fp, render_kwargs):\n",
    "    rendered_str = Template(open(template_fp).read()).render(**render_kwargs)\n",
    "\n",
    "    with open(save_fp, 'w', encoding='utf-8') as f:\n",
    "        try:\n",
    "            f.write(rendered_str)\n",
    "        except e as exc:\n",
    "            raise exc\n",
    "            \n",
    "    return None\n",
    "\n",
    "def clean_object_names(object_names):\n",
    "    object_names = sorted(object_names)\n",
    "\n",
    "    alpha_names = [name for name in object_names if name[0].isalpha()]\n",
    "    numeric_names = [name for name in object_names if not name[0].isalpha()]\n",
    "\n",
    "    object_names = alpha_names + numeric_names\n",
    "\n",
    "    return object_names"
   ]
  },
  {
   "cell_type": "code",
   "execution_count": 23,
   "id": "d0040eb2-8012-4565-ada8-c03a603a2d33",
   "metadata": {},
   "outputs": [
    {
     "name": "stderr",
     "output_type": "stream",
     "text": [
      "100%|████████████████████████████████████████████████████████████████████████████████| 273/273 [00:05<00:00, 48.03it/s]\n"
     ]
    }
   ],
   "source": [
    "template_fp = '../templates/objects_page.md'\n",
    "object_names = []\n",
    "\n",
    "for osuked_id, single_site_data in tqdm(site_data.items()):\n",
    "    if 'attributes' in single_site_data.keys():\n",
    "        name = extract_name_from_single_site_data(single_site_data)\n",
    "\n",
    "        if name is not None:\n",
    "            name = name.replace('/', '-').strip()\n",
    "        else:\n",
    "            name = osuked_id\n",
    "\n",
    "        object_names += [name]\n",
    "        save_fp = f'../docs/objects/{name}.md'\n",
    "\n",
    "        render_kwargs = {'site_ids_md_string': single_site_data_to_md_str(single_site_data, osuked_id, datapackage_json_fp)}\n",
    "        populate_and_save_template(template_fp, save_fp, render_kwargs)\n",
    "    \n",
    "object_names = clean_object_names(object_names)"
   ]
  },
  {
   "cell_type": "code",
   "execution_count": null,
   "id": "8bcbebf4-8c32-4e33-b0a6-9e7dfd1c84a3",
   "metadata": {},
   "outputs": [],
   "source": []
  },
  {
   "cell_type": "code",
   "execution_count": 24,
   "id": "398238fd-5581-4861-9552-bf0f1d320c2b",
   "metadata": {},
   "outputs": [],
   "source": [
    "template_fp = '../templates/mkdocs.yml'\n",
    "save_fp = f'../mkdocs.yml'\n",
    "render_kwargs = {'object_names': object_names}\n",
    "\n",
    "populate_and_save_template(template_fp, save_fp, render_kwargs)"
   ]
  },
  {
   "cell_type": "code",
   "execution_count": null,
   "id": "7635dd46-00be-42ec-8574-29c7eabbd8e8",
   "metadata": {},
   "outputs": [],
   "source": []
  },
  {
   "cell_type": "code",
   "execution_count": 19,
   "id": "9cbb6a5a-3651-4586-976f-93b9ba0c906c",
   "metadata": {},
   "outputs": [],
   "source": [
    "# start work on the html templates for site pages\n",
    "# then create the dictionary template\n",
    "# add in the links between the dictionary and sites\n",
    "# create dataset pages (and link to them as well)"
   ]
  },
  {
   "cell_type": "code",
   "execution_count": null,
   "id": "ac3520e7-2ff5-4c93-9b08-d9d644e830b2",
   "metadata": {},
   "outputs": [],
   "source": []
  },
  {
   "cell_type": "code",
   "execution_count": null,
   "id": "d2271b62-f6b8-4895-984e-702e0b9e3300",
   "metadata": {},
   "outputs": [],
   "source": []
  },
  {
   "cell_type": "code",
   "execution_count": null,
   "id": "9f3cc65e-9dce-4432-9838-d682ee55d36e",
   "metadata": {},
   "outputs": [],
   "source": []
  },
  {
   "cell_type": "code",
   "execution_count": 20,
   "id": "c7d27ed6-a6d3-4cd3-a840-1011bfb89445",
   "metadata": {},
   "outputs": [
    {
     "name": "stdout",
     "output_type": "stream",
     "text": [
      "Converted 00-documentation.ipynb.\n",
      "Converted 01-combining power station data.ipynb.\n",
      "Converted 02-attribute extraction.ipynb.\n",
      "Converted 03-page-population.ipynb.\n"
     ]
    }
   ],
   "source": [
    "#hide\n",
    "from nbdev.export import *\n",
    "notebook2script()"
   ]
  }
 ],
 "metadata": {
  "kernelspec": {
   "display_name": "PowerDict",
   "language": "python",
   "name": "powerdict"
  },
  "language_info": {
   "codemirror_mode": {
    "name": "ipython",
    "version": 3
   },
   "file_extension": ".py",
   "mimetype": "text/x-python",
   "name": "python",
   "nbconvert_exporter": "python",
   "pygments_lexer": "ipython3",
   "version": "3.9.6"
  }
 },
 "nbformat": 4,
 "nbformat_minor": 5
}
