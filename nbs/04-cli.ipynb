{
 "cells": [
  {
   "cell_type": "code",
   "execution_count": 1,
   "id": "86a98626-a305-4bed-963c-6f4f0a2c76db",
   "metadata": {},
   "outputs": [],
   "source": [
    "# default_exp siteupdate"
   ]
  },
  {
   "cell_type": "code",
   "execution_count": 2,
   "id": "16509c62-6ff1-43d6-847f-13235e199cc4",
   "metadata": {},
   "outputs": [],
   "source": [
    "#exports\n",
    "import typer\n",
    "\n",
    "from powerdict import extraction, population, dictionary, datasets"
   ]
  },
  {
   "cell_type": "code",
   "execution_count": 3,
   "id": "33c6a122-6c05-4ebf-bbae-8d14ad3eb184",
   "metadata": {},
   "outputs": [],
   "source": [
    "from IPython.display import JSON"
   ]
  },
  {
   "cell_type": "code",
   "execution_count": null,
   "id": "0e77b6f7-fe49-4f0b-8b55-31e301fbbc4d",
   "metadata": {},
   "outputs": [],
   "source": []
  },
  {
   "cell_type": "code",
   "execution_count": 4,
   "id": "d0a5726a-17ec-45e8-b874-77e501cedccd",
   "metadata": {},
   "outputs": [],
   "source": [
    "#exports\n",
    "app = typer.Typer()"
   ]
  },
  {
   "cell_type": "code",
   "execution_count": null,
   "id": "66c079ba-c4ff-4581-84ee-3b9a8e72d572",
   "metadata": {},
   "outputs": [],
   "source": []
  },
  {
   "cell_type": "code",
   "execution_count": 8,
   "id": "33226ee3-4d35-4ded-861c-a52dff12a121",
   "metadata": {},
   "outputs": [],
   "source": [
    "#exports\n",
    "@app.command()\n",
    "def rebuild_site_docs(\n",
    "    datapackage_fp: str='data/dictionary/datapackage.json',\n",
    "    temp_dir_loc: str='data/attribute_sources',\n",
    "    dict_template_fp: str='templates/dictionary_page.md',\n",
    "    dict_save_fp: str=f'docs/dictionary.md',\n",
    "    mkdocs_config_fp: str='mkdocs.yml',\n",
    "    src_path: str='data/attribute_sources/',\n",
    "    trg_path: str='docs/attribute_sources/',\n",
    "    datasets_dir: str='data/attribute_sources',\n",
    "    dataset_template_fp: str='templates/dataset_page.md'\n",
    "):\n",
    "    site_data = extraction.construct_dictionary_knowledge_graph(datapackage_fp, temp_dir_loc)\n",
    "    population.construct_object_docs(datapackage_fp, site_data)\n",
    "    dictionary.populate_dictionary_page(datapackage_fp, dict_template_fp, dict_save_fp)\n",
    "    datasets.populate_dataset_pages(datasets_dir, dataset_template_fp, mkdocs_config_fp)\n",
    "    datasets.move_attribute_source_data_to_docs(src_path, trg_path)\n",
    "    \n",
    "    return site_data"
   ]
  },
  {
   "cell_type": "code",
   "execution_count": 6,
   "id": "15b20fa5-0690-4480-9c77-f8b84abe2f73",
   "metadata": {},
   "outputs": [
    {
     "name": "stderr",
     "output_type": "stream",
     "text": [
      "100%|████████████████████████████████████████████████████████████████████████████████| 277/277 [00:33<00:00,  8.26it/s]\n",
      "100%|██████████████████████████████████████████████████████████████████████████████████| 14/14 [00:00<00:00, 51.66it/s]\n"
     ]
    },
    {
     "name": "stdout",
     "output_type": "stream",
     "text": [
      "Wall time: 3min 25s\n"
     ]
    }
   ],
   "source": [
    "%%time\n",
    "\n",
    "rebuild_site_docs(\n",
    "    datapackage_fp = '../data/dictionary/datapackage.json',\n",
    "    temp_dir_loc = '../data/attribute_sources',\n",
    "    dict_template_fp = '../templates/dictionary_page.md',\n",
    "    dict_save_fp = f'../docs/dictionary.md',\n",
    "    mkdocs_config_fp = '../mkdocs.yml',\n",
    "    src_path = '../data/attribute_sources/',\n",
    "    trg_path = '../docs/attribute_sources/',\n",
    "    datasets_dir = '../data/attribute_sources',\n",
    "    dataset_template_fp = '../templates/dataset_page.md' \n",
    ")"
   ]
  },
  {
   "cell_type": "code",
   "execution_count": null,
   "id": "fb32e933-0aa3-43d9-9f5d-24df211d25c6",
   "metadata": {},
   "outputs": [],
   "source": []
  },
  {
   "cell_type": "code",
   "execution_count": 7,
   "id": "a0599f8c-47a1-45df-a133-d4cb31ba4af8",
   "metadata": {
    "collapsed": true,
    "jupyter": {
     "outputs_hidden": true
    },
    "tags": []
   },
   "outputs": [
    {
     "ename": "NameError",
     "evalue": "name 'site_data' is not defined",
     "output_type": "error",
     "traceback": [
      "\u001b[1;31m---------------------------------------------------------------------------\u001b[0m",
      "\u001b[1;31mNameError\u001b[0m                                 Traceback (most recent call last)",
      "\u001b[1;32m~\\AppData\\Local\\Temp/ipykernel_7532/2882043656.py\u001b[0m in \u001b[0;36m<module>\u001b[1;34m\u001b[0m\n\u001b[1;32m----> 1\u001b[1;33m \u001b[0mJSON\u001b[0m\u001b[1;33m(\u001b[0m\u001b[1;33m[\u001b[0m\u001b[0msite_data\u001b[0m\u001b[1;33m]\u001b[0m\u001b[1;33m)\u001b[0m\u001b[1;33m\u001b[0m\u001b[1;33m\u001b[0m\u001b[0m\n\u001b[0m",
      "\u001b[1;31mNameError\u001b[0m: name 'site_data' is not defined"
     ]
    }
   ],
   "source": [
    "JSON([site_data])"
   ]
  },
  {
   "cell_type": "code",
   "execution_count": null,
   "id": "33530cbe-fdb0-4436-8531-9d32b2ad2081",
   "metadata": {},
   "outputs": [],
   "source": []
  },
  {
   "cell_type": "code",
   "execution_count": 9,
   "id": "657322c9-0795-427b-9fa2-0d6aa1f58bd8",
   "metadata": {},
   "outputs": [],
   "source": [
    "#exports\n",
    "if __name__ == '__main__' and '__file__' in globals():\n",
    "    app()"
   ]
  },
  {
   "cell_type": "code",
   "execution_count": null,
   "id": "6ce7f4ac-bfd0-4f64-8ef0-226349b8b0be",
   "metadata": {},
   "outputs": [],
   "source": []
  },
  {
   "cell_type": "code",
   "execution_count": 10,
   "id": "00dd290e-4ecf-4c54-87b3-1c0e4885b3a6",
   "metadata": {},
   "outputs": [
    {
     "name": "stdout",
     "output_type": "stream",
     "text": [
      "Converted 00-documentation.ipynb.\n",
      "Converted 01-dictionary-page.ipynb.\n",
      "Converted 02-attribute extraction.ipynb.\n",
      "Converted 03-page-population.ipynb.\n",
      "Converted 04-cli.ipynb.\n",
      "Converted 05-carbon-intensity.ipynb.\n",
      "Converted 06-cfd-capture-price-comparison.ipynb.\n",
      "Converted 07-dataset-pages.ipynb.\n",
      "Converted 08-papers.ipynb.\n",
      "Converted 09-id-submission.ipynb.\n"
     ]
    }
   ],
   "source": [
    "#hide\n",
    "from nbdev.export import *\n",
    "notebook2script()"
   ]
  }
 ],
 "metadata": {
  "kernelspec": {
   "display_name": "PowerDict",
   "language": "python",
   "name": "powerdict"
  },
  "language_info": {
   "codemirror_mode": {
    "name": "ipython",
    "version": 3
   },
   "file_extension": ".py",
   "mimetype": "text/x-python",
   "name": "python",
   "nbconvert_exporter": "python",
   "pygments_lexer": "ipython3",
   "version": "3.9.6"
  }
 },
 "nbformat": 4,
 "nbformat_minor": 5
}
