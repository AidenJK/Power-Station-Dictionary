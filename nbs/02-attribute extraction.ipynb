{
 "cells": [
  {
   "cell_type": "code",
   "execution_count": 1,
   "id": "9e16b8d2-afa7-48e3-9edd-517ca133b1b9",
   "metadata": {},
   "outputs": [],
   "source": [
    "# default_exp extraction"
   ]
  },
  {
   "cell_type": "code",
   "execution_count": null,
   "id": "48cdf68a-6182-4f17-83fb-99c737422e39",
   "metadata": {},
   "outputs": [],
   "source": []
  },
  {
   "cell_type": "code",
   "execution_count": 2,
   "id": "19b2a32a-a8c0-43b2-b2bc-868165836c99",
   "metadata": {},
   "outputs": [],
   "source": [
    "#exports\n",
    "import numpy as np\n",
    "import pandas as pd\n",
    "import json\n",
    "\n",
    "import os\n",
    "from warnings import warn\n",
    "from urllib.request import urlopen, urlretrieve \n",
    "\n",
    "from frictionless import Package"
   ]
  },
  {
   "cell_type": "code",
   "execution_count": 3,
   "id": "174d04c4-a308-45d4-b30a-8510913a5089",
   "metadata": {},
   "outputs": [],
   "source": [
    "from IPython.display import JSON"
   ]
  },
  {
   "cell_type": "markdown",
   "id": "e558ce09-1959-4a0e-bcf4-a338a4f2971c",
   "metadata": {},
   "source": [
    "<br>\n",
    "\n",
    "### Data Loading"
   ]
  },
  {
   "cell_type": "code",
   "execution_count": 5,
   "id": "c3f14df4-d97e-432c-b79d-5c7a80318cdb",
   "metadata": {
    "tags": []
   },
   "outputs": [
    {
     "data": {
      "text/html": [
       "<div>\n",
       "<style scoped>\n",
       "    .dataframe tbody tr th:only-of-type {\n",
       "        vertical-align: middle;\n",
       "    }\n",
       "\n",
       "    .dataframe tbody tr th {\n",
       "        vertical-align: top;\n",
       "    }\n",
       "\n",
       "    .dataframe thead th {\n",
       "        text-align: right;\n",
       "    }\n",
       "</style>\n",
       "<table border=\"1\" class=\"dataframe\">\n",
       "  <thead>\n",
       "    <tr style=\"text-align: right;\">\n",
       "      <th></th>\n",
       "      <th>gppd_idnr</th>\n",
       "      <th>esail_id</th>\n",
       "      <th>name</th>\n",
       "      <th>sett_bmu_id</th>\n",
       "      <th>ngc_bmu_id</th>\n",
       "      <th>4c_offshore_id</th>\n",
       "      <th>windpowernet_id</th>\n",
       "      <th>wikidata_id</th>\n",
       "      <th>wikipedia_id</th>\n",
       "      <th>power_technology_id</th>\n",
       "      <th>eutl_id</th>\n",
       "    </tr>\n",
       "    <tr>\n",
       "      <th>osuked_id</th>\n",
       "      <th></th>\n",
       "      <th></th>\n",
       "      <th></th>\n",
       "      <th></th>\n",
       "      <th></th>\n",
       "      <th></th>\n",
       "      <th></th>\n",
       "      <th></th>\n",
       "      <th></th>\n",
       "      <th></th>\n",
       "      <th></th>\n",
       "    </tr>\n",
       "  </thead>\n",
       "  <tbody>\n",
       "    <tr>\n",
       "      <th>10000</th>\n",
       "      <td>None</td>\n",
       "      <td>MARK</td>\n",
       "      <td>Rothes Bio-Plant CHP</td>\n",
       "      <td>[E_MARK-1, E_MARK-2]</td>\n",
       "      <td>[MARK-1, MARK-2]</td>\n",
       "      <td>None</td>\n",
       "      <td>None</td>\n",
       "      <td>None</td>\n",
       "      <td>None</td>\n",
       "      <td>None</td>\n",
       "      <td>None</td>\n",
       "    </tr>\n",
       "    <tr>\n",
       "      <th>10001</th>\n",
       "      <td>[GBR1000377, GBR1000369]</td>\n",
       "      <td>DIDC</td>\n",
       "      <td>Didcot</td>\n",
       "      <td>[T_DIDC1, T_DIDC2, T_DIDC4, T_DIDC3, T_DIDC1G,...</td>\n",
       "      <td>[DIDC1, DIDC2, DIDC4, DIDC3, DIDC1G, DIDC2G, D...</td>\n",
       "      <td>None</td>\n",
       "      <td>None</td>\n",
       "      <td>None</td>\n",
       "      <td>None</td>\n",
       "      <td>None</td>\n",
       "      <td>[97165]</td>\n",
       "    </tr>\n",
       "  </tbody>\n",
       "</table>\n",
       "</div>"
      ],
      "text/plain": [
       "                          gppd_idnr esail_id                  name  \\\n",
       "osuked_id                                                            \n",
       "10000                          None     MARK  Rothes Bio-Plant CHP   \n",
       "10001      [GBR1000377, GBR1000369]     DIDC                Didcot   \n",
       "\n",
       "                                                 sett_bmu_id  \\\n",
       "osuked_id                                                      \n",
       "10000                                   [E_MARK-1, E_MARK-2]   \n",
       "10001      [T_DIDC1, T_DIDC2, T_DIDC4, T_DIDC3, T_DIDC1G,...   \n",
       "\n",
       "                                                  ngc_bmu_id 4c_offshore_id  \\\n",
       "osuked_id                                                                     \n",
       "10000                                       [MARK-1, MARK-2]           None   \n",
       "10001      [DIDC1, DIDC2, DIDC4, DIDC3, DIDC1G, DIDC2G, D...           None   \n",
       "\n",
       "          windpowernet_id wikidata_id wikipedia_id power_technology_id  \\\n",
       "osuked_id                                                                \n",
       "10000                None        None         None                None   \n",
       "10001                None        None         None                None   \n",
       "\n",
       "           eutl_id  \n",
       "osuked_id           \n",
       "10000         None  \n",
       "10001      [97165]  "
      ]
     },
     "execution_count": 5,
     "metadata": {},
     "output_type": "execute_result"
    }
   ],
   "source": [
    "package = Package('../data/dictionary/datapackage-.json', profile='tabular-data-package')\n",
    "ids_resource = package.get_resource('ids')\n",
    "\n",
    "df_ids = ids_resource.to_pandas()\n",
    "\n",
    "df_ids.head(2)"
   ]
  },
  {
   "cell_type": "code",
   "execution_count": null,
   "id": "58df2b7f-df18-4c8b-a0c9-f453af1282d4",
   "metadata": {
    "tags": []
   },
   "outputs": [],
   "source": []
  },
  {
   "cell_type": "code",
   "execution_count": 6,
   "id": "54c8223e-db1d-4fc1-9c39-99cdf14efd64",
   "metadata": {},
   "outputs": [
    {
     "data": {
      "application/json": {
       "fields": [
        {
         "description": "The identifier used to refer to power plants in the Subak data cooperative",
         "format": "default",
         "hierarchy": "root",
         "name": "osuked_id",
         "required": true,
         "title": "OSUKED ID",
         "type": "integer"
        },
        {
         "array_item": {
          "type": "string"
         },
         "description": "The identifier used in the global power plant database",
         "format": ", ",
         "hierarchy": "equivalent/child",
         "name": "gppd_idnr",
         "title": "GPPD ID",
         "type": "array"
        },
        {
         "description": "The identifier used by the Energy Systems and Artificial Intelligence Lab at UCL",
         "format": "default",
         "hierarchy": "equivalent",
         "name": "esail_id",
         "title": "ESAIL ID",
         "type": "string"
        },
        {
         "description": "The name used to refer to the power plant site",
         "format": "default",
         "hierarchy": "equivalent",
         "name": "name",
         "title": "Common Name",
         "type": "string"
        },
        {
         "array_item": {
          "type": "string"
         },
         "description": "The Balancing Mechanism Unit identifier used for settlement purposes by Elexon",
         "format": ", ",
         "hierarchy": "child",
         "name": "sett_bmu_id",
         "title": "Settlement BMU ID",
         "type": "array"
        },
        {
         "array_item": {
          "type": "string"
         },
         "description": "The Balancing Mechanism Unit identifier used by the National Grid",
         "format": ", ",
         "hierarchy": "child",
         "name": "ngc_bmu_id",
         "title": "National Grid BMU ID",
         "type": "array"
        },
        {
         "array_item": {
          "type": "string"
         },
         "description": "The identifier used by 4C-Offshore",
         "format": ", ",
         "hierarchy": "equivalent/child",
         "name": "4c_offshore_id",
         "title": "4C-Offshore ID",
         "type": "array",
         "url_format": "https://www.4coffshore.com/windfarms/united-kingdom/{value}.html"
        },
        {
         "array_item": {
          "type": "string"
         },
         "description": "The identifier used by the WindPower.Net",
         "format": ", ",
         "hierarchy": "equivalent/child",
         "name": "windpowernet_id",
         "title": "WindPowerNet ID",
         "type": "array",
         "url_format": "https://www.thewindpower.net/{value}.php"
        },
        {
         "array_item": {
          "type": "string"
         },
         "description": "The identifier used by Wikidata",
         "format": ", ",
         "hierarchy": "equivalent/child",
         "name": "wikidata_id",
         "title": "Wikidata ID",
         "type": "array",
         "url_format": "https://www.wikidata.org/wiki/{value}"
        },
        {
         "array_item": {
          "type": "string"
         },
         "description": "The identifier used by Wikipedia",
         "format": ", ",
         "hierarchy": "equivalent/child",
         "name": "wikipedia_id",
         "title": "Wikipedia ID",
         "type": "array",
         "url_format": "https://en.wikipedia.org/wiki/{value}"
        },
        {
         "array_item": {
          "type": "string"
         },
         "description": "The identifier used by Power-Technology",
         "format": ", ",
         "hierarchy": "equivalent/child",
         "name": "power_technology_id",
         "title": "Power-Technology ID",
         "type": "array",
         "url_format": "https://www.power-technology.com/projects/{value}"
        },
        {
         "array_item": {
          "type": "integer"
         },
         "description": "The identifier used in the European (Emissions Trading Scheme) Transaction Logs",
         "format": ", ",
         "hierarchy": "equivalent/child",
         "name": "eutl_id",
         "title": "EUTL ID",
         "type": "array"
        }
       ],
       "foreignKeys": [
        {
         "fields": "osuked_id",
         "reference": {
          "attributes": [
           "longitude",
           "latitude"
          ],
          "fields": "osuked_id",
          "package": "https://raw.githubusercontent.com/OSUKED/Dictionary-Datasets/main/datasets/plant-locations/datapackage.json",
          "resource": "plant-locations"
         }
        },
        {
         "fields": "osuked_id",
         "reference": {
          "attributes": [
           "plant_type",
           "hub_height"
          ],
          "fields": "osuked_id",
          "package": "https://raw.githubusercontent.com/OSUKED/Dictionary-Datasets/main/datasets/wind-farms/datapackage.json",
          "resource": "wind-farms"
         }
        },
        {
         "fields": "gppd_idnr",
         "reference": {
          "attributes": [
           "capacity_mw",
           "longitude",
           "latitude",
           "primary_fuel",
           "other_fuel1",
           "other_fuel2",
           "other_fuel3",
           "commissioning_year",
           "owner",
           "source",
           "url",
           "geolocation_source",
           "wepp_id",
           "year_of_capacity_data",
           "generation_gwh_2013",
           "generation_gwh_2014",
           "generation_gwh_2015",
           "generation_gwh_2016",
           "generation_gwh_2017",
           "generation_gwh_2018",
           "generation_gwh_2019",
           "generation_data_source",
           "estimated_generation_gwh_2013",
           "estimated_generation_gwh_2014",
           "estimated_generation_gwh_2015",
           "estimated_generation_gwh_2016",
           "estimated_generation_gwh_2017"
          ],
          "fields": "gppd_idnr",
          "package": "https://raw.githubusercontent.com/OSUKED/Dictionary-Datasets/main/datasets/global-power-plant-database/datapackage.json",
          "resource": "global-power-plant-database"
         }
        },
        {
         "fields": "eutl_id",
         "reference": {
          "attributes": [
           "2005",
           "2006",
           "2007",
           "2008",
           "2009",
           "2010",
           "2011",
           "2012",
           "2013",
           "2014",
           "2015",
           "2016",
           "2017",
           "2018",
           "2019",
           "2020",
           "2021"
          ],
          "fields": "account_id",
          "package": "https://raw.githubusercontent.com/OSUKED/Dictionary-Datasets/main/datasets/eutl/datapackage.json",
          "resource": "verified-emissions"
         }
        }
       ],
       "primaryKey": "osuked_id"
      },
      "text/plain": [
       "<IPython.core.display.JSON object>"
      ]
     },
     "execution_count": 6,
     "metadata": {
      "application/json": {
       "expanded": false,
       "root": "root"
      }
     },
     "output_type": "execute_result"
    }
   ],
   "source": [
    "JSON(ids_resource.schema)"
   ]
  },
  {
   "cell_type": "code",
   "execution_count": null,
   "id": "0a4b20b6-3327-491b-a493-f4abacc79d38",
   "metadata": {},
   "outputs": [],
   "source": []
  },
  {
   "cell_type": "markdown",
   "id": "72dd5458-0666-43a5-a99f-8d9919f23626",
   "metadata": {},
   "source": [
    "<br>\n",
    "\n",
    "### Site ID Extraction"
   ]
  },
  {
   "cell_type": "code",
   "execution_count": 7,
   "id": "8a63ad2b-f7d3-4a54-b428-7412d049a6f5",
   "metadata": {},
   "outputs": [],
   "source": [
    "#exports\n",
    "def get_field_name_tags(\n",
    "    schema: dict,\n",
    "    ids_resource_name: str='ids'\n",
    "):\n",
    "    field_name_tags = {\n",
    "        field['name']: field['hierarchy']\n",
    "        for field \n",
    "        in schema['fields']\n",
    "    }\n",
    "\n",
    "    return field_name_tags\n",
    "\n",
    "def field_hierarchies_to_root(field_hierarchies: dict):\n",
    "    root_fields = [k for k, v in field_hierarchies.items() if v=='root']\n",
    "    \n",
    "    assert len(root_fields) == 1, 'There can be only 1 field with the hierarchy: `root`'\n",
    "    root_field = root_fields[0]\n",
    "\n",
    "    return root_field\n",
    "\n",
    "def set_primary_field_as_idx(df, primary_key_field, root_field_type):\n",
    "    if primary_key_field in df.columns:\n",
    "        assert df[primary_key_field].unique().size == df.shape[0], 'There were duplicated values in the primary key field'\n",
    "        df = df.set_index(primary_key_field)\n",
    "    else:\n",
    "        assert df.index.name == primary_key_field, f'The expected primary key field, {primary_key_field}, is not within the dataset'\n",
    "        \n",
    "    if root_field_type in ['integer']:\n",
    "        df.index = df.index.astype(int)\n",
    "        \n",
    "    return df"
   ]
  },
  {
   "cell_type": "code",
   "execution_count": 8,
   "id": "ebc3fddc-6518-4f3b-ad3a-1ed6720f76a7",
   "metadata": {},
   "outputs": [
    {
     "name": "stdout",
     "output_type": "stream",
     "text": [
      "root_field: `osuked_id`\n"
     ]
    },
    {
     "data": {
      "text/plain": [
       "{'osuked_id': 'root',\n",
       " 'gppd_idnr': 'equivalent/child',\n",
       " 'esail_id': 'equivalent',\n",
       " 'name': 'equivalent',\n",
       " 'sett_bmu_id': 'child',\n",
       " 'ngc_bmu_id': 'child',\n",
       " '4c_offshore_id': 'equivalent/child',\n",
       " 'windpowernet_id': 'equivalent/child',\n",
       " 'wikidata_id': 'equivalent/child',\n",
       " 'wikipedia_id': 'equivalent/child',\n",
       " 'power_technology_id': 'equivalent/child',\n",
       " 'eutl_id': 'equivalent/child'}"
      ]
     },
     "execution_count": 8,
     "metadata": {},
     "output_type": "execute_result"
    }
   ],
   "source": [
    "field_hierarchies = get_field_name_tags(ids_resource.schema)\n",
    "root_field = field_hierarchies_to_root(field_hierarchies)\n",
    "root_field_type = [field['type'] for field in ids_resource.schema['fields'] if field['name']==root_field][0]\n",
    "\n",
    "df_ids = set_primary_field_as_idx(df_ids, root_field, root_field_type)\n",
    "\n",
    "print(f'root_field: `{root_field}`')\n",
    "field_hierarchies"
   ]
  },
  {
   "cell_type": "code",
   "execution_count": null,
   "id": "c73e594b-ebcc-4d7b-a382-209080b928e8",
   "metadata": {},
   "outputs": [],
   "source": []
  },
  {
   "cell_type": "code",
   "execution_count": 9,
   "id": "a556039b-7b52-40dd-9848-469ee89c8a24",
   "metadata": {},
   "outputs": [],
   "source": [
    "#exports\n",
    "get_dict_head = lambda dict_, n=5: pd.Series(dict_).head(n).to_dict()\n",
    "\n",
    "def initialise_site_data_with_ids(df_ids):\n",
    "    valid_hierarchy_types = ['root', 'parent', 'child', 'equivalent', 'equivalent/parent', 'equivalent/child']\n",
    "\n",
    "    site_data = {}\n",
    "    id_cols = df_ids.columns\n",
    "\n",
    "    for idx, *ids in df_ids.itertuples():\n",
    "        site_data[idx] = {}\n",
    "        site_data[idx]['id_hierarchies'] = {}\n",
    "        site_data[idx]['id_hierarchies']['parent'] = {}\n",
    "        site_data[idx]['id_hierarchies']['child'] = {}\n",
    "        site_data[idx]['id_hierarchies']['equivalent'] = {}\n",
    "\n",
    "        for id_type, id_value in pd.Series(dict(zip(id_cols, ids))).dropna().items():\n",
    "            field_hierarchy = field_hierarchies[id_type]\n",
    "            assert field_hierarchy in valid_hierarchy_types, f'The {field_hierarchy} field did not have a valid hierarchical attribute'\n",
    "\n",
    "            if 'equivalent/' in field_hierarchy:\n",
    "                hierarchy_if_not_array, hierarchy_if_array = field_hierarchy.split('/')\n",
    "\n",
    "                if isinstance(id_value, list):\n",
    "                    if len(id_value) > 1:\n",
    "                        site_data[idx]['id_hierarchies'][hierarchy_if_array][id_type] = id_value\n",
    "                    else:\n",
    "                        site_data[idx]['id_hierarchies'][hierarchy_if_not_array][id_type] = id_value[0]\n",
    "            else:\n",
    "                site_data[idx]['id_hierarchies'][field_hierarchy][id_type] = id_value\n",
    "        \n",
    "    return site_data"
   ]
  },
  {
   "cell_type": "code",
   "execution_count": 10,
   "id": "b52e3f1d-0eda-483d-be76-5c56b6c31963",
   "metadata": {},
   "outputs": [
    {
     "data": {
      "application/json": {
       "10000": {
        "id_hierarchies": {
         "child": {
          "ngc_bmu_id": [
           "MARK-1",
           "MARK-2"
          ],
          "sett_bmu_id": [
           "E_MARK-1",
           "E_MARK-2"
          ]
         },
         "equivalent": {
          "esail_id": "MARK",
          "name": "Rothes Bio-Plant CHP"
         },
         "parent": {}
        }
       },
       "10001": {
        "id_hierarchies": {
         "child": {
          "gppd_idnr": [
           "GBR1000377",
           "GBR1000369"
          ],
          "ngc_bmu_id": [
           "DIDC1",
           "DIDC2",
           "DIDC4",
           "DIDC3",
           "DIDC1G",
           "DIDC2G",
           "DIDC3G",
           "DIDC4G",
           "DIDC01G",
           "DIDC02G",
           "DIDC03G",
           "DIDC04G",
           "DIDCB5",
           "DIDCB6"
          ],
          "sett_bmu_id": [
           "T_DIDC1",
           "T_DIDC2",
           "T_DIDC4",
           "T_DIDC3",
           "T_DIDC1G",
           "T_DIDC2G",
           "T_DIDC3G",
           "T_DIDC4G",
           "E_DIDC1G",
           "E_DIDC2G",
           "E_DIDC3G",
           "E_DIDC4G",
           "T_DIDCB5",
           "T_DIDCB6"
          ]
         },
         "equivalent": {
          "esail_id": "DIDC",
          "eutl_id": 97165,
          "name": "Didcot"
         },
         "parent": {}
        }
       },
       "10002": {
        "id_hierarchies": {
         "child": {
          "gppd_idnr": [
           "GBR1000374",
           "GBR1000375"
          ],
          "ngc_bmu_id": [
           "ABTH7",
           "ABTH8",
           "ABTH9",
           "ABTH7G",
           "ABTH8G",
           "ABTH9G"
          ],
          "sett_bmu_id": [
           "T_ABTH7",
           "T_ABTH8",
           "T_ABTH9",
           "T_ABTH7G",
           "T_ABTH8G",
           "T_ABTH9G"
          ]
         },
         "equivalent": {
          "esail_id": "ABTH",
          "eutl_id": 97175,
          "name": "Aberthaw B"
         },
         "parent": {}
        }
       },
       "10003": {
        "id_hierarchies": {
         "child": {
          "ngc_bmu_id": [
           "COTPS-1",
           "COTPS-2",
           "COTPS-3",
           "COTPS-4"
          ],
          "sett_bmu_id": [
           "T_COTPS-1",
           "T_COTPS-2",
           "T_COTPS-3",
           "T_COTPS-4"
          ]
         },
         "equivalent": {
          "esail_id": "COTPS",
          "eutl_id": 97778,
          "gppd_idnr": "GBR1000142",
          "name": "Cottam"
         },
         "parent": {}
        }
       },
       "10004": {
        "id_hierarchies": {
         "child": {
          "gppd_idnr": [
           "GBR0000174",
           "GBR1000112"
          ],
          "ngc_bmu_id": [
           "DRAXX-1",
           "DRAXX-2",
           "DRAXX-3",
           "DRAXX-4",
           "DRAXX-5",
           "DRAXX-6",
           "DRAXX-10G",
           "DRAXX-12G",
           "DRAXX-9G"
          ],
          "sett_bmu_id": [
           "T_DRAXX-1",
           "T_DRAXX-2",
           "T_DRAXX-3",
           "T_DRAXX-4",
           "T_DRAXX-5",
           "T_DRAXX-6",
           "T_DRAXX-10G",
           "T_DRAXX-12G",
           "T_DRAXX-9G"
          ]
         },
         "equivalent": {
          "esail_id": "DRAXX",
          "eutl_id": 96842,
          "name": "Drax"
         },
         "parent": {}
        }
       }
      },
      "text/plain": [
       "<IPython.core.display.JSON object>"
      ]
     },
     "execution_count": 10,
     "metadata": {
      "application/json": {
       "expanded": false,
       "root": "root"
      }
     },
     "output_type": "execute_result"
    }
   ],
   "source": [
    "site_data = initialise_site_data_with_ids(df_ids)\n",
    "\n",
    "JSON(get_dict_head(site_data))"
   ]
  },
  {
   "cell_type": "markdown",
   "id": "2c05facf-d85f-4eec-b0ac-cc06fb0b51ac",
   "metadata": {},
   "source": [
    "<br>\n",
    "\n",
    "### Site Datasets Extraction"
   ]
  },
  {
   "cell_type": "code",
   "execution_count": 11,
   "id": "cfc20aa5-4c08-4648-8bc4-111c2488203d",
   "metadata": {},
   "outputs": [],
   "source": [
    "#exports\n",
    "def datapackage_ref_to_ds_schema(datapackage_ref):\n",
    "    dp_url = datapackage_ref['package']\n",
    "    resource = datapackage_ref['resource']\n",
    "\n",
    "    dp_schema = json.load(urlopen(dp_url))\n",
    "    \n",
    "    ds_schema = [\n",
    "        resource\n",
    "        for resource \n",
    "        in dp_schema['resources']\n",
    "        if resource['name'] == datapackage_ref['resource']\n",
    "    ][0]\n",
    "    \n",
    "    return ds_schema\n",
    "\n",
    "def extract_external_foreignkey_datapackage_refs(resource, primary_key_field):\n",
    "    fk_external_datapackage_refs = [\n",
    "        {\n",
    "            'package': fk['reference']['package'],\n",
    "            'resource': fk['reference']['resource'],\n",
    "            'attributes': fk['reference']['attributes'],\n",
    "            'dictionary_pk_field': fk['fields'],\n",
    "            'external_fk_field': fk['reference']['fields']\n",
    "        }\n",
    "        for fk \n",
    "        in resource.schema['foreignKeys'] \n",
    "        if ('package' in fk['reference'].keys())\n",
    "    ]\n",
    "    \n",
    "    for i, datapackage_ref in enumerate(fk_external_datapackage_refs):\n",
    "        ds_schema = datapackage_ref_to_ds_schema(datapackage_ref)\n",
    "        fk_external_datapackage_refs[i]['attribute_fields'] = {field['name']: field for field in ds_schema['schema']['fields']}\n",
    "\n",
    "    return fk_external_datapackage_refs"
   ]
  },
  {
   "cell_type": "code",
   "execution_count": 12,
   "id": "cdb5059e-a180-4585-918f-808a847d287c",
   "metadata": {},
   "outputs": [
    {
     "name": "stdout",
     "output_type": "stream",
     "text": [
      "Wall time: 1.28 s\n"
     ]
    },
    {
     "data": {
      "application/json": [
       {
        "attribute_fields": {
         "latitude": {
          "description": "The north-south position of a point on the Earth's surface",
          "format": "default",
          "name": "latitude",
          "title": "Latitude",
          "type": "number"
         },
         "longitude": {
          "description": "The east–west position of a point on the Earth's surface",
          "format": "default",
          "name": "longitude",
          "title": "Longitude",
          "type": "number"
         },
         "osuked_id": {
          "description": "The identifier used to refer to power plants in the Subak data cooperative",
          "format": "default",
          "name": "osuked_id",
          "title": "OSUKED ID",
          "type": "integer"
         }
        },
        "attributes": [
         "longitude",
         "latitude"
        ],
        "dictionary_pk_field": "osuked_id",
        "external_fk_field": "osuked_id",
        "package": "https://raw.githubusercontent.com/OSUKED/Dictionary-Datasets/main/datasets/plant-locations/datapackage.json",
        "resource": "plant-locations"
       },
       {
        "attribute_fields": {
         "hub_height": {
          "description": "The distance from the turbine platform to the rotor of the installed turbines at a wind farm",
          "format": "default",
          "name": "hub_height",
          "title": "Hub-Height",
          "type": "number"
         },
         "osuked_id": {
          "description": "The identifier used to refer to power plants in the Subak data cooperative",
          "format": "default",
          "name": "osuked_id",
          "title": "OSUKED ID",
          "type": "integer"
         },
         "plant_type": {
          "description": "The type of wind farm, primarily onshore/offshore",
          "format": "default",
          "name": "plant_type",
          "title": "Plant Type",
          "type": "string"
         }
        },
        "attributes": [
         "plant_type",
         "hub_height"
        ],
        "dictionary_pk_field": "osuked_id",
        "external_fk_field": "osuked_id",
        "package": "https://raw.githubusercontent.com/OSUKED/Dictionary-Datasets/main/datasets/wind-farms/datapackage.json",
        "resource": "wind-farms"
       },
       {
        "attribute_fields": {
         "capacity_mw": {
          "description": "Installed electrical capacity of eachpower plant (MW) ",
          "format": "default",
          "name": "capacity_mw",
          "title": "Installed Capacity (MW) ",
          "type": "number"
         },
         "commissioning_year": {
          "description": "The first year the plant generated electricity",
          "format": "default",
          "name": "commissioning_year",
          "title": "Commissioning Year",
          "type": "year"
         },
         "country": {
          "description": "The 3-letter ISO 3166-1 alpha code for each country",
          "format": "default",
          "name": "country",
          "title": "Country Code",
          "type": "string"
         },
         "country_long": {
          "description": "The name of the country the power plant is located within",
          "format": "default",
          "name": "country_long",
          "title": "Country Name",
          "type": "string"
         },
         "estimated_generation_gwh_2013": {
          "description": "Estimated annual generation (during 2013) in gigawatt hours (GWhs), gross",
          "format": "default",
          "name": "estimated_generation_gwh_2013",
          "title": "Estimated Annual Generation in 2013",
          "type": "number"
         },
         "estimated_generation_gwh_2014": {
          "description": "Estimated annual generation (during 2014) in gigawatt hours (GWhs), gross",
          "format": "default",
          "name": "estimated_generation_gwh_2014",
          "title": "Estimated Annual Generation in 2014",
          "type": "number"
         },
         "estimated_generation_gwh_2015": {
          "description": "Estimated annual generation (during 2015) in gigawatt hours (GWhs), gross",
          "format": "default",
          "name": "estimated_generation_gwh_2015",
          "title": "Estimated Annual Generation in 2015",
          "type": "number"
         },
         "estimated_generation_gwh_2016": {
          "description": "Estimated annual generation (during 2016) in gigawatt hours (GWhs), gross",
          "format": "default",
          "name": "estimated_generation_gwh_2016",
          "title": "Estimated Annual Generation in 2016",
          "type": "number"
         },
         "estimated_generation_gwh_2017": {
          "description": "Estimated annual generation (during 2017) in gigawatt hours (GWhs), gross",
          "format": "default",
          "name": "estimated_generation_gwh_2017",
          "title": "Estimated Annual Generation in 2017",
          "type": "number"
         },
         "estimated_generation_note_2013": {
          "description": "A note on the estimation process behind calculating gross annual generation (during 2013)",
          "format": "default",
          "name": "estimated_generation_note_2013",
          "title": "Estimated Annual Generation Note for 2013",
          "type": "string"
         },
         "estimated_generation_note_2014": {
          "description": "A note on the estimation process behind calculating gross annual generation (during 2014)",
          "format": "default",
          "name": "estimated_generation_note_2014",
          "title": "Estimated Annual Generation Note for 2014",
          "type": "string"
         },
         "estimated_generation_note_2015": {
          "description": "A note on the estimation process behind calculating gross annual generation (during 2015)",
          "format": "default",
          "name": "estimated_generation_note_2015",
          "title": "Estimated Annual Generation Note for 2015",
          "type": "string"
         },
         "estimated_generation_note_2016": {
          "description": "A note on the estimation process behind calculating gross annual generation (during 2016)",
          "format": "default",
          "name": "estimated_generation_note_2016",
          "title": "Estimated Annual Generation Note for 2016",
          "type": "string"
         },
         "estimated_generation_note_2017": {
          "description": "A note on the estimation process behind calculating gross annual generation (during 2017)",
          "format": "default",
          "name": "estimated_generation_note_2017",
          "title": "Estimated Annual Generation Note for 2017",
          "type": "string"
         },
         "generation_data_source": {
          "description": "The source of the generation data on each power plant",
          "format": "default",
          "name": "generation_data_source",
          "title": "Generation Source",
          "type": "string"
         },
         "generation_gwh_2013": {
          "description": "Annual generation (during 2013) in gigawatt hours (GWhs), gross",
          "format": "default",
          "name": "generation_gwh_2013",
          "title": "Annual Generation in 2013",
          "type": "number"
         },
         "generation_gwh_2014": {
          "description": "Annual generation (during 2014) in gigawatt hours (GWhs), gross",
          "format": "default",
          "name": "generation_gwh_2014",
          "title": "Annual Generation in 2014",
          "type": "number"
         },
         "generation_gwh_2015": {
          "description": "Annual generation (during 2015) in gigawatt hours (GWhs), gross",
          "format": "default",
          "name": "generation_gwh_2015",
          "title": "Annual Generation in 2015",
          "type": "number"
         },
         "generation_gwh_2016": {
          "description": "Annual generation (during 2016) in gigawatt hours (GWhs), gross",
          "format": "default",
          "name": "generation_gwh_2016",
          "title": "Annual Generation in 2016",
          "type": "number"
         },
         "generation_gwh_2017": {
          "description": "Annual generation (during 2017) in gigawatt hours (GWhs), gross",
          "format": "default",
          "name": "generation_gwh_2017",
          "title": "Annual Generation in 2017",
          "type": "number"
         },
         "generation_gwh_2018": {
          "description": "Annual generation (during 2018) in gigawatt hours (GWhs), gross",
          "format": "default",
          "name": "generation_gwh_2018",
          "title": "Annual Generation in 2018",
          "type": "number"
         },
         "generation_gwh_2019": {
          "description": "Annual generation (during 2019) in gigawatt hours (GWhs), gross",
          "format": "default",
          "name": "generation_gwh_2019",
          "title": "Annual Generation in 2019",
          "type": "number"
         },
         "geolocation_source": {
          "description": "The source of the spatial data on each power plant",
          "format": "default",
          "name": "geolocation_source",
          "title": "Geolocation Source",
          "type": "string"
         },
         "gppd_idnr": {
          "description": "The unique identifier for each power plant in the Global Power Plant Database",
          "format": "default",
          "name": "gppd_idnr",
          "title": "GPPD ID",
          "type": "string"
         },
         "latitude": {
          "description": "The north-south position of a point on the Earth's surface",
          "format": "default",
          "name": "latitude",
          "title": "Latitude",
          "type": "number"
         },
         "longitude": {
          "description": "The east–west position of a point on the Earth's surface",
          "format": "default",
          "name": "longitude",
          "title": "Longitude",
          "type": "number"
         },
         "name": {
          "description": "The name of the power plant",
          "format": "default",
          "name": "name",
          "title": "Name",
          "type": "string"
         },
         "other_fuel1": {
          "description": "The secondary fuel used by the power plant",
          "format": "default",
          "name": "other_fuel1",
          "title": "Secondary Fuel Type",
          "type": "string"
         },
         "other_fuel2": {
          "description": "The tertiary fuel used by the power plant",
          "format": "default",
          "name": "other_fuel2",
          "title": "Tertiary Fuel Type",
          "type": "string"
         },
         "other_fuel3": {
          "description": "The quaternary fuel used by the power plant",
          "format": "default",
          "name": "other_fuel3",
          "title": "Quaternary Fuel Type",
          "type": "string"
         },
         "owner": {
          "description": "The primary owner of the power plant",
          "format": "default",
          "name": "owner",
          "title": "Owner",
          "type": "string"
         },
         "primary_fuel": {
          "description": "The primary fuel used by the power plant",
          "format": "default",
          "name": "primary_fuel",
          "title": "Primary Fuel Type",
          "type": "string"
         },
         "source": {
          "description": "The source of the data on each power plant",
          "format": "default",
          "name": "source",
          "title": "Source",
          "type": "string"
         },
         "url": {
          "description": "URL linking directly to data source",
          "format": "default",
          "name": "url",
          "title": "URL",
          "type": "string"
         },
         "wepp_id": {
          "description": "The unique identifier used to refer to power plants in the PLATTS-WEBB dataset",
          "format": "default",
          "name": "wepp_id",
          "title": "PLATTS-WEPP ID",
          "type": "number"
         },
         "year_of_capacity_data": {
          "description": "The year of the reported capacity value",
          "format": "default",
          "name": "year_of_capacity_data",
          "title": "Year of Capacity Report",
          "type": "year"
         }
        },
        "attributes": [
         "capacity_mw",
         "longitude",
         "latitude",
         "primary_fuel",
         "other_fuel1",
         "other_fuel2",
         "other_fuel3",
         "commissioning_year",
         "owner",
         "source",
         "url",
         "geolocation_source",
         "wepp_id",
         "year_of_capacity_data",
         "generation_gwh_2013",
         "generation_gwh_2014",
         "generation_gwh_2015",
         "generation_gwh_2016",
         "generation_gwh_2017",
         "generation_gwh_2018",
         "generation_gwh_2019",
         "generation_data_source",
         "estimated_generation_gwh_2013",
         "estimated_generation_gwh_2014",
         "estimated_generation_gwh_2015",
         "estimated_generation_gwh_2016",
         "estimated_generation_gwh_2017"
        ],
        "dictionary_pk_field": "gppd_idnr",
        "external_fk_field": "gppd_idnr",
        "package": "https://raw.githubusercontent.com/OSUKED/Dictionary-Datasets/main/datasets/global-power-plant-database/datapackage.json",
        "resource": "global-power-plant-database"
       },
       {
        "attribute_fields": {
         "2005": {
          "description": "Tonnes of CO2 released in 2005",
          "format": "default",
          "name": "2005",
          "title": "Tonnes CO2 2005",
          "type": "integer"
         },
         "2006": {
          "description": "Tonnes of CO2 released in 2006",
          "format": "default",
          "name": "2006",
          "title": "Tonnes CO2 2006",
          "type": "integer"
         },
         "2007": {
          "description": "Tonnes of CO2 released in 2007",
          "format": "default",
          "name": "2007",
          "title": "Tonnes CO2 2007",
          "type": "integer"
         },
         "2008": {
          "description": "Tonnes of CO2 released in 2008",
          "format": "default",
          "name": "2008",
          "title": "Tonnes CO2 2008",
          "type": "integer"
         },
         "2009": {
          "description": "Tonnes of CO2 released in 2009",
          "format": "default",
          "name": "2009",
          "title": "Tonnes CO2 2009",
          "type": "integer"
         },
         "2010": {
          "description": "Tonnes of CO2 released in 2010",
          "format": "default",
          "name": "2010",
          "title": "Tonnes CO2 2010",
          "type": "integer"
         },
         "2011": {
          "description": "Tonnes of CO2 released in 2011",
          "format": "default",
          "name": "2011",
          "title": "Tonnes CO2 2011",
          "type": "integer"
         },
         "2012": {
          "description": "Tonnes of CO2 released in 2012",
          "format": "default",
          "name": "2012",
          "title": "Tonnes CO2 2012",
          "type": "integer"
         },
         "2013": {
          "description": "Tonnes of CO2 released in 2013",
          "format": "default",
          "name": "2013",
          "title": "Tonnes CO2 2013",
          "type": "integer"
         },
         "2014": {
          "description": "Tonnes of CO2 released in 2014",
          "format": "default",
          "name": "2014",
          "title": "Tonnes CO2 2014",
          "type": "integer"
         },
         "2015": {
          "description": "Tonnes of CO2 released in 2015",
          "format": "default",
          "name": "2015",
          "title": "Tonnes CO2 2015",
          "type": "integer"
         },
         "2016": {
          "description": "Tonnes of CO2 released in 2016",
          "format": "default",
          "name": "2016",
          "title": "Tonnes CO2 2016",
          "type": "integer"
         },
         "2017": {
          "description": "Tonnes of CO2 released in 2017",
          "format": "default",
          "name": "2017",
          "title": "Tonnes CO2 2017",
          "type": "integer"
         },
         "2018": {
          "description": "Tonnes of CO2 released in 2018",
          "format": "default",
          "name": "2018",
          "title": "Tonnes CO2 2018",
          "type": "integer"
         },
         "2019": {
          "description": "Tonnes of CO2 released in 2019",
          "format": "default",
          "name": "2019",
          "title": "Tonnes CO2 2019",
          "type": "integer"
         },
         "2020": {
          "description": "Tonnes of CO2 released in 2020",
          "format": "default",
          "name": "2020",
          "title": "Tonnes CO2 2020",
          "type": "integer"
         },
         "2021": {
          "description": "Tonnes of CO2 released in 2021",
          "format": "default",
          "name": "2021",
          "title": "Tonnes CO2 2021",
          "type": "integer"
         },
         "account_id": {
          "description": "The unique identifier for an EU Transaction Log contract",
          "format": "default",
          "name": "account_id",
          "title": "EUTL ID",
          "type": "integer"
         }
        },
        "attributes": [
         "2005",
         "2006",
         "2007",
         "2008",
         "2009",
         "2010",
         "2011",
         "2012",
         "2013",
         "2014",
         "2015",
         "2016",
         "2017",
         "2018",
         "2019",
         "2020",
         "2021"
        ],
        "dictionary_pk_field": "eutl_id",
        "external_fk_field": "account_id",
        "package": "https://raw.githubusercontent.com/OSUKED/Dictionary-Datasets/main/datasets/eutl/datapackage.json",
        "resource": "verified-emissions"
       }
      ],
      "text/plain": [
       "<IPython.core.display.JSON object>"
      ]
     },
     "execution_count": 12,
     "metadata": {
      "application/json": {
       "expanded": false,
       "root": "root"
      }
     },
     "output_type": "execute_result"
    }
   ],
   "source": [
    "%%time\n",
    "\n",
    "fk_external_datapackage_refs = extract_external_foreignkey_datapackage_refs(ids_resource, primary_key_field=root_field)\n",
    "\n",
    "JSON(fk_external_datapackage_refs)"
   ]
  },
  {
   "cell_type": "code",
   "execution_count": null,
   "id": "37523be7-2f39-44b4-b2a4-151c93de4c45",
   "metadata": {},
   "outputs": [],
   "source": []
  },
  {
   "cell_type": "code",
   "execution_count": 13,
   "id": "c1bd0230-5f2a-45eb-a5e1-3d01773a319f",
   "metadata": {},
   "outputs": [],
   "source": [
    "#exports\n",
    "def add_resource_locs_to_external_datapackage_refs(fk_external_datapackage_refs: str) -> dict:\n",
    "    for i, fk_external_datapackage_ref in enumerate(fk_external_datapackage_refs):\n",
    "        external_datapackage_basepath = '/'.join(fk_external_datapackage_ref['package'].split('/')[:-1])\n",
    "        external_datapackage_json = json.load(urlopen(fk_external_datapackage_ref['package']))\n",
    "\n",
    "        fk_external_datapackage_refs[i]['resource_loc'] = [\n",
    "            f\"{external_datapackage_basepath}/{resource['path']}\" \n",
    "            for resource \n",
    "            in external_datapackage_json['resources']\n",
    "            if resource['name'] == fk_external_datapackage_ref['resource']\n",
    "        ][0]\n",
    "        \n",
    "        fk_external_datapackage_refs[i]['name'] = external_datapackage_json['name']\n",
    "        \n",
    "    return fk_external_datapackage_refs"
   ]
  },
  {
   "cell_type": "code",
   "execution_count": 14,
   "id": "00d6586a-c117-43e6-83da-e9c4516aaa8b",
   "metadata": {},
   "outputs": [
    {
     "data": {
      "application/json": [
       {
        "attribute_fields": {
         "latitude": {
          "description": "The north-south position of a point on the Earth's surface",
          "format": "default",
          "name": "latitude",
          "title": "Latitude",
          "type": "number"
         },
         "longitude": {
          "description": "The east–west position of a point on the Earth's surface",
          "format": "default",
          "name": "longitude",
          "title": "Longitude",
          "type": "number"
         },
         "osuked_id": {
          "description": "The identifier used to refer to power plants in the Subak data cooperative",
          "format": "default",
          "name": "osuked_id",
          "title": "OSUKED ID",
          "type": "integer"
         }
        },
        "attributes": [
         "longitude",
         "latitude"
        ],
        "dictionary_pk_field": "osuked_id",
        "external_fk_field": "osuked_id",
        "name": "plant-locations",
        "package": "https://raw.githubusercontent.com/OSUKED/Dictionary-Datasets/main/datasets/plant-locations/datapackage.json",
        "resource": "plant-locations",
        "resource_loc": "https://raw.githubusercontent.com/OSUKED/Dictionary-Datasets/main/datasets/plant-locations/plant-locations.csv"
       },
       {
        "attribute_fields": {
         "hub_height": {
          "description": "The distance from the turbine platform to the rotor of the installed turbines at a wind farm",
          "format": "default",
          "name": "hub_height",
          "title": "Hub-Height",
          "type": "number"
         },
         "osuked_id": {
          "description": "The identifier used to refer to power plants in the Subak data cooperative",
          "format": "default",
          "name": "osuked_id",
          "title": "OSUKED ID",
          "type": "integer"
         },
         "plant_type": {
          "description": "The type of wind farm, primarily onshore/offshore",
          "format": "default",
          "name": "plant_type",
          "title": "Plant Type",
          "type": "string"
         }
        },
        "attributes": [
         "plant_type",
         "hub_height"
        ],
        "dictionary_pk_field": "osuked_id",
        "external_fk_field": "osuked_id",
        "name": "wind-farms",
        "package": "https://raw.githubusercontent.com/OSUKED/Dictionary-Datasets/main/datasets/wind-farms/datapackage.json",
        "resource": "wind-farms",
        "resource_loc": "https://raw.githubusercontent.com/OSUKED/Dictionary-Datasets/main/datasets/wind-farms/wind-farms.csv"
       },
       {
        "attribute_fields": {
         "capacity_mw": {
          "description": "Installed electrical capacity of eachpower plant (MW) ",
          "format": "default",
          "name": "capacity_mw",
          "title": "Installed Capacity (MW) ",
          "type": "number"
         },
         "commissioning_year": {
          "description": "The first year the plant generated electricity",
          "format": "default",
          "name": "commissioning_year",
          "title": "Commissioning Year",
          "type": "year"
         },
         "country": {
          "description": "The 3-letter ISO 3166-1 alpha code for each country",
          "format": "default",
          "name": "country",
          "title": "Country Code",
          "type": "string"
         },
         "country_long": {
          "description": "The name of the country the power plant is located within",
          "format": "default",
          "name": "country_long",
          "title": "Country Name",
          "type": "string"
         },
         "estimated_generation_gwh_2013": {
          "description": "Estimated annual generation (during 2013) in gigawatt hours (GWhs), gross",
          "format": "default",
          "name": "estimated_generation_gwh_2013",
          "title": "Estimated Annual Generation in 2013",
          "type": "number"
         },
         "estimated_generation_gwh_2014": {
          "description": "Estimated annual generation (during 2014) in gigawatt hours (GWhs), gross",
          "format": "default",
          "name": "estimated_generation_gwh_2014",
          "title": "Estimated Annual Generation in 2014",
          "type": "number"
         },
         "estimated_generation_gwh_2015": {
          "description": "Estimated annual generation (during 2015) in gigawatt hours (GWhs), gross",
          "format": "default",
          "name": "estimated_generation_gwh_2015",
          "title": "Estimated Annual Generation in 2015",
          "type": "number"
         },
         "estimated_generation_gwh_2016": {
          "description": "Estimated annual generation (during 2016) in gigawatt hours (GWhs), gross",
          "format": "default",
          "name": "estimated_generation_gwh_2016",
          "title": "Estimated Annual Generation in 2016",
          "type": "number"
         },
         "estimated_generation_gwh_2017": {
          "description": "Estimated annual generation (during 2017) in gigawatt hours (GWhs), gross",
          "format": "default",
          "name": "estimated_generation_gwh_2017",
          "title": "Estimated Annual Generation in 2017",
          "type": "number"
         },
         "estimated_generation_note_2013": {
          "description": "A note on the estimation process behind calculating gross annual generation (during 2013)",
          "format": "default",
          "name": "estimated_generation_note_2013",
          "title": "Estimated Annual Generation Note for 2013",
          "type": "string"
         },
         "estimated_generation_note_2014": {
          "description": "A note on the estimation process behind calculating gross annual generation (during 2014)",
          "format": "default",
          "name": "estimated_generation_note_2014",
          "title": "Estimated Annual Generation Note for 2014",
          "type": "string"
         },
         "estimated_generation_note_2015": {
          "description": "A note on the estimation process behind calculating gross annual generation (during 2015)",
          "format": "default",
          "name": "estimated_generation_note_2015",
          "title": "Estimated Annual Generation Note for 2015",
          "type": "string"
         },
         "estimated_generation_note_2016": {
          "description": "A note on the estimation process behind calculating gross annual generation (during 2016)",
          "format": "default",
          "name": "estimated_generation_note_2016",
          "title": "Estimated Annual Generation Note for 2016",
          "type": "string"
         },
         "estimated_generation_note_2017": {
          "description": "A note on the estimation process behind calculating gross annual generation (during 2017)",
          "format": "default",
          "name": "estimated_generation_note_2017",
          "title": "Estimated Annual Generation Note for 2017",
          "type": "string"
         },
         "generation_data_source": {
          "description": "The source of the generation data on each power plant",
          "format": "default",
          "name": "generation_data_source",
          "title": "Generation Source",
          "type": "string"
         },
         "generation_gwh_2013": {
          "description": "Annual generation (during 2013) in gigawatt hours (GWhs), gross",
          "format": "default",
          "name": "generation_gwh_2013",
          "title": "Annual Generation in 2013",
          "type": "number"
         },
         "generation_gwh_2014": {
          "description": "Annual generation (during 2014) in gigawatt hours (GWhs), gross",
          "format": "default",
          "name": "generation_gwh_2014",
          "title": "Annual Generation in 2014",
          "type": "number"
         },
         "generation_gwh_2015": {
          "description": "Annual generation (during 2015) in gigawatt hours (GWhs), gross",
          "format": "default",
          "name": "generation_gwh_2015",
          "title": "Annual Generation in 2015",
          "type": "number"
         },
         "generation_gwh_2016": {
          "description": "Annual generation (during 2016) in gigawatt hours (GWhs), gross",
          "format": "default",
          "name": "generation_gwh_2016",
          "title": "Annual Generation in 2016",
          "type": "number"
         },
         "generation_gwh_2017": {
          "description": "Annual generation (during 2017) in gigawatt hours (GWhs), gross",
          "format": "default",
          "name": "generation_gwh_2017",
          "title": "Annual Generation in 2017",
          "type": "number"
         },
         "generation_gwh_2018": {
          "description": "Annual generation (during 2018) in gigawatt hours (GWhs), gross",
          "format": "default",
          "name": "generation_gwh_2018",
          "title": "Annual Generation in 2018",
          "type": "number"
         },
         "generation_gwh_2019": {
          "description": "Annual generation (during 2019) in gigawatt hours (GWhs), gross",
          "format": "default",
          "name": "generation_gwh_2019",
          "title": "Annual Generation in 2019",
          "type": "number"
         },
         "geolocation_source": {
          "description": "The source of the spatial data on each power plant",
          "format": "default",
          "name": "geolocation_source",
          "title": "Geolocation Source",
          "type": "string"
         },
         "gppd_idnr": {
          "description": "The unique identifier for each power plant in the Global Power Plant Database",
          "format": "default",
          "name": "gppd_idnr",
          "title": "GPPD ID",
          "type": "string"
         },
         "latitude": {
          "description": "The north-south position of a point on the Earth's surface",
          "format": "default",
          "name": "latitude",
          "title": "Latitude",
          "type": "number"
         },
         "longitude": {
          "description": "The east–west position of a point on the Earth's surface",
          "format": "default",
          "name": "longitude",
          "title": "Longitude",
          "type": "number"
         },
         "name": {
          "description": "The name of the power plant",
          "format": "default",
          "name": "name",
          "title": "Name",
          "type": "string"
         },
         "other_fuel1": {
          "description": "The secondary fuel used by the power plant",
          "format": "default",
          "name": "other_fuel1",
          "title": "Secondary Fuel Type",
          "type": "string"
         },
         "other_fuel2": {
          "description": "The tertiary fuel used by the power plant",
          "format": "default",
          "name": "other_fuel2",
          "title": "Tertiary Fuel Type",
          "type": "string"
         },
         "other_fuel3": {
          "description": "The quaternary fuel used by the power plant",
          "format": "default",
          "name": "other_fuel3",
          "title": "Quaternary Fuel Type",
          "type": "string"
         },
         "owner": {
          "description": "The primary owner of the power plant",
          "format": "default",
          "name": "owner",
          "title": "Owner",
          "type": "string"
         },
         "primary_fuel": {
          "description": "The primary fuel used by the power plant",
          "format": "default",
          "name": "primary_fuel",
          "title": "Primary Fuel Type",
          "type": "string"
         },
         "source": {
          "description": "The source of the data on each power plant",
          "format": "default",
          "name": "source",
          "title": "Source",
          "type": "string"
         },
         "url": {
          "description": "URL linking directly to data source",
          "format": "default",
          "name": "url",
          "title": "URL",
          "type": "string"
         },
         "wepp_id": {
          "description": "The unique identifier used to refer to power plants in the PLATTS-WEBB dataset",
          "format": "default",
          "name": "wepp_id",
          "title": "PLATTS-WEPP ID",
          "type": "number"
         },
         "year_of_capacity_data": {
          "description": "The year of the reported capacity value",
          "format": "default",
          "name": "year_of_capacity_data",
          "title": "Year of Capacity Report",
          "type": "year"
         }
        },
        "attributes": [
         "capacity_mw",
         "longitude",
         "latitude",
         "primary_fuel",
         "other_fuel1",
         "other_fuel2",
         "other_fuel3",
         "commissioning_year",
         "owner",
         "source",
         "url",
         "geolocation_source",
         "wepp_id",
         "year_of_capacity_data",
         "generation_gwh_2013",
         "generation_gwh_2014",
         "generation_gwh_2015",
         "generation_gwh_2016",
         "generation_gwh_2017",
         "generation_gwh_2018",
         "generation_gwh_2019",
         "generation_data_source",
         "estimated_generation_gwh_2013",
         "estimated_generation_gwh_2014",
         "estimated_generation_gwh_2015",
         "estimated_generation_gwh_2016",
         "estimated_generation_gwh_2017"
        ],
        "dictionary_pk_field": "gppd_idnr",
        "external_fk_field": "gppd_idnr",
        "name": "global-power-plant-database",
        "package": "https://raw.githubusercontent.com/OSUKED/Dictionary-Datasets/main/datasets/global-power-plant-database/datapackage.json",
        "resource": "global-power-plant-database",
        "resource_loc": "https://raw.githubusercontent.com/OSUKED/Dictionary-Datasets/main/datasets/global-power-plant-database/global_power_plant_database.csv"
       },
       {
        "attribute_fields": {
         "2005": {
          "description": "Tonnes of CO2 released in 2005",
          "format": "default",
          "name": "2005",
          "title": "Tonnes CO2 2005",
          "type": "integer"
         },
         "2006": {
          "description": "Tonnes of CO2 released in 2006",
          "format": "default",
          "name": "2006",
          "title": "Tonnes CO2 2006",
          "type": "integer"
         },
         "2007": {
          "description": "Tonnes of CO2 released in 2007",
          "format": "default",
          "name": "2007",
          "title": "Tonnes CO2 2007",
          "type": "integer"
         },
         "2008": {
          "description": "Tonnes of CO2 released in 2008",
          "format": "default",
          "name": "2008",
          "title": "Tonnes CO2 2008",
          "type": "integer"
         },
         "2009": {
          "description": "Tonnes of CO2 released in 2009",
          "format": "default",
          "name": "2009",
          "title": "Tonnes CO2 2009",
          "type": "integer"
         },
         "2010": {
          "description": "Tonnes of CO2 released in 2010",
          "format": "default",
          "name": "2010",
          "title": "Tonnes CO2 2010",
          "type": "integer"
         },
         "2011": {
          "description": "Tonnes of CO2 released in 2011",
          "format": "default",
          "name": "2011",
          "title": "Tonnes CO2 2011",
          "type": "integer"
         },
         "2012": {
          "description": "Tonnes of CO2 released in 2012",
          "format": "default",
          "name": "2012",
          "title": "Tonnes CO2 2012",
          "type": "integer"
         },
         "2013": {
          "description": "Tonnes of CO2 released in 2013",
          "format": "default",
          "name": "2013",
          "title": "Tonnes CO2 2013",
          "type": "integer"
         },
         "2014": {
          "description": "Tonnes of CO2 released in 2014",
          "format": "default",
          "name": "2014",
          "title": "Tonnes CO2 2014",
          "type": "integer"
         },
         "2015": {
          "description": "Tonnes of CO2 released in 2015",
          "format": "default",
          "name": "2015",
          "title": "Tonnes CO2 2015",
          "type": "integer"
         },
         "2016": {
          "description": "Tonnes of CO2 released in 2016",
          "format": "default",
          "name": "2016",
          "title": "Tonnes CO2 2016",
          "type": "integer"
         },
         "2017": {
          "description": "Tonnes of CO2 released in 2017",
          "format": "default",
          "name": "2017",
          "title": "Tonnes CO2 2017",
          "type": "integer"
         },
         "2018": {
          "description": "Tonnes of CO2 released in 2018",
          "format": "default",
          "name": "2018",
          "title": "Tonnes CO2 2018",
          "type": "integer"
         },
         "2019": {
          "description": "Tonnes of CO2 released in 2019",
          "format": "default",
          "name": "2019",
          "title": "Tonnes CO2 2019",
          "type": "integer"
         },
         "2020": {
          "description": "Tonnes of CO2 released in 2020",
          "format": "default",
          "name": "2020",
          "title": "Tonnes CO2 2020",
          "type": "integer"
         },
         "2021": {
          "description": "Tonnes of CO2 released in 2021",
          "format": "default",
          "name": "2021",
          "title": "Tonnes CO2 2021",
          "type": "integer"
         },
         "account_id": {
          "description": "The unique identifier for an EU Transaction Log contract",
          "format": "default",
          "name": "account_id",
          "title": "EUTL ID",
          "type": "integer"
         }
        },
        "attributes": [
         "2005",
         "2006",
         "2007",
         "2008",
         "2009",
         "2010",
         "2011",
         "2012",
         "2013",
         "2014",
         "2015",
         "2016",
         "2017",
         "2018",
         "2019",
         "2020",
         "2021"
        ],
        "dictionary_pk_field": "eutl_id",
        "external_fk_field": "account_id",
        "name": "eutl",
        "package": "https://raw.githubusercontent.com/OSUKED/Dictionary-Datasets/main/datasets/eutl/datapackage.json",
        "resource": "verified-emissions",
        "resource_loc": "https://raw.githubusercontent.com/OSUKED/Dictionary-Datasets/main/datasets/eutl/verified_emissions.csv"
       }
      ],
      "text/plain": [
       "<IPython.core.display.JSON object>"
      ]
     },
     "execution_count": 14,
     "metadata": {
      "application/json": {
       "expanded": false,
       "root": "root"
      }
     },
     "output_type": "execute_result"
    }
   ],
   "source": [
    "fk_external_datapackage_refs = add_resource_locs_to_external_datapackage_refs(fk_external_datapackage_refs)\n",
    "\n",
    "JSON(fk_external_datapackage_refs)"
   ]
  },
  {
   "cell_type": "code",
   "execution_count": null,
   "id": "1c14a604-3b40-4292-adc4-cb5d1cd29d77",
   "metadata": {},
   "outputs": [],
   "source": []
  },
  {
   "cell_type": "code",
   "execution_count": 15,
   "id": "4ce701b6-f8ec-407a-bb98-7917acd5e97f",
   "metadata": {},
   "outputs": [],
   "source": [
    "#exports\n",
    "def create_dir(dir_loc: str='./temp'):\n",
    "    if not os.path.isdir(dir_loc):\n",
    "        os.mkdir(dir_loc)\n",
    "    else:\n",
    "        warn(f'The directory `{dir_loc}` already exists')\n",
    "        \n",
    "    return None\n",
    "\n",
    "def download_attribute_data_to_temp_dir(\n",
    "    fk_external_datapackage_refs: dict,\n",
    "    temp_dir_loc: str='./temp'\n",
    "):\n",
    "    create_dir(temp_dir_loc)\n",
    "\n",
    "    for fk_external_datapackage_ref in fk_external_datapackage_refs:\n",
    "        datapackage_name = fk_external_datapackage_ref['name']\n",
    "        datapackage_files = [fk_external_datapackage_ref['resource_loc'], fk_external_datapackage_ref['package']]\n",
    "        \n",
    "        datapackage_temp_dir = f'{temp_dir_loc}/{datapackage_name}'\n",
    "        create_dir(datapackage_temp_dir)\n",
    "        \n",
    "        for file_to_download in datapackage_files:\n",
    "            filename = file_to_download.split('/')[-1]\n",
    "            urlretrieve(file_to_download, f'{datapackage_temp_dir}/{filename}')\n",
    "        \n",
    "    return"
   ]
  },
  {
   "cell_type": "code",
   "execution_count": 16,
   "id": "fba930ad-119e-4483-9d2a-89b23b7e9878",
   "metadata": {},
   "outputs": [
    {
     "name": "stderr",
     "output_type": "stream",
     "text": [
      "C:\\Users\\Ayrto\\AppData\\Local\\Temp/ipykernel_20496/3128062640.py:6: UserWarning: The directory `../data/attribute_sources` already exists\n",
      "  warn(f'The directory `{dir_loc}` already exists')\n",
      "C:\\Users\\Ayrto\\AppData\\Local\\Temp/ipykernel_20496/3128062640.py:6: UserWarning: The directory `../data/attribute_sources/plant-locations` already exists\n",
      "  warn(f'The directory `{dir_loc}` already exists')\n",
      "C:\\Users\\Ayrto\\AppData\\Local\\Temp/ipykernel_20496/3128062640.py:6: UserWarning: The directory `../data/attribute_sources/wind-farms` already exists\n",
      "  warn(f'The directory `{dir_loc}` already exists')\n",
      "C:\\Users\\Ayrto\\AppData\\Local\\Temp/ipykernel_20496/3128062640.py:6: UserWarning: The directory `../data/attribute_sources/global-power-plant-database` already exists\n",
      "  warn(f'The directory `{dir_loc}` already exists')\n",
      "C:\\Users\\Ayrto\\AppData\\Local\\Temp/ipykernel_20496/3128062640.py:6: UserWarning: The directory `../data/attribute_sources/eutl` already exists\n",
      "  warn(f'The directory `{dir_loc}` already exists')\n"
     ]
    }
   ],
   "source": [
    "temp_dir_loc = '../data/attribute_sources'\n",
    "\n",
    "download_attribute_data_to_temp_dir(fk_external_datapackage_refs, temp_dir_loc=temp_dir_loc)"
   ]
  },
  {
   "cell_type": "code",
   "execution_count": null,
   "id": "d32586d6-66c9-4f6f-8349-18a67dd7ce1b",
   "metadata": {},
   "outputs": [],
   "source": []
  },
  {
   "cell_type": "code",
   "execution_count": 17,
   "id": "e78473a8-32c6-4d34-9aa1-99b940d94270",
   "metadata": {},
   "outputs": [],
   "source": [
    "#exports\n",
    "def load_datapackage(datapackage_ref, dir_loc='./temp', return_type='df', set_index=True):\n",
    "    datapackage_fp = f\"{temp_dir_loc}/{datapackage_ref['package'].split('/')[-2]}/datapackage.json\"\n",
    "    datapackage_resource = datapackage_ref['resource']\n",
    "\n",
    "    external_datapackage = Package(datapackage_fp)\n",
    "    resource = external_datapackage.get_resource(datapackage_resource)\n",
    "    \n",
    "    if return_type == 'package':\n",
    "        \n",
    "        return external_datapackage\n",
    "    elif return_type == 'resource':\n",
    "        return resource\n",
    "    \n",
    "    elif return_type == 'df':\n",
    "        df_resource = resource.to_pandas()\n",
    "        \n",
    "        if set_index == True:\n",
    "            assert isinstance(datapackage_ref['external_fk_field'], str) or len(datapackage_ref['external_fk_field']==1), 'Only one primary key was expected to be matched on in the external datapackage'\n",
    "            field_type = [field['type'] for field in resource.schema['fields'] if field['name']==datapackage_ref['external_fk_field']][0]\n",
    "            df_resource = set_primary_field_as_idx(df_resource, datapackage_ref['external_fk_field'], field_type)\n",
    "\n",
    "        return df_resource\n",
    "    \n",
    "    else:\n",
    "        raise ValueError('`` must be one of [\"df\", \"resource\", \"package\"]')\n",
    "        return resource\n",
    "\n",
    "def load_resource_attr_dfs(fk_external_datapackage_refs, temp_dir_loc):\n",
    "    resource_attr_dfs = []\n",
    "\n",
    "    for datapackage_ref in fk_external_datapackage_refs:\n",
    "        df_external_resource_attrs = load_datapackage(datapackage_ref, dir_loc=temp_dir_loc)\n",
    "        \n",
    "        attrs_to_extract = datapackage_ref['attributes']\n",
    "        df_external_resource_attrs = df_external_resource_attrs[attrs_to_extract]\n",
    "\n",
    "        df_external_resource_attrs.name = datapackage_ref['package']\n",
    "        resource_attr_dfs += [df_external_resource_attrs]\n",
    "        \n",
    "    return resource_attr_dfs"
   ]
  },
  {
   "cell_type": "code",
   "execution_count": 18,
   "id": "839f61d6-716a-41c3-95ec-b5070ab9b614",
   "metadata": {},
   "outputs": [
    {
     "name": "stdout",
     "output_type": "stream",
     "text": [
      "Wall time: 10 s\n"
     ]
    },
    {
     "data": {
      "text/html": [
       "<div>\n",
       "<style scoped>\n",
       "    .dataframe tbody tr th:only-of-type {\n",
       "        vertical-align: middle;\n",
       "    }\n",
       "\n",
       "    .dataframe tbody tr th {\n",
       "        vertical-align: top;\n",
       "    }\n",
       "\n",
       "    .dataframe thead th {\n",
       "        text-align: right;\n",
       "    }\n",
       "</style>\n",
       "<table border=\"1\" class=\"dataframe\">\n",
       "  <thead>\n",
       "    <tr style=\"text-align: right;\">\n",
       "      <th></th>\n",
       "      <th>capacity_mw</th>\n",
       "      <th>longitude</th>\n",
       "      <th>latitude</th>\n",
       "      <th>primary_fuel</th>\n",
       "      <th>other_fuel1</th>\n",
       "      <th>other_fuel2</th>\n",
       "      <th>other_fuel3</th>\n",
       "      <th>commissioning_year</th>\n",
       "      <th>owner</th>\n",
       "      <th>source</th>\n",
       "      <th>...</th>\n",
       "      <th>generation_gwh_2016</th>\n",
       "      <th>generation_gwh_2017</th>\n",
       "      <th>generation_gwh_2018</th>\n",
       "      <th>generation_gwh_2019</th>\n",
       "      <th>generation_data_source</th>\n",
       "      <th>estimated_generation_gwh_2013</th>\n",
       "      <th>estimated_generation_gwh_2014</th>\n",
       "      <th>estimated_generation_gwh_2015</th>\n",
       "      <th>estimated_generation_gwh_2016</th>\n",
       "      <th>estimated_generation_gwh_2017</th>\n",
       "    </tr>\n",
       "    <tr>\n",
       "      <th>gppd_idnr</th>\n",
       "      <th></th>\n",
       "      <th></th>\n",
       "      <th></th>\n",
       "      <th></th>\n",
       "      <th></th>\n",
       "      <th></th>\n",
       "      <th></th>\n",
       "      <th></th>\n",
       "      <th></th>\n",
       "      <th></th>\n",
       "      <th></th>\n",
       "      <th></th>\n",
       "      <th></th>\n",
       "      <th></th>\n",
       "      <th></th>\n",
       "      <th></th>\n",
       "      <th></th>\n",
       "      <th></th>\n",
       "      <th></th>\n",
       "      <th></th>\n",
       "      <th></th>\n",
       "    </tr>\n",
       "  </thead>\n",
       "  <tbody>\n",
       "    <tr>\n",
       "      <th>GEODB0040538</th>\n",
       "      <td>33.0</td>\n",
       "      <td>65.119</td>\n",
       "      <td>32.322</td>\n",
       "      <td>Hydro</td>\n",
       "      <td>None</td>\n",
       "      <td>None</td>\n",
       "      <td>None</td>\n",
       "      <td>&lt;NA&gt;</td>\n",
       "      <td>None</td>\n",
       "      <td>GEODB</td>\n",
       "      <td>...</td>\n",
       "      <td>NaN</td>\n",
       "      <td>NaN</td>\n",
       "      <td>NaN</td>\n",
       "      <td>NaN</td>\n",
       "      <td>None</td>\n",
       "      <td>123.77</td>\n",
       "      <td>162.90</td>\n",
       "      <td>97.39</td>\n",
       "      <td>137.76</td>\n",
       "      <td>119.50</td>\n",
       "    </tr>\n",
       "    <tr>\n",
       "      <th>WKS0070144</th>\n",
       "      <td>10.0</td>\n",
       "      <td>65.795</td>\n",
       "      <td>31.670</td>\n",
       "      <td>Solar</td>\n",
       "      <td>None</td>\n",
       "      <td>None</td>\n",
       "      <td>None</td>\n",
       "      <td>&lt;NA&gt;</td>\n",
       "      <td>None</td>\n",
       "      <td>Wiki-Solar</td>\n",
       "      <td>...</td>\n",
       "      <td>NaN</td>\n",
       "      <td>NaN</td>\n",
       "      <td>NaN</td>\n",
       "      <td>NaN</td>\n",
       "      <td>None</td>\n",
       "      <td>18.43</td>\n",
       "      <td>17.48</td>\n",
       "      <td>18.25</td>\n",
       "      <td>17.70</td>\n",
       "      <td>18.29</td>\n",
       "    </tr>\n",
       "    <tr>\n",
       "      <th>WKS0071196</th>\n",
       "      <td>10.0</td>\n",
       "      <td>65.792</td>\n",
       "      <td>31.623</td>\n",
       "      <td>Solar</td>\n",
       "      <td>None</td>\n",
       "      <td>None</td>\n",
       "      <td>None</td>\n",
       "      <td>&lt;NA&gt;</td>\n",
       "      <td>None</td>\n",
       "      <td>Wiki-Solar</td>\n",
       "      <td>...</td>\n",
       "      <td>NaN</td>\n",
       "      <td>NaN</td>\n",
       "      <td>NaN</td>\n",
       "      <td>NaN</td>\n",
       "      <td>None</td>\n",
       "      <td>18.64</td>\n",
       "      <td>17.58</td>\n",
       "      <td>19.10</td>\n",
       "      <td>17.62</td>\n",
       "      <td>18.72</td>\n",
       "    </tr>\n",
       "  </tbody>\n",
       "</table>\n",
       "<p>3 rows × 27 columns</p>\n",
       "</div>"
      ],
      "text/plain": [
       "              capacity_mw  longitude  latitude primary_fuel other_fuel1  \\\n",
       "gppd_idnr                                                                 \n",
       "GEODB0040538         33.0     65.119    32.322        Hydro        None   \n",
       "WKS0070144           10.0     65.795    31.670        Solar        None   \n",
       "WKS0071196           10.0     65.792    31.623        Solar        None   \n",
       "\n",
       "             other_fuel2 other_fuel3  commissioning_year owner      source  \\\n",
       "gppd_idnr                                                                    \n",
       "GEODB0040538        None        None                <NA>  None       GEODB   \n",
       "WKS0070144          None        None                <NA>  None  Wiki-Solar   \n",
       "WKS0071196          None        None                <NA>  None  Wiki-Solar   \n",
       "\n",
       "              ... generation_gwh_2016 generation_gwh_2017  \\\n",
       "gppd_idnr     ...                                           \n",
       "GEODB0040538  ...                 NaN                 NaN   \n",
       "WKS0070144    ...                 NaN                 NaN   \n",
       "WKS0071196    ...                 NaN                 NaN   \n",
       "\n",
       "              generation_gwh_2018  generation_gwh_2019  \\\n",
       "gppd_idnr                                                \n",
       "GEODB0040538                  NaN                  NaN   \n",
       "WKS0070144                    NaN                  NaN   \n",
       "WKS0071196                    NaN                  NaN   \n",
       "\n",
       "              generation_data_source  estimated_generation_gwh_2013  \\\n",
       "gppd_idnr                                                             \n",
       "GEODB0040538                    None                         123.77   \n",
       "WKS0070144                      None                          18.43   \n",
       "WKS0071196                      None                          18.64   \n",
       "\n",
       "              estimated_generation_gwh_2014  estimated_generation_gwh_2015  \\\n",
       "gppd_idnr                                                                    \n",
       "GEODB0040538                         162.90                          97.39   \n",
       "WKS0070144                            17.48                          18.25   \n",
       "WKS0071196                            17.58                          19.10   \n",
       "\n",
       "              estimated_generation_gwh_2016  estimated_generation_gwh_2017  \n",
       "gppd_idnr                                                                   \n",
       "GEODB0040538                         137.76                         119.50  \n",
       "WKS0070144                            17.70                          18.29  \n",
       "WKS0071196                            17.62                          18.72  \n",
       "\n",
       "[3 rows x 27 columns]"
      ]
     },
     "execution_count": 18,
     "metadata": {},
     "output_type": "execute_result"
    }
   ],
   "source": [
    "%%time\n",
    "\n",
    "resource_attr_dfs = load_resource_attr_dfs(fk_external_datapackage_refs, temp_dir_loc)\n",
    "\n",
    "resource_attr_dfs[2].head(3)"
   ]
  },
  {
   "cell_type": "code",
   "execution_count": null,
   "id": "395b6270-77b9-4315-8e04-04eb47c96ac5",
   "metadata": {},
   "outputs": [],
   "source": []
  },
  {
   "cell_type": "code",
   "execution_count": 19,
   "id": "0c0eeef6-f833-4683-b01f-9bd1e2e7e5be",
   "metadata": {},
   "outputs": [],
   "source": [
    "get_datapackage_ref = lambda datapackage_refs, datapackage_url: [dp_ref for dp_ref in datapackage_refs if dp_ref['package']==datapackage_url][0]\n",
    "\n",
    "def load_dataset_ref(datapackage_url, datapackage_refs, dir_loc='./temp'):\n",
    "    dp_ref = get_datapackage_ref(datapackage_refs, datapackage_url)\n",
    "    package = load_datapackage(dp_ref, dir_loc=dir_loc, return_type='package')\n",
    "\n",
    "    dataset_ref = {\n",
    "        \"datapackage_json_url\": dp_ref['package'],\n",
    "        \"datapackage_name\": dp_ref['package'].split('/')[-2],\n",
    "        \"datapackage_description\": package['description'],\n",
    "        \"related_resources\": [\n",
    "            {\n",
    "                \"resource_url\": dp_ref['resource_loc'],\n",
    "                \"resource_name\": dp_ref['resource'],\n",
    "                \"dictionary_pk_field\": dp_ref['dictionary_pk_field'],\n",
    "                \"external_fk_field\": dp_ref['external_fk_field'],\n",
    "                \"extracted_attributes\": dp_ref['attributes']\n",
    "            }\n",
    "        ]\n",
    "    }\n",
    "    \n",
    "    return dataset_ref"
   ]
  },
  {
   "cell_type": "code",
   "execution_count": 20,
   "id": "3f2b732e-8029-4027-97b0-c887a8388ccb",
   "metadata": {},
   "outputs": [
    {
     "data": {
      "application/json": {
       "datapackage_description": "The Global Power Plant Database is a comprehensive, open source database of power plants around the world. It centralizes power plant data to make it easier to navigate, compare and draw insights for one’s own analysis. The database covers approximately 35,000 power plants from 167 countries and includes thermal plants (e.g. coal, gas, oil, nuclear, biomass, waste, geothermal) and renewables (e.g. hydro, wind, solar). Each power plant is geolocated and entries contain information on plant capacity, generation, ownership, and fuel type. It will be continuously updated as data becomes available. \n\nThe methodology for the dataset creation is given in the World Resources Institute publication [\"A Global Database of Power Plants\"](https://www.wri.org/research/global-database-power-plants). Data updates may occur without associated updates to this manuscript.",
       "datapackage_json_url": "https://raw.githubusercontent.com/OSUKED/Dictionary-Datasets/main/datasets/global-power-plant-database/datapackage.json",
       "datapackage_name": "global-power-plant-database",
       "related_resources": [
        {
         "dictionary_pk_field": "gppd_idnr",
         "external_fk_field": "gppd_idnr",
         "extracted_attributes": [
          "capacity_mw",
          "longitude",
          "latitude",
          "primary_fuel",
          "other_fuel1",
          "other_fuel2",
          "other_fuel3",
          "commissioning_year",
          "owner",
          "source",
          "url",
          "geolocation_source",
          "wepp_id",
          "year_of_capacity_data",
          "generation_gwh_2013",
          "generation_gwh_2014",
          "generation_gwh_2015",
          "generation_gwh_2016",
          "generation_gwh_2017",
          "generation_gwh_2018",
          "generation_gwh_2019",
          "generation_data_source",
          "estimated_generation_gwh_2013",
          "estimated_generation_gwh_2014",
          "estimated_generation_gwh_2015",
          "estimated_generation_gwh_2016",
          "estimated_generation_gwh_2017"
         ],
         "resource_name": "global-power-plant-database",
         "resource_url": "https://raw.githubusercontent.com/OSUKED/Dictionary-Datasets/main/datasets/global-power-plant-database/global_power_plant_database.csv"
        }
       ]
      },
      "text/plain": [
       "<IPython.core.display.JSON object>"
      ]
     },
     "execution_count": 20,
     "metadata": {
      "application/json": {
       "expanded": false,
       "root": "root"
      }
     },
     "output_type": "execute_result"
    }
   ],
   "source": [
    "datapackage_url = resource_attr_dfs[2].name\n",
    "dataset_ref = load_dataset_ref(datapackage_url, fk_external_datapackage_refs, dir_loc=temp_dir_loc)\n",
    "\n",
    "JSON(dataset_ref)"
   ]
  },
  {
   "cell_type": "code",
   "execution_count": null,
   "id": "6fd71c43-e515-4dd3-a091-898ae1364b59",
   "metadata": {},
   "outputs": [],
   "source": []
  },
  {
   "cell_type": "code",
   "execution_count": 21,
   "id": "9002dac6-5227-459e-aea1-6095db4cf948",
   "metadata": {
    "tags": []
   },
   "outputs": [],
   "source": [
    "# from fd array.py load the type_to_class dict\n",
    "# extract the field_descriptor from the resource schema (load from json and look for the field)\n",
    "# field = array_item_class(field_descriptor)\n",
    "# field.read_cell()"
   ]
  },
  {
   "cell_type": "code",
   "execution_count": null,
   "id": "cf82448f-d60a-4c8c-a6ea-7b3605b83831",
   "metadata": {},
   "outputs": [],
   "source": []
  },
  {
   "cell_type": "code",
   "execution_count": 22,
   "id": "9dbe75b3-f159-44cd-a33a-cea991b13e07",
   "metadata": {},
   "outputs": [],
   "source": [
    "#exports\n",
    "flatten_list = lambda list_: [item for sublist in list_ for item in sublist]\n",
    "drop_duplicates_attrs = lambda attrs, subset=None: pd.DataFrame(attrs).drop_duplicates(subset=subset).to_dict(orient='records')\n",
    "\n",
    "def load_full_id_map(single_site_data):\n",
    "    full_id_map = {}\n",
    "\n",
    "    for hierarchy_ids in single_site_data['id_hierarchies'].values():\n",
    "        full_id_map.update(hierarchy_ids)\n",
    "\n",
    "    return full_id_map\n",
    "\n",
    "def extract_attrs_from_resource_dfs(site_data, datapackage_refs, temp_dir_loc, root_id='osuked_id'):\n",
    "    dp_schemas = {}\n",
    "    resource_attr_dfs = load_resource_attr_dfs(datapackage_refs, temp_dir_loc)\n",
    "    \n",
    "    for site_id in site_data.keys():\n",
    "        site_data[site_id]['datasets'] = {}\n",
    "        full_id_map = load_full_id_map(site_data[site_id])\n",
    "        full_id_map[root_id] = site_id\n",
    "        \n",
    "        for df_resource_attrs in resource_attr_dfs:\n",
    "            dp_url = df_resource_attrs.name\n",
    "            \n",
    "            datapackage_ref = get_datapackage_ref(datapackage_refs, dp_url)\n",
    "            dataset_ref = load_dataset_ref(df_resource_attrs.name, datapackage_refs, dir_loc=temp_dir_loc)\n",
    "            \n",
    "            if datapackage_ref['dictionary_pk_field'] in full_id_map.keys():\n",
    "                dict_ids = full_id_map[datapackage_ref['dictionary_pk_field']]\n",
    "                \n",
    "                if not isinstance(dict_ids, list):\n",
    "                    dict_ids = [dict_ids]\n",
    "\n",
    "                matched_dict_ids = sorted(list(set(df_resource_attrs.index).intersection(set(dict_ids))))\n",
    "\n",
    "                if len(matched_dict_ids) > 0:\n",
    "                    # datasets                \n",
    "                    if dp_url not in site_data[site_id]['datasets'].keys():\n",
    "                        site_data[site_id]['datasets'][dp_url] = dataset_ref\n",
    "                    else:\n",
    "                        site_data[site_id]['datasets'][dp_url]['related_resources'] += dataset_ref['related_resources']\n",
    "\n",
    "                    # attributes\n",
    "                    site_attrs_from_resource = df_resource_attrs.loc[matched_dict_ids].dropna(how='all', axis=1).to_dict(orient='records')\n",
    "                    \n",
    "                    reshaped_site_attrs = flatten_list([\n",
    "                        [\n",
    "                            {\n",
    "                                'source': dp_url, \n",
    "                                'id': dict_id, \n",
    "                                'attribute': datapackage_ref['attribute_fields'][k]['title'], \n",
    "                                'field_schema': datapackage_ref['attribute_fields'][k], \n",
    "                                'value': v\n",
    "                            } \n",
    "                            for k, v \n",
    "                            in dict_.items()\n",
    "                        ] \n",
    "                        for dict_id, dict_ \n",
    "                        in zip(matched_dict_ids, site_attrs_from_resource)\n",
    "                    ])\n",
    "\n",
    "                    if len(site_attrs_from_resource) >= 1:\n",
    "                        if 'attributes' not in site_data[site_id].keys():\n",
    "                            site_data[site_id]['attributes'] = []\n",
    "\n",
    "                        site_data[site_id]['attributes'] += reshaped_site_attrs\n",
    "                        \n",
    "                        subset = list(set(site_data[site_id]['attributes'][0].keys())-{'field_schema'}) # this assumes all attribute entries have the same keys\n",
    "                        site_data[site_id]['attributes'] = drop_duplicates_attrs(site_data[site_id]['attributes'], subset=subset)\n",
    "                \n",
    "    return site_data"
   ]
  },
  {
   "cell_type": "code",
   "execution_count": 23,
   "id": "6b08197f-e210-4fb7-8f4d-23aa7a6f2716",
   "metadata": {
    "tags": []
   },
   "outputs": [
    {
     "name": "stdout",
     "output_type": "stream",
     "text": [
      "Wall time: 16.3 s\n"
     ]
    },
    {
     "data": {
      "text/html": [
       "<div>\n",
       "<style scoped>\n",
       "    .dataframe tbody tr th:only-of-type {\n",
       "        vertical-align: middle;\n",
       "    }\n",
       "\n",
       "    .dataframe tbody tr th {\n",
       "        vertical-align: top;\n",
       "    }\n",
       "\n",
       "    .dataframe thead th {\n",
       "        text-align: right;\n",
       "    }\n",
       "</style>\n",
       "<table border=\"1\" class=\"dataframe\">\n",
       "  <thead>\n",
       "    <tr style=\"text-align: right;\">\n",
       "      <th></th>\n",
       "      <th>source</th>\n",
       "      <th>id</th>\n",
       "      <th>attribute</th>\n",
       "      <th>value</th>\n",
       "    </tr>\n",
       "  </thead>\n",
       "  <tbody>\n",
       "    <tr>\n",
       "      <th>0</th>\n",
       "      <td>https://raw.githubusercontent.com/OSUKED/Dicti...</td>\n",
       "      <td>10001</td>\n",
       "      <td>Longitude</td>\n",
       "      <td>-1.26757</td>\n",
       "    </tr>\n",
       "    <tr>\n",
       "      <th>1</th>\n",
       "      <td>https://raw.githubusercontent.com/OSUKED/Dicti...</td>\n",
       "      <td>10001</td>\n",
       "      <td>Latitude</td>\n",
       "      <td>51.62363</td>\n",
       "    </tr>\n",
       "    <tr>\n",
       "      <th>2</th>\n",
       "      <td>https://raw.githubusercontent.com/OSUKED/Dicti...</td>\n",
       "      <td>GBR1000369</td>\n",
       "      <td>Installed Capacity (MW)</td>\n",
       "      <td>1470.0</td>\n",
       "    </tr>\n",
       "    <tr>\n",
       "      <th>3</th>\n",
       "      <td>https://raw.githubusercontent.com/OSUKED/Dicti...</td>\n",
       "      <td>GBR1000369</td>\n",
       "      <td>Longitude</td>\n",
       "      <td>-1.2683</td>\n",
       "    </tr>\n",
       "    <tr>\n",
       "      <th>4</th>\n",
       "      <td>https://raw.githubusercontent.com/OSUKED/Dicti...</td>\n",
       "      <td>GBR1000369</td>\n",
       "      <td>Latitude</td>\n",
       "      <td>51.6246</td>\n",
       "    </tr>\n",
       "  </tbody>\n",
       "</table>\n",
       "</div>"
      ],
      "text/plain": [
       "                                              source          id  \\\n",
       "0  https://raw.githubusercontent.com/OSUKED/Dicti...       10001   \n",
       "1  https://raw.githubusercontent.com/OSUKED/Dicti...       10001   \n",
       "2  https://raw.githubusercontent.com/OSUKED/Dicti...  GBR1000369   \n",
       "3  https://raw.githubusercontent.com/OSUKED/Dicti...  GBR1000369   \n",
       "4  https://raw.githubusercontent.com/OSUKED/Dicti...  GBR1000369   \n",
       "\n",
       "                  attribute     value  \n",
       "0                 Longitude  -1.26757  \n",
       "1                  Latitude  51.62363  \n",
       "2  Installed Capacity (MW)     1470.0  \n",
       "3                 Longitude   -1.2683  \n",
       "4                  Latitude   51.6246  "
      ]
     },
     "execution_count": 23,
     "metadata": {},
     "output_type": "execute_result"
    }
   ],
   "source": [
    "%%time\n",
    "\n",
    "site_data = extract_attrs_from_resource_dfs(site_data, fk_external_datapackage_refs, temp_dir_loc)\n",
    "\n",
    "pd.DataFrame(site_data[10001]['attributes']).drop(columns=['field_schema']).head()"
   ]
  },
  {
   "cell_type": "code",
   "execution_count": null,
   "id": "0a835339-541f-4994-b4c3-0052fe3668a9",
   "metadata": {},
   "outputs": [],
   "source": []
  },
  {
   "cell_type": "code",
   "execution_count": 24,
   "id": "fa46a9c1-8c2f-404e-ba49-0003a1e2fd5b",
   "metadata": {},
   "outputs": [
    {
     "data": {
      "application/json": {
       "10000": {
        "attributes": [
         {
          "attribute": "Longitude",
          "field_schema": {
           "description": "The east–west position of a point on the Earth's surface",
           "format": "default",
           "name": "longitude",
           "title": "Longitude",
           "type": "number"
          },
          "id": 10000,
          "source": "https://raw.githubusercontent.com/OSUKED/Dictionary-Datasets/main/datasets/plant-locations/datapackage.json",
          "value": -3.603516
         },
         {
          "attribute": "Latitude",
          "field_schema": {
           "description": "The north-south position of a point on the Earth's surface",
           "format": "default",
           "name": "latitude",
           "title": "Latitude",
           "type": "number"
          },
          "id": 10000,
          "source": "https://raw.githubusercontent.com/OSUKED/Dictionary-Datasets/main/datasets/plant-locations/datapackage.json",
          "value": 57.480403
         }
        ],
        "datasets": {
         "https://raw.githubusercontent.com/OSUKED/Dictionary-Datasets/main/datasets/plant-locations/datapackage.json": {
          "datapackage_description": "Dataset listing the locations of power plants",
          "datapackage_json_url": "https://raw.githubusercontent.com/OSUKED/Dictionary-Datasets/main/datasets/plant-locations/datapackage.json",
          "datapackage_name": "plant-locations",
          "related_resources": [
           {
            "dictionary_pk_field": "osuked_id",
            "external_fk_field": "osuked_id",
            "extracted_attributes": [
             "longitude",
             "latitude"
            ],
            "resource_name": "plant-locations",
            "resource_url": "https://raw.githubusercontent.com/OSUKED/Dictionary-Datasets/main/datasets/plant-locations/plant-locations.csv"
           }
          ]
         }
        },
        "id_hierarchies": {
         "child": {
          "ngc_bmu_id": [
           "MARK-1",
           "MARK-2"
          ],
          "sett_bmu_id": [
           "E_MARK-1",
           "E_MARK-2"
          ]
         },
         "equivalent": {
          "esail_id": "MARK",
          "name": "Rothes Bio-Plant CHP"
         },
         "parent": {}
        }
       },
       "10001": {
        "attributes": [
         {
          "attribute": "Longitude",
          "field_schema": {
           "description": "The east–west position of a point on the Earth's surface",
           "format": "default",
           "name": "longitude",
           "title": "Longitude",
           "type": "number"
          },
          "id": 10001,
          "source": "https://raw.githubusercontent.com/OSUKED/Dictionary-Datasets/main/datasets/plant-locations/datapackage.json",
          "value": -1.26757
         },
         {
          "attribute": "Latitude",
          "field_schema": {
           "description": "The north-south position of a point on the Earth's surface",
           "format": "default",
           "name": "latitude",
           "title": "Latitude",
           "type": "number"
          },
          "id": 10001,
          "source": "https://raw.githubusercontent.com/OSUKED/Dictionary-Datasets/main/datasets/plant-locations/datapackage.json",
          "value": 51.62363
         },
         {
          "attribute": "Installed Capacity (MW) ",
          "field_schema": {
           "description": "Installed electrical capacity of eachpower plant (MW) ",
           "format": "default",
           "name": "capacity_mw",
           "title": "Installed Capacity (MW) ",
           "type": "number"
          },
          "id": "GBR1000369",
          "source": "https://raw.githubusercontent.com/OSUKED/Dictionary-Datasets/main/datasets/global-power-plant-database/datapackage.json",
          "value": 1470
         },
         {
          "attribute": "Longitude",
          "field_schema": {
           "description": "The east–west position of a point on the Earth's surface",
           "format": "default",
           "name": "longitude",
           "title": "Longitude",
           "type": "number"
          },
          "id": "GBR1000369",
          "source": "https://raw.githubusercontent.com/OSUKED/Dictionary-Datasets/main/datasets/global-power-plant-database/datapackage.json",
          "value": -1.2683
         },
         {
          "attribute": "Latitude",
          "field_schema": {
           "description": "The north-south position of a point on the Earth's surface",
           "format": "default",
           "name": "latitude",
           "title": "Latitude",
           "type": "number"
          },
          "id": "GBR1000369",
          "source": "https://raw.githubusercontent.com/OSUKED/Dictionary-Datasets/main/datasets/global-power-plant-database/datapackage.json",
          "value": 51.6246
         },
         {
          "attribute": "Primary Fuel Type",
          "field_schema": {
           "description": "The primary fuel used by the power plant",
           "format": "default",
           "name": "primary_fuel",
           "title": "Primary Fuel Type",
           "type": "string"
          },
          "id": "GBR1000369",
          "source": "https://raw.githubusercontent.com/OSUKED/Dictionary-Datasets/main/datasets/global-power-plant-database/datapackage.json",
          "value": "Gas"
         },
         {
          "attribute": "Owner",
          "field_schema": {
           "description": "The primary owner of the power plant",
           "format": "default",
           "name": "owner",
           "title": "Owner",
           "type": "string"
          },
          "id": "GBR1000369",
          "source": "https://raw.githubusercontent.com/OSUKED/Dictionary-Datasets/main/datasets/global-power-plant-database/datapackage.json",
          "value": "RWE Npower Plc"
         },
         {
          "attribute": "Source",
          "field_schema": {
           "description": "The source of the data on each power plant",
           "format": "default",
           "name": "source",
           "title": "Source",
           "type": "string"
          },
          "id": "GBR1000369",
          "source": "https://raw.githubusercontent.com/OSUKED/Dictionary-Datasets/main/datasets/global-power-plant-database/datapackage.json",
          "value": "Department for Business Energy & Industrial Strategy"
         },
         {
          "attribute": "URL",
          "field_schema": {
           "description": "URL linking directly to data source",
           "format": "default",
           "name": "url",
           "title": "URL",
           "type": "string"
          },
          "id": "GBR1000369",
          "source": "https://raw.githubusercontent.com/OSUKED/Dictionary-Datasets/main/datasets/global-power-plant-database/datapackage.json",
          "value": "https://www.gov.uk/government/collections/digest-of-uk-energy-statistics-dukes"
         },
         {
          "attribute": "Geolocation Source",
          "field_schema": {
           "description": "The source of the spatial data on each power plant",
           "format": "default",
           "name": "geolocation_source",
           "title": "Geolocation Source",
           "type": "string"
          },
          "id": "GBR1000369",
          "source": "https://raw.githubusercontent.com/OSUKED/Dictionary-Datasets/main/datasets/global-power-plant-database/datapackage.json",
          "value": "GEODB"
         },
         {
          "attribute": "PLATTS-WEPP ID",
          "field_schema": {
           "description": "The unique identifier used to refer to power plants in the PLATTS-WEBB dataset",
           "format": "default",
           "name": "wepp_id",
           "title": "PLATTS-WEPP ID",
           "type": "number"
          },
          "id": "GBR1000369",
          "source": "https://raw.githubusercontent.com/OSUKED/Dictionary-Datasets/main/datasets/global-power-plant-database/datapackage.json",
          "value": 1023591
         },
         {
          "attribute": "Estimated Annual Generation in 2017",
          "field_schema": {
           "description": "Estimated annual generation (during 2017) in gigawatt hours (GWhs), gross",
           "format": "default",
           "name": "estimated_generation_gwh_2017",
           "title": "Estimated Annual Generation in 2017",
           "type": "number"
          },
          "id": "GBR1000369",
          "source": "https://raw.githubusercontent.com/OSUKED/Dictionary-Datasets/main/datasets/global-power-plant-database/datapackage.json",
          "value": 6820.88
         },
         {
          "attribute": "Installed Capacity (MW) ",
          "field_schema": {
           "description": "Installed electrical capacity of eachpower plant (MW) ",
           "format": "default",
           "name": "capacity_mw",
           "title": "Installed Capacity (MW) ",
           "type": "number"
          },
          "id": "GBR1000377",
          "source": "https://raw.githubusercontent.com/OSUKED/Dictionary-Datasets/main/datasets/global-power-plant-database/datapackage.json",
          "value": 100
         },
         {
          "attribute": "Longitude",
          "field_schema": {
           "description": "The east–west position of a point on the Earth's surface",
           "format": "default",
           "name": "longitude",
           "title": "Longitude",
           "type": "number"
          },
          "id": "GBR1000377",
          "source": "https://raw.githubusercontent.com/OSUKED/Dictionary-Datasets/main/datasets/global-power-plant-database/datapackage.json",
          "value": -1.2683
         },
         {
          "attribute": "Latitude",
          "field_schema": {
           "description": "The north-south position of a point on the Earth's surface",
           "format": "default",
           "name": "latitude",
           "title": "Latitude",
           "type": "number"
          },
          "id": "GBR1000377",
          "source": "https://raw.githubusercontent.com/OSUKED/Dictionary-Datasets/main/datasets/global-power-plant-database/datapackage.json",
          "value": 51.6246
         },
         {
          "attribute": "Primary Fuel Type",
          "field_schema": {
           "description": "The primary fuel used by the power plant",
           "format": "default",
           "name": "primary_fuel",
           "title": "Primary Fuel Type",
           "type": "string"
          },
          "id": "GBR1000377",
          "source": "https://raw.githubusercontent.com/OSUKED/Dictionary-Datasets/main/datasets/global-power-plant-database/datapackage.json",
          "value": "Gas"
         },
         {
          "attribute": "Owner",
          "field_schema": {
           "description": "The primary owner of the power plant",
           "format": "default",
           "name": "owner",
           "title": "Owner",
           "type": "string"
          },
          "id": "GBR1000377",
          "source": "https://raw.githubusercontent.com/OSUKED/Dictionary-Datasets/main/datasets/global-power-plant-database/datapackage.json",
          "value": "RWE Npower Plc"
         },
         {
          "attribute": "Source",
          "field_schema": {
           "description": "The source of the data on each power plant",
           "format": "default",
           "name": "source",
           "title": "Source",
           "type": "string"
          },
          "id": "GBR1000377",
          "source": "https://raw.githubusercontent.com/OSUKED/Dictionary-Datasets/main/datasets/global-power-plant-database/datapackage.json",
          "value": "Department for Business Energy & Industrial Strategy"
         },
         {
          "attribute": "URL",
          "field_schema": {
           "description": "URL linking directly to data source",
           "format": "default",
           "name": "url",
           "title": "URL",
           "type": "string"
          },
          "id": "GBR1000377",
          "source": "https://raw.githubusercontent.com/OSUKED/Dictionary-Datasets/main/datasets/global-power-plant-database/datapackage.json",
          "value": "https://www.gov.uk/government/collections/digest-of-uk-energy-statistics-dukes"
         },
         {
          "attribute": "Geolocation Source",
          "field_schema": {
           "description": "The source of the spatial data on each power plant",
           "format": "default",
           "name": "geolocation_source",
           "title": "Geolocation Source",
           "type": "string"
          },
          "id": "GBR1000377",
          "source": "https://raw.githubusercontent.com/OSUKED/Dictionary-Datasets/main/datasets/global-power-plant-database/datapackage.json",
          "value": "GEODB"
         },
         {
          "attribute": "PLATTS-WEPP ID",
          "field_schema": {
           "description": "The unique identifier used to refer to power plants in the PLATTS-WEBB dataset",
           "format": "default",
           "name": "wepp_id",
           "title": "PLATTS-WEPP ID",
           "type": "number"
          },
          "id": "GBR1000377",
          "source": "https://raw.githubusercontent.com/OSUKED/Dictionary-Datasets/main/datasets/global-power-plant-database/datapackage.json",
          "value": "nan"
         },
         {
          "attribute": "Estimated Annual Generation in 2017",
          "field_schema": {
           "description": "Estimated annual generation (during 2017) in gigawatt hours (GWhs), gross",
           "format": "default",
           "name": "estimated_generation_gwh_2017",
           "title": "Estimated Annual Generation in 2017",
           "type": "number"
          },
          "id": "GBR1000377",
          "source": "https://raw.githubusercontent.com/OSUKED/Dictionary-Datasets/main/datasets/global-power-plant-database/datapackage.json",
          "value": 464
         },
         {
          "attribute": "Tonnes CO2 2005",
          "field_schema": {
           "description": "Tonnes of CO2 released in 2005",
           "format": "default",
           "name": "2005",
           "title": "Tonnes CO2 2005",
           "type": "integer"
          },
          "id": 97165,
          "source": "https://raw.githubusercontent.com/OSUKED/Dictionary-Datasets/main/datasets/eutl/datapackage.json",
          "value": 6342700
         },
         {
          "attribute": "Tonnes CO2 2006",
          "field_schema": {
           "description": "Tonnes of CO2 released in 2006",
           "format": "default",
           "name": "2006",
           "title": "Tonnes CO2 2006",
           "type": "integer"
          },
          "id": 97165,
          "source": "https://raw.githubusercontent.com/OSUKED/Dictionary-Datasets/main/datasets/eutl/datapackage.json",
          "value": 7184281
         },
         {
          "attribute": "Tonnes CO2 2007",
          "field_schema": {
           "description": "Tonnes of CO2 released in 2007",
           "format": "default",
           "name": "2007",
           "title": "Tonnes CO2 2007",
           "type": "integer"
          },
          "id": 97165,
          "source": "https://raw.githubusercontent.com/OSUKED/Dictionary-Datasets/main/datasets/eutl/datapackage.json",
          "value": 5231425
         },
         {
          "attribute": "Tonnes CO2 2008",
          "field_schema": {
           "description": "Tonnes of CO2 released in 2008",
           "format": "default",
           "name": "2008",
           "title": "Tonnes CO2 2008",
           "type": "integer"
          },
          "id": 97165,
          "source": "https://raw.githubusercontent.com/OSUKED/Dictionary-Datasets/main/datasets/eutl/datapackage.json",
          "value": 5182660
         },
         {
          "attribute": "Tonnes CO2 2009",
          "field_schema": {
           "description": "Tonnes of CO2 released in 2009",
           "format": "default",
           "name": "2009",
           "title": "Tonnes CO2 2009",
           "type": "integer"
          },
          "id": 97165,
          "source": "https://raw.githubusercontent.com/OSUKED/Dictionary-Datasets/main/datasets/eutl/datapackage.json",
          "value": 2435748
         },
         {
          "attribute": "Tonnes CO2 2010",
          "field_schema": {
           "description": "Tonnes of CO2 released in 2010",
           "format": "default",
           "name": "2010",
           "title": "Tonnes CO2 2010",
           "type": "integer"
          },
          "id": 97165,
          "source": "https://raw.githubusercontent.com/OSUKED/Dictionary-Datasets/main/datasets/eutl/datapackage.json",
          "value": 1795512
         },
         {
          "attribute": "Tonnes CO2 2011",
          "field_schema": {
           "description": "Tonnes of CO2 released in 2011",
           "format": "default",
           "name": "2011",
           "title": "Tonnes CO2 2011",
           "type": "integer"
          },
          "id": 97165,
          "source": "https://raw.githubusercontent.com/OSUKED/Dictionary-Datasets/main/datasets/eutl/datapackage.json",
          "value": 2181952
         },
         {
          "attribute": "Tonnes CO2 2012",
          "field_schema": {
           "description": "Tonnes of CO2 released in 2012",
           "format": "default",
           "name": "2012",
           "title": "Tonnes CO2 2012",
           "type": "integer"
          },
          "id": 97165,
          "source": "https://raw.githubusercontent.com/OSUKED/Dictionary-Datasets/main/datasets/eutl/datapackage.json",
          "value": 6838317
         },
         {
          "attribute": "Tonnes CO2 2013",
          "field_schema": {
           "description": "Tonnes of CO2 released in 2013",
           "format": "default",
           "name": "2013",
           "title": "Tonnes CO2 2013",
           "type": "integer"
          },
          "id": 97165,
          "source": "https://raw.githubusercontent.com/OSUKED/Dictionary-Datasets/main/datasets/eutl/datapackage.json",
          "value": 1737804
         },
         {
          "attribute": "Tonnes CO2 2014",
          "field_schema": {
           "description": "Tonnes of CO2 released in 2014",
           "format": "default",
           "name": "2014",
           "title": "Tonnes CO2 2014",
           "type": "integer"
          },
          "id": 97165,
          "source": "https://raw.githubusercontent.com/OSUKED/Dictionary-Datasets/main/datasets/eutl/datapackage.json",
          "value": 0
         },
         {
          "attribute": "Tonnes CO2 2015",
          "field_schema": {
           "description": "Tonnes of CO2 released in 2015",
           "format": "default",
           "name": "2015",
           "title": "Tonnes CO2 2015",
           "type": "integer"
          },
          "id": 97165,
          "source": "https://raw.githubusercontent.com/OSUKED/Dictionary-Datasets/main/datasets/eutl/datapackage.json",
          "value": 0
         }
        ],
        "datasets": {
         "https://raw.githubusercontent.com/OSUKED/Dictionary-Datasets/main/datasets/eutl/datapackage.json": {
          "datapackage_description": "This dataset reports verified emissions within the EUTL. The EU Emissions Trading System (ETS) is a central instrument of the EU's policy to fight climate change and achieve cost-efficient reductions of greenhouse gas emissions. It is the world's biggest carbon market.",
          "datapackage_json_url": "https://raw.githubusercontent.com/OSUKED/Dictionary-Datasets/main/datasets/eutl/datapackage.json",
          "datapackage_name": "eutl",
          "related_resources": [
           {
            "dictionary_pk_field": "eutl_id",
            "external_fk_field": "account_id",
            "extracted_attributes": [
             "2005",
             "2006",
             "2007",
             "2008",
             "2009",
             "2010",
             "2011",
             "2012",
             "2013",
             "2014",
             "2015",
             "2016",
             "2017",
             "2018",
             "2019",
             "2020",
             "2021"
            ],
            "resource_name": "verified-emissions",
            "resource_url": "https://raw.githubusercontent.com/OSUKED/Dictionary-Datasets/main/datasets/eutl/verified_emissions.csv"
           }
          ]
         },
         "https://raw.githubusercontent.com/OSUKED/Dictionary-Datasets/main/datasets/global-power-plant-database/datapackage.json": {
          "datapackage_description": "The Global Power Plant Database is a comprehensive, open source database of power plants around the world. It centralizes power plant data to make it easier to navigate, compare and draw insights for one’s own analysis. The database covers approximately 35,000 power plants from 167 countries and includes thermal plants (e.g. coal, gas, oil, nuclear, biomass, waste, geothermal) and renewables (e.g. hydro, wind, solar). Each power plant is geolocated and entries contain information on plant capacity, generation, ownership, and fuel type. It will be continuously updated as data becomes available. \n\nThe methodology for the dataset creation is given in the World Resources Institute publication [\"A Global Database of Power Plants\"](https://www.wri.org/research/global-database-power-plants). Data updates may occur without associated updates to this manuscript.",
          "datapackage_json_url": "https://raw.githubusercontent.com/OSUKED/Dictionary-Datasets/main/datasets/global-power-plant-database/datapackage.json",
          "datapackage_name": "global-power-plant-database",
          "related_resources": [
           {
            "dictionary_pk_field": "gppd_idnr",
            "external_fk_field": "gppd_idnr",
            "extracted_attributes": [
             "capacity_mw",
             "longitude",
             "latitude",
             "primary_fuel",
             "other_fuel1",
             "other_fuel2",
             "other_fuel3",
             "commissioning_year",
             "owner",
             "source",
             "url",
             "geolocation_source",
             "wepp_id",
             "year_of_capacity_data",
             "generation_gwh_2013",
             "generation_gwh_2014",
             "generation_gwh_2015",
             "generation_gwh_2016",
             "generation_gwh_2017",
             "generation_gwh_2018",
             "generation_gwh_2019",
             "generation_data_source",
             "estimated_generation_gwh_2013",
             "estimated_generation_gwh_2014",
             "estimated_generation_gwh_2015",
             "estimated_generation_gwh_2016",
             "estimated_generation_gwh_2017"
            ],
            "resource_name": "global-power-plant-database",
            "resource_url": "https://raw.githubusercontent.com/OSUKED/Dictionary-Datasets/main/datasets/global-power-plant-database/global_power_plant_database.csv"
           }
          ]
         },
         "https://raw.githubusercontent.com/OSUKED/Dictionary-Datasets/main/datasets/plant-locations/datapackage.json": {
          "datapackage_description": "Dataset listing the locations of power plants",
          "datapackage_json_url": "https://raw.githubusercontent.com/OSUKED/Dictionary-Datasets/main/datasets/plant-locations/datapackage.json",
          "datapackage_name": "plant-locations",
          "related_resources": [
           {
            "dictionary_pk_field": "osuked_id",
            "external_fk_field": "osuked_id",
            "extracted_attributes": [
             "longitude",
             "latitude"
            ],
            "resource_name": "plant-locations",
            "resource_url": "https://raw.githubusercontent.com/OSUKED/Dictionary-Datasets/main/datasets/plant-locations/plant-locations.csv"
           }
          ]
         }
        },
        "id_hierarchies": {
         "child": {
          "gppd_idnr": [
           "GBR1000377",
           "GBR1000369"
          ],
          "ngc_bmu_id": [
           "DIDC1",
           "DIDC2",
           "DIDC4",
           "DIDC3",
           "DIDC1G",
           "DIDC2G",
           "DIDC3G",
           "DIDC4G",
           "DIDC01G",
           "DIDC02G",
           "DIDC03G",
           "DIDC04G",
           "DIDCB5",
           "DIDCB6"
          ],
          "sett_bmu_id": [
           "T_DIDC1",
           "T_DIDC2",
           "T_DIDC4",
           "T_DIDC3",
           "T_DIDC1G",
           "T_DIDC2G",
           "T_DIDC3G",
           "T_DIDC4G",
           "E_DIDC1G",
           "E_DIDC2G",
           "E_DIDC3G",
           "E_DIDC4G",
           "T_DIDCB5",
           "T_DIDCB6"
          ]
         },
         "equivalent": {
          "esail_id": "DIDC",
          "eutl_id": 97165,
          "name": "Didcot"
         },
         "parent": {}
        }
       },
       "10002": {
        "attributes": [
         {
          "attribute": "Longitude",
          "field_schema": {
           "description": "The east–west position of a point on the Earth's surface",
           "format": "default",
           "name": "longitude",
           "title": "Longitude",
           "type": "number"
          },
          "id": 10002,
          "source": "https://raw.githubusercontent.com/OSUKED/Dictionary-Datasets/main/datasets/plant-locations/datapackage.json",
          "value": -3.404866
         },
         {
          "attribute": "Latitude",
          "field_schema": {
           "description": "The north-south position of a point on the Earth's surface",
           "format": "default",
           "name": "latitude",
           "title": "Latitude",
           "type": "number"
          },
          "id": 10002,
          "source": "https://raw.githubusercontent.com/OSUKED/Dictionary-Datasets/main/datasets/plant-locations/datapackage.json",
          "value": 51.387312
         },
         {
          "attribute": "Installed Capacity (MW) ",
          "field_schema": {
           "description": "Installed electrical capacity of eachpower plant (MW) ",
           "format": "default",
           "name": "capacity_mw",
           "title": "Installed Capacity (MW) ",
           "type": "number"
          },
          "id": "GBR1000374",
          "source": "https://raw.githubusercontent.com/OSUKED/Dictionary-Datasets/main/datasets/global-power-plant-database/datapackage.json",
          "value": 1586
         },
         {
          "attribute": "Longitude",
          "field_schema": {
           "description": "The east–west position of a point on the Earth's surface",
           "format": "default",
           "name": "longitude",
           "title": "Longitude",
           "type": "number"
          },
          "id": "GBR1000374",
          "source": "https://raw.githubusercontent.com/OSUKED/Dictionary-Datasets/main/datasets/global-power-plant-database/datapackage.json",
          "value": -3.4049
         },
         {
          "attribute": "Latitude",
          "field_schema": {
           "description": "The north-south position of a point on the Earth's surface",
           "format": "default",
           "name": "latitude",
           "title": "Latitude",
           "type": "number"
          },
          "id": "GBR1000374",
          "source": "https://raw.githubusercontent.com/OSUKED/Dictionary-Datasets/main/datasets/global-power-plant-database/datapackage.json",
          "value": 51.3873
         },
         {
          "attribute": "Primary Fuel Type",
          "field_schema": {
           "description": "The primary fuel used by the power plant",
           "format": "default",
           "name": "primary_fuel",
           "title": "Primary Fuel Type",
           "type": "string"
          },
          "id": "GBR1000374",
          "source": "https://raw.githubusercontent.com/OSUKED/Dictionary-Datasets/main/datasets/global-power-plant-database/datapackage.json",
          "value": "Coal"
         },
         {
          "attribute": "Owner",
          "field_schema": {
           "description": "The primary owner of the power plant",
           "format": "default",
           "name": "owner",
           "title": "Owner",
           "type": "string"
          },
          "id": "GBR1000374",
          "source": "https://raw.githubusercontent.com/OSUKED/Dictionary-Datasets/main/datasets/global-power-plant-database/datapackage.json",
          "value": "RWE Npower Plc"
         },
         {
          "attribute": "Source",
          "field_schema": {
           "description": "The source of the data on each power plant",
           "format": "default",
           "name": "source",
           "title": "Source",
           "type": "string"
          },
          "id": "GBR1000374",
          "source": "https://raw.githubusercontent.com/OSUKED/Dictionary-Datasets/main/datasets/global-power-plant-database/datapackage.json",
          "value": "Department for Business Energy & Industrial Strategy"
         },
         {
          "attribute": "URL",
          "field_schema": {
           "description": "URL linking directly to data source",
           "format": "default",
           "name": "url",
           "title": "URL",
           "type": "string"
          },
          "id": "GBR1000374",
          "source": "https://raw.githubusercontent.com/OSUKED/Dictionary-Datasets/main/datasets/global-power-plant-database/datapackage.json",
          "value": "https://www.gov.uk/government/collections/digest-of-uk-energy-statistics-dukes"
         },
         {
          "attribute": "Geolocation Source",
          "field_schema": {
           "description": "The source of the spatial data on each power plant",
           "format": "default",
           "name": "geolocation_source",
           "title": "Geolocation Source",
           "type": "string"
          },
          "id": "GBR1000374",
          "source": "https://raw.githubusercontent.com/OSUKED/Dictionary-Datasets/main/datasets/global-power-plant-database/datapackage.json",
          "value": "GEODB"
         },
         {
          "attribute": "PLATTS-WEPP ID",
          "field_schema": {
           "description": "The unique identifier used to refer to power plants in the PLATTS-WEBB dataset",
           "format": "default",
           "name": "wepp_id",
           "title": "PLATTS-WEPP ID",
           "type": "number"
          },
          "id": "GBR1000374",
          "source": "https://raw.githubusercontent.com/OSUKED/Dictionary-Datasets/main/datasets/global-power-plant-database/datapackage.json",
          "value": 1023577
         },
         {
          "attribute": "Estimated Annual Generation in 2017",
          "field_schema": {
           "description": "Estimated annual generation (during 2017) in gigawatt hours (GWhs), gross",
           "format": "default",
           "name": "estimated_generation_gwh_2017",
           "title": "Estimated Annual Generation in 2017",
           "type": "number"
          },
          "id": "GBR1000374",
          "source": "https://raw.githubusercontent.com/OSUKED/Dictionary-Datasets/main/datasets/global-power-plant-database/datapackage.json",
          "value": 2409.11
         },
         {
          "attribute": "Installed Capacity (MW) ",
          "field_schema": {
           "description": "Installed electrical capacity of eachpower plant (MW) ",
           "format": "default",
           "name": "capacity_mw",
           "title": "Installed Capacity (MW) ",
           "type": "number"
          },
          "id": "GBR1000375",
          "source": "https://raw.githubusercontent.com/OSUKED/Dictionary-Datasets/main/datasets/global-power-plant-database/datapackage.json",
          "value": 51
         },
         {
          "attribute": "Longitude",
          "field_schema": {
           "description": "The east–west position of a point on the Earth's surface",
           "format": "default",
           "name": "longitude",
           "title": "Longitude",
           "type": "number"
          },
          "id": "GBR1000375",
          "source": "https://raw.githubusercontent.com/OSUKED/Dictionary-Datasets/main/datasets/global-power-plant-database/datapackage.json",
          "value": -3.4068
         },
         {
          "attribute": "Latitude",
          "field_schema": {
           "description": "The north-south position of a point on the Earth's surface",
           "format": "default",
           "name": "latitude",
           "title": "Latitude",
           "type": "number"
          },
          "id": "GBR1000375",
          "source": "https://raw.githubusercontent.com/OSUKED/Dictionary-Datasets/main/datasets/global-power-plant-database/datapackage.json",
          "value": 51.3875
         },
         {
          "attribute": "Primary Fuel Type",
          "field_schema": {
           "description": "The primary fuel used by the power plant",
           "format": "default",
           "name": "primary_fuel",
           "title": "Primary Fuel Type",
           "type": "string"
          },
          "id": "GBR1000375",
          "source": "https://raw.githubusercontent.com/OSUKED/Dictionary-Datasets/main/datasets/global-power-plant-database/datapackage.json",
          "value": "Gas"
         },
         {
          "attribute": "Owner",
          "field_schema": {
           "description": "The primary owner of the power plant",
           "format": "default",
           "name": "owner",
           "title": "Owner",
           "type": "string"
          },
          "id": "GBR1000375",
          "source": "https://raw.githubusercontent.com/OSUKED/Dictionary-Datasets/main/datasets/global-power-plant-database/datapackage.json",
          "value": "RWE Npower Plc"
         },
         {
          "attribute": "Source",
          "field_schema": {
           "description": "The source of the data on each power plant",
           "format": "default",
           "name": "source",
           "title": "Source",
           "type": "string"
          },
          "id": "GBR1000375",
          "source": "https://raw.githubusercontent.com/OSUKED/Dictionary-Datasets/main/datasets/global-power-plant-database/datapackage.json",
          "value": "Department for Business Energy & Industrial Strategy"
         },
         {
          "attribute": "URL",
          "field_schema": {
           "description": "URL linking directly to data source",
           "format": "default",
           "name": "url",
           "title": "URL",
           "type": "string"
          },
          "id": "GBR1000375",
          "source": "https://raw.githubusercontent.com/OSUKED/Dictionary-Datasets/main/datasets/global-power-plant-database/datapackage.json",
          "value": "https://www.gov.uk/government/collections/digest-of-uk-energy-statistics-dukes"
         },
         {
          "attribute": "Geolocation Source",
          "field_schema": {
           "description": "The source of the spatial data on each power plant",
           "format": "default",
           "name": "geolocation_source",
           "title": "Geolocation Source",
           "type": "string"
          },
          "id": "GBR1000375",
          "source": "https://raw.githubusercontent.com/OSUKED/Dictionary-Datasets/main/datasets/global-power-plant-database/datapackage.json",
          "value": "CARMA"
         },
         {
          "attribute": "PLATTS-WEPP ID",
          "field_schema": {
           "description": "The unique identifier used to refer to power plants in the PLATTS-WEBB dataset",
           "format": "default",
           "name": "wepp_id",
           "title": "PLATTS-WEPP ID",
           "type": "number"
          },
          "id": "GBR1000375",
          "source": "https://raw.githubusercontent.com/OSUKED/Dictionary-Datasets/main/datasets/global-power-plant-database/datapackage.json",
          "value": "nan"
         },
         {
          "attribute": "Estimated Annual Generation in 2017",
          "field_schema": {
           "description": "Estimated annual generation (during 2017) in gigawatt hours (GWhs), gross",
           "format": "default",
           "name": "estimated_generation_gwh_2017",
           "title": "Estimated Annual Generation in 2017",
           "type": "number"
          },
          "id": "GBR1000375",
          "source": "https://raw.githubusercontent.com/OSUKED/Dictionary-Datasets/main/datasets/global-power-plant-database/datapackage.json",
          "value": 236.64
         },
         {
          "attribute": "Tonnes CO2 2005",
          "field_schema": {
           "description": "Tonnes of CO2 released in 2005",
           "format": "default",
           "name": "2005",
           "title": "Tonnes CO2 2005",
           "type": "integer"
          },
          "id": 97175,
          "source": "https://raw.githubusercontent.com/OSUKED/Dictionary-Datasets/main/datasets/eutl/datapackage.json",
          "value": 5264973
         },
         {
          "attribute": "Tonnes CO2 2006",
          "field_schema": {
           "description": "Tonnes of CO2 released in 2006",
           "format": "default",
           "name": "2006",
           "title": "Tonnes CO2 2006",
           "type": "integer"
          },
          "id": 97175,
          "source": "https://raw.githubusercontent.com/OSUKED/Dictionary-Datasets/main/datasets/eutl/datapackage.json",
          "value": 7340340
         },
         {
          "attribute": "Tonnes CO2 2007",
          "field_schema": {
           "description": "Tonnes of CO2 released in 2007",
           "format": "default",
           "name": "2007",
           "title": "Tonnes CO2 2007",
           "type": "integer"
          },
          "id": 97175,
          "source": "https://raw.githubusercontent.com/OSUKED/Dictionary-Datasets/main/datasets/eutl/datapackage.json",
          "value": 4186423
         },
         {
          "attribute": "Tonnes CO2 2008",
          "field_schema": {
           "description": "Tonnes of CO2 released in 2008",
           "format": "default",
           "name": "2008",
           "title": "Tonnes CO2 2008",
           "type": "integer"
          },
          "id": 97175,
          "source": "https://raw.githubusercontent.com/OSUKED/Dictionary-Datasets/main/datasets/eutl/datapackage.json",
          "value": 7027839
         },
         {
          "attribute": "Tonnes CO2 2009",
          "field_schema": {
           "description": "Tonnes of CO2 released in 2009",
           "format": "default",
           "name": "2009",
           "title": "Tonnes CO2 2009",
           "type": "integer"
          },
          "id": 97175,
          "source": "https://raw.githubusercontent.com/OSUKED/Dictionary-Datasets/main/datasets/eutl/datapackage.json",
          "value": 5002555
         },
         {
          "attribute": "Tonnes CO2 2010",
          "field_schema": {
           "description": "Tonnes of CO2 released in 2010",
           "format": "default",
           "name": "2010",
           "title": "Tonnes CO2 2010",
           "type": "integer"
          },
          "id": 97175,
          "source": "https://raw.githubusercontent.com/OSUKED/Dictionary-Datasets/main/datasets/eutl/datapackage.json",
          "value": 4739140
         },
         {
          "attribute": "Tonnes CO2 2011",
          "field_schema": {
           "description": "Tonnes of CO2 released in 2011",
           "format": "default",
           "name": "2011",
           "title": "Tonnes CO2 2011",
           "type": "integer"
          },
          "id": 97175,
          "source": "https://raw.githubusercontent.com/OSUKED/Dictionary-Datasets/main/datasets/eutl/datapackage.json",
          "value": 4829978
         },
         {
          "attribute": "Tonnes CO2 2012",
          "field_schema": {
           "description": "Tonnes of CO2 released in 2012",
           "format": "default",
           "name": "2012",
           "title": "Tonnes CO2 2012",
           "type": "integer"
          },
          "id": 97175,
          "source": "https://raw.githubusercontent.com/OSUKED/Dictionary-Datasets/main/datasets/eutl/datapackage.json",
          "value": 8229115
         },
         {
          "attribute": "Tonnes CO2 2013",
          "field_schema": {
           "description": "Tonnes of CO2 released in 2013",
           "format": "default",
           "name": "2013",
           "title": "Tonnes CO2 2013",
           "type": "integer"
          },
          "id": 97175,
          "source": "https://raw.githubusercontent.com/OSUKED/Dictionary-Datasets/main/datasets/eutl/datapackage.json",
          "value": 8504964
         },
         {
          "attribute": "Tonnes CO2 2014",
          "field_schema": {
           "description": "Tonnes of CO2 released in 2014",
           "format": "default",
           "name": "2014",
           "title": "Tonnes CO2 2014",
           "type": "integer"
          },
          "id": 97175,
          "source": "https://raw.githubusercontent.com/OSUKED/Dictionary-Datasets/main/datasets/eutl/datapackage.json",
          "value": 6038198
         },
         {
          "attribute": "Tonnes CO2 2015",
          "field_schema": {
           "description": "Tonnes of CO2 released in 2015",
           "format": "default",
           "name": "2015",
           "title": "Tonnes CO2 2015",
           "type": "integer"
          },
          "id": 97175,
          "source": "https://raw.githubusercontent.com/OSUKED/Dictionary-Datasets/main/datasets/eutl/datapackage.json",
          "value": 6682528
         },
         {
          "attribute": "Tonnes CO2 2016",
          "field_schema": {
           "description": "Tonnes of CO2 released in 2016",
           "format": "default",
           "name": "2016",
           "title": "Tonnes CO2 2016",
           "type": "integer"
          },
          "id": 97175,
          "source": "https://raw.githubusercontent.com/OSUKED/Dictionary-Datasets/main/datasets/eutl/datapackage.json",
          "value": 5910278
         },
         {
          "attribute": "Tonnes CO2 2017",
          "field_schema": {
           "description": "Tonnes of CO2 released in 2017",
           "format": "default",
           "name": "2017",
           "title": "Tonnes CO2 2017",
           "type": "integer"
          },
          "id": 97175,
          "source": "https://raw.githubusercontent.com/OSUKED/Dictionary-Datasets/main/datasets/eutl/datapackage.json",
          "value": 2296592
         },
         {
          "attribute": "Tonnes CO2 2018",
          "field_schema": {
           "description": "Tonnes of CO2 released in 2018",
           "format": "default",
           "name": "2018",
           "title": "Tonnes CO2 2018",
           "type": "integer"
          },
          "id": 97175,
          "source": "https://raw.githubusercontent.com/OSUKED/Dictionary-Datasets/main/datasets/eutl/datapackage.json",
          "value": 495388
         },
         {
          "attribute": "Tonnes CO2 2019",
          "field_schema": {
           "description": "Tonnes of CO2 released in 2019",
           "format": "default",
           "name": "2019",
           "title": "Tonnes CO2 2019",
           "type": "integer"
          },
          "id": 97175,
          "source": "https://raw.githubusercontent.com/OSUKED/Dictionary-Datasets/main/datasets/eutl/datapackage.json",
          "value": 660075
         },
         {
          "attribute": "Tonnes CO2 2020",
          "field_schema": {
           "description": "Tonnes of CO2 released in 2020",
           "format": "default",
           "name": "2020",
           "title": "Tonnes CO2 2020",
           "type": "integer"
          },
          "id": 97175,
          "source": "https://raw.githubusercontent.com/OSUKED/Dictionary-Datasets/main/datasets/eutl/datapackage.json",
          "value": 235
         }
        ],
        "datasets": {
         "https://raw.githubusercontent.com/OSUKED/Dictionary-Datasets/main/datasets/eutl/datapackage.json": {
          "datapackage_description": "This dataset reports verified emissions within the EUTL. The EU Emissions Trading System (ETS) is a central instrument of the EU's policy to fight climate change and achieve cost-efficient reductions of greenhouse gas emissions. It is the world's biggest carbon market.",
          "datapackage_json_url": "https://raw.githubusercontent.com/OSUKED/Dictionary-Datasets/main/datasets/eutl/datapackage.json",
          "datapackage_name": "eutl",
          "related_resources": [
           {
            "dictionary_pk_field": "eutl_id",
            "external_fk_field": "account_id",
            "extracted_attributes": [
             "2005",
             "2006",
             "2007",
             "2008",
             "2009",
             "2010",
             "2011",
             "2012",
             "2013",
             "2014",
             "2015",
             "2016",
             "2017",
             "2018",
             "2019",
             "2020",
             "2021"
            ],
            "resource_name": "verified-emissions",
            "resource_url": "https://raw.githubusercontent.com/OSUKED/Dictionary-Datasets/main/datasets/eutl/verified_emissions.csv"
           }
          ]
         },
         "https://raw.githubusercontent.com/OSUKED/Dictionary-Datasets/main/datasets/global-power-plant-database/datapackage.json": {
          "datapackage_description": "The Global Power Plant Database is a comprehensive, open source database of power plants around the world. It centralizes power plant data to make it easier to navigate, compare and draw insights for one’s own analysis. The database covers approximately 35,000 power plants from 167 countries and includes thermal plants (e.g. coal, gas, oil, nuclear, biomass, waste, geothermal) and renewables (e.g. hydro, wind, solar). Each power plant is geolocated and entries contain information on plant capacity, generation, ownership, and fuel type. It will be continuously updated as data becomes available. \n\nThe methodology for the dataset creation is given in the World Resources Institute publication [\"A Global Database of Power Plants\"](https://www.wri.org/research/global-database-power-plants). Data updates may occur without associated updates to this manuscript.",
          "datapackage_json_url": "https://raw.githubusercontent.com/OSUKED/Dictionary-Datasets/main/datasets/global-power-plant-database/datapackage.json",
          "datapackage_name": "global-power-plant-database",
          "related_resources": [
           {
            "dictionary_pk_field": "gppd_idnr",
            "external_fk_field": "gppd_idnr",
            "extracted_attributes": [
             "capacity_mw",
             "longitude",
             "latitude",
             "primary_fuel",
             "other_fuel1",
             "other_fuel2",
             "other_fuel3",
             "commissioning_year",
             "owner",
             "source",
             "url",
             "geolocation_source",
             "wepp_id",
             "year_of_capacity_data",
             "generation_gwh_2013",
             "generation_gwh_2014",
             "generation_gwh_2015",
             "generation_gwh_2016",
             "generation_gwh_2017",
             "generation_gwh_2018",
             "generation_gwh_2019",
             "generation_data_source",
             "estimated_generation_gwh_2013",
             "estimated_generation_gwh_2014",
             "estimated_generation_gwh_2015",
             "estimated_generation_gwh_2016",
             "estimated_generation_gwh_2017"
            ],
            "resource_name": "global-power-plant-database",
            "resource_url": "https://raw.githubusercontent.com/OSUKED/Dictionary-Datasets/main/datasets/global-power-plant-database/global_power_plant_database.csv"
           }
          ]
         },
         "https://raw.githubusercontent.com/OSUKED/Dictionary-Datasets/main/datasets/plant-locations/datapackage.json": {
          "datapackage_description": "Dataset listing the locations of power plants",
          "datapackage_json_url": "https://raw.githubusercontent.com/OSUKED/Dictionary-Datasets/main/datasets/plant-locations/datapackage.json",
          "datapackage_name": "plant-locations",
          "related_resources": [
           {
            "dictionary_pk_field": "osuked_id",
            "external_fk_field": "osuked_id",
            "extracted_attributes": [
             "longitude",
             "latitude"
            ],
            "resource_name": "plant-locations",
            "resource_url": "https://raw.githubusercontent.com/OSUKED/Dictionary-Datasets/main/datasets/plant-locations/plant-locations.csv"
           }
          ]
         }
        },
        "id_hierarchies": {
         "child": {
          "gppd_idnr": [
           "GBR1000374",
           "GBR1000375"
          ],
          "ngc_bmu_id": [
           "ABTH7",
           "ABTH8",
           "ABTH9",
           "ABTH7G",
           "ABTH8G",
           "ABTH9G"
          ],
          "sett_bmu_id": [
           "T_ABTH7",
           "T_ABTH8",
           "T_ABTH9",
           "T_ABTH7G",
           "T_ABTH8G",
           "T_ABTH9G"
          ]
         },
         "equivalent": {
          "esail_id": "ABTH",
          "eutl_id": 97175,
          "name": "Aberthaw B"
         },
         "parent": {}
        }
       },
       "10003": {
        "attributes": [
         {
          "attribute": "Longitude",
          "field_schema": {
           "description": "The east–west position of a point on the Earth's surface",
           "format": "default",
           "name": "longitude",
           "title": "Longitude",
           "type": "number"
          },
          "id": 10003,
          "source": "https://raw.githubusercontent.com/OSUKED/Dictionary-Datasets/main/datasets/plant-locations/datapackage.json",
          "value": -0.648193
         },
         {
          "attribute": "Latitude",
          "field_schema": {
           "description": "The north-south position of a point on the Earth's surface",
           "format": "default",
           "name": "latitude",
           "title": "Latitude",
           "type": "number"
          },
          "id": 10003,
          "source": "https://raw.githubusercontent.com/OSUKED/Dictionary-Datasets/main/datasets/plant-locations/datapackage.json",
          "value": 53.245495
         },
         {
          "attribute": "Installed Capacity (MW) ",
          "field_schema": {
           "description": "Installed electrical capacity of eachpower plant (MW) ",
           "format": "default",
           "name": "capacity_mw",
           "title": "Installed Capacity (MW) ",
           "type": "number"
          },
          "id": "GBR1000142",
          "source": "https://raw.githubusercontent.com/OSUKED/Dictionary-Datasets/main/datasets/global-power-plant-database/datapackage.json",
          "value": 2008
         },
         {
          "attribute": "Longitude",
          "field_schema": {
           "description": "The east–west position of a point on the Earth's surface",
           "format": "default",
           "name": "longitude",
           "title": "Longitude",
           "type": "number"
          },
          "id": "GBR1000142",
          "source": "https://raw.githubusercontent.com/OSUKED/Dictionary-Datasets/main/datasets/global-power-plant-database/datapackage.json",
          "value": -0.7815
         },
         {
          "attribute": "Latitude",
          "field_schema": {
           "description": "The north-south position of a point on the Earth's surface",
           "format": "default",
           "name": "latitude",
           "title": "Latitude",
           "type": "number"
          },
          "id": "GBR1000142",
          "source": "https://raw.githubusercontent.com/OSUKED/Dictionary-Datasets/main/datasets/global-power-plant-database/datapackage.json",
          "value": 53.304
         },
         {
          "attribute": "Primary Fuel Type",
          "field_schema": {
           "description": "The primary fuel used by the power plant",
           "format": "default",
           "name": "primary_fuel",
           "title": "Primary Fuel Type",
           "type": "string"
          },
          "id": "GBR1000142",
          "source": "https://raw.githubusercontent.com/OSUKED/Dictionary-Datasets/main/datasets/global-power-plant-database/datapackage.json",
          "value": "Coal"
         },
         {
          "attribute": "Owner",
          "field_schema": {
           "description": "The primary owner of the power plant",
           "format": "default",
           "name": "owner",
           "title": "Owner",
           "type": "string"
          },
          "id": "GBR1000142",
          "source": "https://raw.githubusercontent.com/OSUKED/Dictionary-Datasets/main/datasets/global-power-plant-database/datapackage.json",
          "value": "EDF Energy"
         },
         {
          "attribute": "Source",
          "field_schema": {
           "description": "The source of the data on each power plant",
           "format": "default",
           "name": "source",
           "title": "Source",
           "type": "string"
          },
          "id": "GBR1000142",
          "source": "https://raw.githubusercontent.com/OSUKED/Dictionary-Datasets/main/datasets/global-power-plant-database/datapackage.json",
          "value": "Department for Business Energy & Industrial Strategy"
         },
         {
          "attribute": "URL",
          "field_schema": {
           "description": "URL linking directly to data source",
           "format": "default",
           "name": "url",
           "title": "URL",
           "type": "string"
          },
          "id": "GBR1000142",
          "source": "https://raw.githubusercontent.com/OSUKED/Dictionary-Datasets/main/datasets/global-power-plant-database/datapackage.json",
          "value": "https://www.gov.uk/government/collections/digest-of-uk-energy-statistics-dukes"
         },
         {
          "attribute": "Geolocation Source",
          "field_schema": {
           "description": "The source of the spatial data on each power plant",
           "format": "default",
           "name": "geolocation_source",
           "title": "Geolocation Source",
           "type": "string"
          },
          "id": "GBR1000142",
          "source": "https://raw.githubusercontent.com/OSUKED/Dictionary-Datasets/main/datasets/global-power-plant-database/datapackage.json",
          "value": "GEODB"
         },
         {
          "attribute": "PLATTS-WEPP ID",
          "field_schema": {
           "description": "The unique identifier used to refer to power plants in the PLATTS-WEBB dataset",
           "format": "default",
           "name": "wepp_id",
           "title": "PLATTS-WEPP ID",
           "type": "number"
          },
          "id": "GBR1000142",
          "source": "https://raw.githubusercontent.com/OSUKED/Dictionary-Datasets/main/datasets/global-power-plant-database/datapackage.json",
          "value": 1025710
         },
         {
          "attribute": "Estimated Annual Generation in 2017",
          "field_schema": {
           "description": "Estimated annual generation (during 2017) in gigawatt hours (GWhs), gross",
           "format": "default",
           "name": "estimated_generation_gwh_2017",
           "title": "Estimated Annual Generation in 2017",
           "type": "number"
          },
          "id": "GBR1000142",
          "source": "https://raw.githubusercontent.com/OSUKED/Dictionary-Datasets/main/datasets/global-power-plant-database/datapackage.json",
          "value": 3050.13
         },
         {
          "attribute": "Tonnes CO2 2005",
          "field_schema": {
           "description": "Tonnes of CO2 released in 2005",
           "format": "default",
           "name": "2005",
           "title": "Tonnes CO2 2005",
           "type": "integer"
          },
          "id": 97778,
          "source": "https://raw.githubusercontent.com/OSUKED/Dictionary-Datasets/main/datasets/eutl/datapackage.json",
          "value": 8068565
         },
         {
          "attribute": "Tonnes CO2 2006",
          "field_schema": {
           "description": "Tonnes of CO2 released in 2006",
           "format": "default",
           "name": "2006",
           "title": "Tonnes CO2 2006",
           "type": "integer"
          },
          "id": 97778,
          "source": "https://raw.githubusercontent.com/OSUKED/Dictionary-Datasets/main/datasets/eutl/datapackage.json",
          "value": 10029024
         },
         {
          "attribute": "Tonnes CO2 2007",
          "field_schema": {
           "description": "Tonnes of CO2 released in 2007",
           "format": "default",
           "name": "2007",
           "title": "Tonnes CO2 2007",
           "type": "integer"
          },
          "id": 97778,
          "source": "https://raw.githubusercontent.com/OSUKED/Dictionary-Datasets/main/datasets/eutl/datapackage.json",
          "value": 10240663
         },
         {
          "attribute": "Tonnes CO2 2008",
          "field_schema": {
           "description": "Tonnes of CO2 released in 2008",
           "format": "default",
           "name": "2008",
           "title": "Tonnes CO2 2008",
           "type": "integer"
          },
          "id": 97778,
          "source": "https://raw.githubusercontent.com/OSUKED/Dictionary-Datasets/main/datasets/eutl/datapackage.json",
          "value": 10157213
         },
         {
          "attribute": "Tonnes CO2 2009",
          "field_schema": {
           "description": "Tonnes of CO2 released in 2009",
           "format": "default",
           "name": "2009",
           "title": "Tonnes CO2 2009",
           "type": "integer"
          },
          "id": 97778,
          "source": "https://raw.githubusercontent.com/OSUKED/Dictionary-Datasets/main/datasets/eutl/datapackage.json",
          "value": 8426332
         },
         {
          "attribute": "Tonnes CO2 2010",
          "field_schema": {
           "description": "Tonnes of CO2 released in 2010",
           "format": "default",
           "name": "2010",
           "title": "Tonnes CO2 2010",
           "type": "integer"
          },
          "id": 97778,
          "source": "https://raw.githubusercontent.com/OSUKED/Dictionary-Datasets/main/datasets/eutl/datapackage.json",
          "value": 8715015
         },
         {
          "attribute": "Tonnes CO2 2011",
          "field_schema": {
           "description": "Tonnes of CO2 released in 2011",
           "format": "default",
           "name": "2011",
           "title": "Tonnes CO2 2011",
           "type": "integer"
          },
          "id": 97778,
          "source": "https://raw.githubusercontent.com/OSUKED/Dictionary-Datasets/main/datasets/eutl/datapackage.json",
          "value": 8863488
         },
         {
          "attribute": "Tonnes CO2 2012",
          "field_schema": {
           "description": "Tonnes of CO2 released in 2012",
           "format": "default",
           "name": "2012",
           "title": "Tonnes CO2 2012",
           "type": "integer"
          },
          "id": 97778,
          "source": "https://raw.githubusercontent.com/OSUKED/Dictionary-Datasets/main/datasets/eutl/datapackage.json",
          "value": 9889284
         },
         {
          "attribute": "Tonnes CO2 2013",
          "field_schema": {
           "description": "Tonnes of CO2 released in 2013",
           "format": "default",
           "name": "2013",
           "title": "Tonnes CO2 2013",
           "type": "integer"
          },
          "id": 97778,
          "source": "https://raw.githubusercontent.com/OSUKED/Dictionary-Datasets/main/datasets/eutl/datapackage.json",
          "value": 10171477
         },
         {
          "attribute": "Tonnes CO2 2014",
          "field_schema": {
           "description": "Tonnes of CO2 released in 2014",
           "format": "default",
           "name": "2014",
           "title": "Tonnes CO2 2014",
           "type": "integer"
          },
          "id": 97778,
          "source": "https://raw.githubusercontent.com/OSUKED/Dictionary-Datasets/main/datasets/eutl/datapackage.json",
          "value": 8846877
         },
         {
          "attribute": "Tonnes CO2 2015",
          "field_schema": {
           "description": "Tonnes of CO2 released in 2015",
           "format": "default",
           "name": "2015",
           "title": "Tonnes CO2 2015",
           "type": "integer"
          },
          "id": 97778,
          "source": "https://raw.githubusercontent.com/OSUKED/Dictionary-Datasets/main/datasets/eutl/datapackage.json",
          "value": 6756444
         },
         {
          "attribute": "Tonnes CO2 2016",
          "field_schema": {
           "description": "Tonnes of CO2 released in 2016",
           "format": "default",
           "name": "2016",
           "title": "Tonnes CO2 2016",
           "type": "integer"
          },
          "id": 97778,
          "source": "https://raw.githubusercontent.com/OSUKED/Dictionary-Datasets/main/datasets/eutl/datapackage.json",
          "value": 1565134
         },
         {
          "attribute": "Tonnes CO2 2017",
          "field_schema": {
           "description": "Tonnes of CO2 released in 2017",
           "format": "default",
           "name": "2017",
           "title": "Tonnes CO2 2017",
           "type": "integer"
          },
          "id": 97778,
          "source": "https://raw.githubusercontent.com/OSUKED/Dictionary-Datasets/main/datasets/eutl/datapackage.json",
          "value": 2907114
         },
         {
          "attribute": "Tonnes CO2 2018",
          "field_schema": {
           "description": "Tonnes of CO2 released in 2018",
           "format": "default",
           "name": "2018",
           "title": "Tonnes CO2 2018",
           "type": "integer"
          },
          "id": 97778,
          "source": "https://raw.githubusercontent.com/OSUKED/Dictionary-Datasets/main/datasets/eutl/datapackage.json",
          "value": 2900716
         },
         {
          "attribute": "Tonnes CO2 2019",
          "field_schema": {
           "description": "Tonnes of CO2 released in 2019",
           "format": "default",
           "name": "2019",
           "title": "Tonnes CO2 2019",
           "type": "integer"
          },
          "id": 97778,
          "source": "https://raw.githubusercontent.com/OSUKED/Dictionary-Datasets/main/datasets/eutl/datapackage.json",
          "value": 1378192
         }
        ],
        "datasets": {
         "https://raw.githubusercontent.com/OSUKED/Dictionary-Datasets/main/datasets/eutl/datapackage.json": {
          "datapackage_description": "This dataset reports verified emissions within the EUTL. The EU Emissions Trading System (ETS) is a central instrument of the EU's policy to fight climate change and achieve cost-efficient reductions of greenhouse gas emissions. It is the world's biggest carbon market.",
          "datapackage_json_url": "https://raw.githubusercontent.com/OSUKED/Dictionary-Datasets/main/datasets/eutl/datapackage.json",
          "datapackage_name": "eutl",
          "related_resources": [
           {
            "dictionary_pk_field": "eutl_id",
            "external_fk_field": "account_id",
            "extracted_attributes": [
             "2005",
             "2006",
             "2007",
             "2008",
             "2009",
             "2010",
             "2011",
             "2012",
             "2013",
             "2014",
             "2015",
             "2016",
             "2017",
             "2018",
             "2019",
             "2020",
             "2021"
            ],
            "resource_name": "verified-emissions",
            "resource_url": "https://raw.githubusercontent.com/OSUKED/Dictionary-Datasets/main/datasets/eutl/verified_emissions.csv"
           }
          ]
         },
         "https://raw.githubusercontent.com/OSUKED/Dictionary-Datasets/main/datasets/global-power-plant-database/datapackage.json": {
          "datapackage_description": "The Global Power Plant Database is a comprehensive, open source database of power plants around the world. It centralizes power plant data to make it easier to navigate, compare and draw insights for one’s own analysis. The database covers approximately 35,000 power plants from 167 countries and includes thermal plants (e.g. coal, gas, oil, nuclear, biomass, waste, geothermal) and renewables (e.g. hydro, wind, solar). Each power plant is geolocated and entries contain information on plant capacity, generation, ownership, and fuel type. It will be continuously updated as data becomes available. \n\nThe methodology for the dataset creation is given in the World Resources Institute publication [\"A Global Database of Power Plants\"](https://www.wri.org/research/global-database-power-plants). Data updates may occur without associated updates to this manuscript.",
          "datapackage_json_url": "https://raw.githubusercontent.com/OSUKED/Dictionary-Datasets/main/datasets/global-power-plant-database/datapackage.json",
          "datapackage_name": "global-power-plant-database",
          "related_resources": [
           {
            "dictionary_pk_field": "gppd_idnr",
            "external_fk_field": "gppd_idnr",
            "extracted_attributes": [
             "capacity_mw",
             "longitude",
             "latitude",
             "primary_fuel",
             "other_fuel1",
             "other_fuel2",
             "other_fuel3",
             "commissioning_year",
             "owner",
             "source",
             "url",
             "geolocation_source",
             "wepp_id",
             "year_of_capacity_data",
             "generation_gwh_2013",
             "generation_gwh_2014",
             "generation_gwh_2015",
             "generation_gwh_2016",
             "generation_gwh_2017",
             "generation_gwh_2018",
             "generation_gwh_2019",
             "generation_data_source",
             "estimated_generation_gwh_2013",
             "estimated_generation_gwh_2014",
             "estimated_generation_gwh_2015",
             "estimated_generation_gwh_2016",
             "estimated_generation_gwh_2017"
            ],
            "resource_name": "global-power-plant-database",
            "resource_url": "https://raw.githubusercontent.com/OSUKED/Dictionary-Datasets/main/datasets/global-power-plant-database/global_power_plant_database.csv"
           }
          ]
         },
         "https://raw.githubusercontent.com/OSUKED/Dictionary-Datasets/main/datasets/plant-locations/datapackage.json": {
          "datapackage_description": "Dataset listing the locations of power plants",
          "datapackage_json_url": "https://raw.githubusercontent.com/OSUKED/Dictionary-Datasets/main/datasets/plant-locations/datapackage.json",
          "datapackage_name": "plant-locations",
          "related_resources": [
           {
            "dictionary_pk_field": "osuked_id",
            "external_fk_field": "osuked_id",
            "extracted_attributes": [
             "longitude",
             "latitude"
            ],
            "resource_name": "plant-locations",
            "resource_url": "https://raw.githubusercontent.com/OSUKED/Dictionary-Datasets/main/datasets/plant-locations/plant-locations.csv"
           }
          ]
         }
        },
        "id_hierarchies": {
         "child": {
          "ngc_bmu_id": [
           "COTPS-1",
           "COTPS-2",
           "COTPS-3",
           "COTPS-4"
          ],
          "sett_bmu_id": [
           "T_COTPS-1",
           "T_COTPS-2",
           "T_COTPS-3",
           "T_COTPS-4"
          ]
         },
         "equivalent": {
          "esail_id": "COTPS",
          "eutl_id": 97778,
          "gppd_idnr": "GBR1000142",
          "name": "Cottam"
         },
         "parent": {}
        }
       },
       "10004": {
        "attributes": [
         {
          "attribute": "Longitude",
          "field_schema": {
           "description": "The east–west position of a point on the Earth's surface",
           "format": "default",
           "name": "longitude",
           "title": "Longitude",
           "type": "number"
          },
          "id": 10004,
          "source": "https://raw.githubusercontent.com/OSUKED/Dictionary-Datasets/main/datasets/plant-locations/datapackage.json",
          "value": -0.626221
         },
         {
          "attribute": "Latitude",
          "field_schema": {
           "description": "The north-south position of a point on the Earth's surface",
           "format": "default",
           "name": "latitude",
           "title": "Latitude",
           "type": "number"
          },
          "id": 10004,
          "source": "https://raw.githubusercontent.com/OSUKED/Dictionary-Datasets/main/datasets/plant-locations/datapackage.json",
          "value": 53.748711
         },
         {
          "attribute": "Installed Capacity (MW) ",
          "field_schema": {
           "description": "Installed electrical capacity of eachpower plant (MW) ",
           "format": "default",
           "name": "capacity_mw",
           "title": "Installed Capacity (MW) ",
           "type": "number"
          },
          "id": "GBR0000174",
          "source": "https://raw.githubusercontent.com/OSUKED/Dictionary-Datasets/main/datasets/global-power-plant-database/datapackage.json",
          "value": 1980
         },
         {
          "attribute": "Longitude",
          "field_schema": {
           "description": "The east–west position of a point on the Earth's surface",
           "format": "default",
           "name": "longitude",
           "title": "Longitude",
           "type": "number"
          },
          "id": "GBR0000174",
          "source": "https://raw.githubusercontent.com/OSUKED/Dictionary-Datasets/main/datasets/global-power-plant-database/datapackage.json",
          "value": -0.9911
         },
         {
          "attribute": "Latitude",
          "field_schema": {
           "description": "The north-south position of a point on the Earth's surface",
           "format": "default",
           "name": "latitude",
           "title": "Latitude",
           "type": "number"
          },
          "id": "GBR0000174",
          "source": "https://raw.githubusercontent.com/OSUKED/Dictionary-Datasets/main/datasets/global-power-plant-database/datapackage.json",
          "value": 53.7356
         },
         {
          "attribute": "Primary Fuel Type",
          "field_schema": {
           "description": "The primary fuel used by the power plant",
           "format": "default",
           "name": "primary_fuel",
           "title": "Primary Fuel Type",
           "type": "string"
          },
          "id": "GBR0000174",
          "source": "https://raw.githubusercontent.com/OSUKED/Dictionary-Datasets/main/datasets/global-power-plant-database/datapackage.json",
          "value": "Coal"
         },
         {
          "attribute": "Secondary Fuel Type",
          "field_schema": {
           "description": "The secondary fuel used by the power plant",
           "format": "default",
           "name": "other_fuel1",
           "title": "Secondary Fuel Type",
           "type": "string"
          },
          "id": "GBR0000174",
          "source": "https://raw.githubusercontent.com/OSUKED/Dictionary-Datasets/main/datasets/global-power-plant-database/datapackage.json",
          "value": "Biomass"
         },
         {
          "attribute": "Owner",
          "field_schema": {
           "description": "The primary owner of the power plant",
           "format": "default",
           "name": "owner",
           "title": "Owner",
           "type": "string"
          },
          "id": "GBR0000174",
          "source": "https://raw.githubusercontent.com/OSUKED/Dictionary-Datasets/main/datasets/global-power-plant-database/datapackage.json",
          "value": "Drax Power"
         },
         {
          "attribute": "Source",
          "field_schema": {
           "description": "The source of the data on each power plant",
           "format": "default",
           "name": "source",
           "title": "Source",
           "type": "string"
          },
          "id": "GBR0000174",
          "source": "https://raw.githubusercontent.com/OSUKED/Dictionary-Datasets/main/datasets/global-power-plant-database/datapackage.json",
          "value": "UK Renewable Energy Planning Database"
         },
         {
          "attribute": "URL",
          "field_schema": {
           "description": "URL linking directly to data source",
           "format": "default",
           "name": "url",
           "title": "URL",
           "type": "string"
          },
          "id": "GBR0000174",
          "source": "https://raw.githubusercontent.com/OSUKED/Dictionary-Datasets/main/datasets/global-power-plant-database/datapackage.json",
          "value": "https://www.gov.uk/government/collections/renewable-energy-planning-data"
         },
         {
          "attribute": "Geolocation Source",
          "field_schema": {
           "description": "The source of the spatial data on each power plant",
           "format": "default",
           "name": "geolocation_source",
           "title": "Geolocation Source",
           "type": "string"
          },
          "id": "GBR0000174",
          "source": "https://raw.githubusercontent.com/OSUKED/Dictionary-Datasets/main/datasets/global-power-plant-database/datapackage.json",
          "value": "UK Renewable Energy Planning Database"
         },
         {
          "attribute": "PLATTS-WEPP ID",
          "field_schema": {
           "description": "The unique identifier used to refer to power plants in the PLATTS-WEBB dataset",
           "format": "default",
           "name": "wepp_id",
           "title": "PLATTS-WEPP ID",
           "type": "number"
          },
          "id": "GBR0000174",
          "source": "https://raw.githubusercontent.com/OSUKED/Dictionary-Datasets/main/datasets/global-power-plant-database/datapackage.json",
          "value": 1023594
         },
         {
          "attribute": "Estimated Annual Generation in 2017",
          "field_schema": {
           "description": "Estimated annual generation (during 2017) in gigawatt hours (GWhs), gross",
           "format": "default",
           "name": "estimated_generation_gwh_2017",
           "title": "Estimated Annual Generation in 2017",
           "type": "number"
          },
          "id": "GBR0000174",
          "source": "https://raw.githubusercontent.com/OSUKED/Dictionary-Datasets/main/datasets/global-power-plant-database/datapackage.json",
          "value": 3007.6
         },
         {
          "attribute": "Installed Capacity (MW) ",
          "field_schema": {
           "description": "Installed electrical capacity of eachpower plant (MW) ",
           "format": "default",
           "name": "capacity_mw",
           "title": "Installed Capacity (MW) ",
           "type": "number"
          },
          "id": "GBR1000112",
          "source": "https://raw.githubusercontent.com/OSUKED/Dictionary-Datasets/main/datasets/global-power-plant-database/datapackage.json",
          "value": 75
         },
         {
          "attribute": "Longitude",
          "field_schema": {
           "description": "The east–west position of a point on the Earth's surface",
           "format": "default",
           "name": "longitude",
           "title": "Longitude",
           "type": "number"
          },
          "id": "GBR1000112",
          "source": "https://raw.githubusercontent.com/OSUKED/Dictionary-Datasets/main/datasets/global-power-plant-database/datapackage.json",
          "value": -0.9981
         },
         {
          "attribute": "Latitude",
          "field_schema": {
           "description": "The north-south position of a point on the Earth's surface",
           "format": "default",
           "name": "latitude",
           "title": "Latitude",
           "type": "number"
          },
          "id": "GBR1000112",
          "source": "https://raw.githubusercontent.com/OSUKED/Dictionary-Datasets/main/datasets/global-power-plant-database/datapackage.json",
          "value": 53.7364
         },
         {
          "attribute": "Primary Fuel Type",
          "field_schema": {
           "description": "The primary fuel used by the power plant",
           "format": "default",
           "name": "primary_fuel",
           "title": "Primary Fuel Type",
           "type": "string"
          },
          "id": "GBR1000112",
          "source": "https://raw.githubusercontent.com/OSUKED/Dictionary-Datasets/main/datasets/global-power-plant-database/datapackage.json",
          "value": "Gas"
         },
         {
          "attribute": "Secondary Fuel Type",
          "field_schema": {
           "description": "The secondary fuel used by the power plant",
           "format": "default",
           "name": "other_fuel1",
           "title": "Secondary Fuel Type",
           "type": "string"
          },
          "id": "GBR1000112",
          "source": "https://raw.githubusercontent.com/OSUKED/Dictionary-Datasets/main/datasets/global-power-plant-database/datapackage.json",
          "value": null
         },
         {
          "attribute": "Owner",
          "field_schema": {
           "description": "The primary owner of the power plant",
           "format": "default",
           "name": "owner",
           "title": "Owner",
           "type": "string"
          },
          "id": "GBR1000112",
          "source": "https://raw.githubusercontent.com/OSUKED/Dictionary-Datasets/main/datasets/global-power-plant-database/datapackage.json",
          "value": "Drax Power Ltd"
         },
         {
          "attribute": "Source",
          "field_schema": {
           "description": "The source of the data on each power plant",
           "format": "default",
           "name": "source",
           "title": "Source",
           "type": "string"
          },
          "id": "GBR1000112",
          "source": "https://raw.githubusercontent.com/OSUKED/Dictionary-Datasets/main/datasets/global-power-plant-database/datapackage.json",
          "value": "Department for Business Energy & Industrial Strategy"
         },
         {
          "attribute": "URL",
          "field_schema": {
           "description": "URL linking directly to data source",
           "format": "default",
           "name": "url",
           "title": "URL",
           "type": "string"
          },
          "id": "GBR1000112",
          "source": "https://raw.githubusercontent.com/OSUKED/Dictionary-Datasets/main/datasets/global-power-plant-database/datapackage.json",
          "value": "https://www.gov.uk/government/collections/digest-of-uk-energy-statistics-dukes"
         },
         {
          "attribute": "Geolocation Source",
          "field_schema": {
           "description": "The source of the spatial data on each power plant",
           "format": "default",
           "name": "geolocation_source",
           "title": "Geolocation Source",
           "type": "string"
          },
          "id": "GBR1000112",
          "source": "https://raw.githubusercontent.com/OSUKED/Dictionary-Datasets/main/datasets/global-power-plant-database/datapackage.json",
          "value": "CARMA"
         },
         {
          "attribute": "PLATTS-WEPP ID",
          "field_schema": {
           "description": "The unique identifier used to refer to power plants in the PLATTS-WEBB dataset",
           "format": "default",
           "name": "wepp_id",
           "title": "PLATTS-WEPP ID",
           "type": "number"
          },
          "id": "GBR1000112",
          "source": "https://raw.githubusercontent.com/OSUKED/Dictionary-Datasets/main/datasets/global-power-plant-database/datapackage.json",
          "value": "nan"
         },
         {
          "attribute": "Estimated Annual Generation in 2017",
          "field_schema": {
           "description": "Estimated annual generation (during 2017) in gigawatt hours (GWhs), gross",
           "format": "default",
           "name": "estimated_generation_gwh_2017",
           "title": "Estimated Annual Generation in 2017",
           "type": "number"
          },
          "id": "GBR1000112",
          "source": "https://raw.githubusercontent.com/OSUKED/Dictionary-Datasets/main/datasets/global-power-plant-database/datapackage.json",
          "value": 348
         },
         {
          "attribute": "Tonnes CO2 2005",
          "field_schema": {
           "description": "Tonnes of CO2 released in 2005",
           "format": "default",
           "name": "2005",
           "title": "Tonnes CO2 2005",
           "type": "integer"
          },
          "id": 96842,
          "source": "https://raw.githubusercontent.com/OSUKED/Dictionary-Datasets/main/datasets/eutl/datapackage.json",
          "value": 20771624
         },
         {
          "attribute": "Tonnes CO2 2006",
          "field_schema": {
           "description": "Tonnes of CO2 released in 2006",
           "format": "default",
           "name": "2006",
           "title": "Tonnes CO2 2006",
           "type": "integer"
          },
          "id": 96842,
          "source": "https://raw.githubusercontent.com/OSUKED/Dictionary-Datasets/main/datasets/eutl/datapackage.json",
          "value": 22764847
         },
         {
          "attribute": "Tonnes CO2 2007",
          "field_schema": {
           "description": "Tonnes of CO2 released in 2007",
           "format": "default",
           "name": "2007",
           "title": "Tonnes CO2 2007",
           "type": "integer"
          },
          "id": 96842,
          "source": "https://raw.githubusercontent.com/OSUKED/Dictionary-Datasets/main/datasets/eutl/datapackage.json",
          "value": 22160413
         },
         {
          "attribute": "Tonnes CO2 2008",
          "field_schema": {
           "description": "Tonnes of CO2 released in 2008",
           "format": "default",
           "name": "2008",
           "title": "Tonnes CO2 2008",
           "type": "integer"
          },
          "id": 96842,
          "source": "https://raw.githubusercontent.com/OSUKED/Dictionary-Datasets/main/datasets/eutl/datapackage.json",
          "value": 22299778
         },
         {
          "attribute": "Tonnes CO2 2009",
          "field_schema": {
           "description": "Tonnes of CO2 released in 2009",
           "format": "default",
           "name": "2009",
           "title": "Tonnes CO2 2009",
           "type": "integer"
          },
          "id": 96842,
          "source": "https://raw.githubusercontent.com/OSUKED/Dictionary-Datasets/main/datasets/eutl/datapackage.json",
          "value": 19851702
         },
         {
          "attribute": "Tonnes CO2 2010",
          "field_schema": {
           "description": "Tonnes of CO2 released in 2010",
           "format": "default",
           "name": "2010",
           "title": "Tonnes CO2 2010",
           "type": "integer"
          },
          "id": 96842,
          "source": "https://raw.githubusercontent.com/OSUKED/Dictionary-Datasets/main/datasets/eutl/datapackage.json",
          "value": 22392487
         },
         {
          "attribute": "Tonnes CO2 2011",
          "field_schema": {
           "description": "Tonnes of CO2 released in 2011",
           "format": "default",
           "name": "2011",
           "title": "Tonnes CO2 2011",
           "type": "integer"
          },
          "id": 96842,
          "source": "https://raw.githubusercontent.com/OSUKED/Dictionary-Datasets/main/datasets/eutl/datapackage.json",
          "value": 21465607
         },
         {
          "attribute": "Tonnes CO2 2012",
          "field_schema": {
           "description": "Tonnes of CO2 released in 2012",
           "format": "default",
           "name": "2012",
           "title": "Tonnes CO2 2012",
           "type": "integer"
          },
          "id": 96842,
          "source": "https://raw.githubusercontent.com/OSUKED/Dictionary-Datasets/main/datasets/eutl/datapackage.json",
          "value": 22694684
         },
         {
          "attribute": "Tonnes CO2 2013",
          "field_schema": {
           "description": "Tonnes of CO2 released in 2013",
           "format": "default",
           "name": "2013",
           "title": "Tonnes CO2 2013",
           "type": "integer"
          },
          "id": 96842,
          "source": "https://raw.githubusercontent.com/OSUKED/Dictionary-Datasets/main/datasets/eutl/datapackage.json",
          "value": 20317580
         },
         {
          "attribute": "Tonnes CO2 2014",
          "field_schema": {
           "description": "Tonnes of CO2 released in 2014",
           "format": "default",
           "name": "2014",
           "title": "Tonnes CO2 2014",
           "type": "integer"
          },
          "id": 96842,
          "source": "https://raw.githubusercontent.com/OSUKED/Dictionary-Datasets/main/datasets/eutl/datapackage.json",
          "value": 16581565
         },
         {
          "attribute": "Tonnes CO2 2015",
          "field_schema": {
           "description": "Tonnes of CO2 released in 2015",
           "format": "default",
           "name": "2015",
           "title": "Tonnes CO2 2015",
           "type": "integer"
          },
          "id": 96842,
          "source": "https://raw.githubusercontent.com/OSUKED/Dictionary-Datasets/main/datasets/eutl/datapackage.json",
          "value": 13173987
         },
         {
          "attribute": "Tonnes CO2 2016",
          "field_schema": {
           "description": "Tonnes of CO2 released in 2016",
           "format": "default",
           "name": "2016",
           "title": "Tonnes CO2 2016",
           "type": "integer"
          },
          "id": 96842,
          "source": "https://raw.githubusercontent.com/OSUKED/Dictionary-Datasets/main/datasets/eutl/datapackage.json",
          "value": 6171178
         },
         {
          "attribute": "Tonnes CO2 2017",
          "field_schema": {
           "description": "Tonnes of CO2 released in 2017",
           "format": "default",
           "name": "2017",
           "title": "Tonnes CO2 2017",
           "type": "integer"
          },
          "id": 96842,
          "source": "https://raw.githubusercontent.com/OSUKED/Dictionary-Datasets/main/datasets/eutl/datapackage.json",
          "value": 6215220
         },
         {
          "attribute": "Tonnes CO2 2018",
          "field_schema": {
           "description": "Tonnes of CO2 released in 2018",
           "format": "default",
           "name": "2018",
           "title": "Tonnes CO2 2018",
           "type": "integer"
          },
          "id": 96842,
          "source": "https://raw.githubusercontent.com/OSUKED/Dictionary-Datasets/main/datasets/eutl/datapackage.json",
          "value": 4138782
         },
         {
          "attribute": "Tonnes CO2 2019",
          "field_schema": {
           "description": "Tonnes of CO2 released in 2019",
           "format": "default",
           "name": "2019",
           "title": "Tonnes CO2 2019",
           "type": "integer"
          },
          "id": 96842,
          "source": "https://raw.githubusercontent.com/OSUKED/Dictionary-Datasets/main/datasets/eutl/datapackage.json",
          "value": 725751
         },
         {
          "attribute": "Tonnes CO2 2020",
          "field_schema": {
           "description": "Tonnes of CO2 released in 2020",
           "format": "default",
           "name": "2020",
           "title": "Tonnes CO2 2020",
           "type": "integer"
          },
          "id": 96842,
          "source": "https://raw.githubusercontent.com/OSUKED/Dictionary-Datasets/main/datasets/eutl/datapackage.json",
          "value": 1527003
         }
        ],
        "datasets": {
         "https://raw.githubusercontent.com/OSUKED/Dictionary-Datasets/main/datasets/eutl/datapackage.json": {
          "datapackage_description": "This dataset reports verified emissions within the EUTL. The EU Emissions Trading System (ETS) is a central instrument of the EU's policy to fight climate change and achieve cost-efficient reductions of greenhouse gas emissions. It is the world's biggest carbon market.",
          "datapackage_json_url": "https://raw.githubusercontent.com/OSUKED/Dictionary-Datasets/main/datasets/eutl/datapackage.json",
          "datapackage_name": "eutl",
          "related_resources": [
           {
            "dictionary_pk_field": "eutl_id",
            "external_fk_field": "account_id",
            "extracted_attributes": [
             "2005",
             "2006",
             "2007",
             "2008",
             "2009",
             "2010",
             "2011",
             "2012",
             "2013",
             "2014",
             "2015",
             "2016",
             "2017",
             "2018",
             "2019",
             "2020",
             "2021"
            ],
            "resource_name": "verified-emissions",
            "resource_url": "https://raw.githubusercontent.com/OSUKED/Dictionary-Datasets/main/datasets/eutl/verified_emissions.csv"
           }
          ]
         },
         "https://raw.githubusercontent.com/OSUKED/Dictionary-Datasets/main/datasets/global-power-plant-database/datapackage.json": {
          "datapackage_description": "The Global Power Plant Database is a comprehensive, open source database of power plants around the world. It centralizes power plant data to make it easier to navigate, compare and draw insights for one’s own analysis. The database covers approximately 35,000 power plants from 167 countries and includes thermal plants (e.g. coal, gas, oil, nuclear, biomass, waste, geothermal) and renewables (e.g. hydro, wind, solar). Each power plant is geolocated and entries contain information on plant capacity, generation, ownership, and fuel type. It will be continuously updated as data becomes available. \n\nThe methodology for the dataset creation is given in the World Resources Institute publication [\"A Global Database of Power Plants\"](https://www.wri.org/research/global-database-power-plants). Data updates may occur without associated updates to this manuscript.",
          "datapackage_json_url": "https://raw.githubusercontent.com/OSUKED/Dictionary-Datasets/main/datasets/global-power-plant-database/datapackage.json",
          "datapackage_name": "global-power-plant-database",
          "related_resources": [
           {
            "dictionary_pk_field": "gppd_idnr",
            "external_fk_field": "gppd_idnr",
            "extracted_attributes": [
             "capacity_mw",
             "longitude",
             "latitude",
             "primary_fuel",
             "other_fuel1",
             "other_fuel2",
             "other_fuel3",
             "commissioning_year",
             "owner",
             "source",
             "url",
             "geolocation_source",
             "wepp_id",
             "year_of_capacity_data",
             "generation_gwh_2013",
             "generation_gwh_2014",
             "generation_gwh_2015",
             "generation_gwh_2016",
             "generation_gwh_2017",
             "generation_gwh_2018",
             "generation_gwh_2019",
             "generation_data_source",
             "estimated_generation_gwh_2013",
             "estimated_generation_gwh_2014",
             "estimated_generation_gwh_2015",
             "estimated_generation_gwh_2016",
             "estimated_generation_gwh_2017"
            ],
            "resource_name": "global-power-plant-database",
            "resource_url": "https://raw.githubusercontent.com/OSUKED/Dictionary-Datasets/main/datasets/global-power-plant-database/global_power_plant_database.csv"
           }
          ]
         },
         "https://raw.githubusercontent.com/OSUKED/Dictionary-Datasets/main/datasets/plant-locations/datapackage.json": {
          "datapackage_description": "Dataset listing the locations of power plants",
          "datapackage_json_url": "https://raw.githubusercontent.com/OSUKED/Dictionary-Datasets/main/datasets/plant-locations/datapackage.json",
          "datapackage_name": "plant-locations",
          "related_resources": [
           {
            "dictionary_pk_field": "osuked_id",
            "external_fk_field": "osuked_id",
            "extracted_attributes": [
             "longitude",
             "latitude"
            ],
            "resource_name": "plant-locations",
            "resource_url": "https://raw.githubusercontent.com/OSUKED/Dictionary-Datasets/main/datasets/plant-locations/plant-locations.csv"
           }
          ]
         }
        },
        "id_hierarchies": {
         "child": {
          "gppd_idnr": [
           "GBR0000174",
           "GBR1000112"
          ],
          "ngc_bmu_id": [
           "DRAXX-1",
           "DRAXX-2",
           "DRAXX-3",
           "DRAXX-4",
           "DRAXX-5",
           "DRAXX-6",
           "DRAXX-10G",
           "DRAXX-12G",
           "DRAXX-9G"
          ],
          "sett_bmu_id": [
           "T_DRAXX-1",
           "T_DRAXX-2",
           "T_DRAXX-3",
           "T_DRAXX-4",
           "T_DRAXX-5",
           "T_DRAXX-6",
           "T_DRAXX-10G",
           "T_DRAXX-12G",
           "T_DRAXX-9G"
          ]
         },
         "equivalent": {
          "esail_id": "DRAXX",
          "eutl_id": 96842,
          "name": "Drax"
         },
         "parent": {}
        }
       }
      },
      "text/plain": [
       "<IPython.core.display.JSON object>"
      ]
     },
     "execution_count": 24,
     "metadata": {
      "application/json": {
       "expanded": false,
       "root": "root"
      }
     },
     "output_type": "execute_result"
    }
   ],
   "source": [
    "JSON(get_dict_head(site_data))"
   ]
  },
  {
   "cell_type": "code",
   "execution_count": null,
   "id": "8c927dc4-6933-4f3c-9227-2b6e931806db",
   "metadata": {},
   "outputs": [],
   "source": []
  },
  {
   "cell_type": "code",
   "execution_count": 25,
   "id": "324ade08-2931-4947-a0c0-d962f959e2cf",
   "metadata": {},
   "outputs": [],
   "source": [
    "save_site_data = False\n",
    "site_data_fp = '../data/intermediate/site_data.json'\n",
    "\n",
    "if save_site_data == True:\n",
    "    with open(site_data_fp, 'w') as f:\n",
    "        json.dump(site_data, f)"
   ]
  },
  {
   "cell_type": "code",
   "execution_count": null,
   "id": "5cf72add-c47b-4d6f-970c-e2902b964a30",
   "metadata": {},
   "outputs": [],
   "source": []
  },
  {
   "cell_type": "code",
   "execution_count": 26,
   "id": "b3fe6d4d-1dd9-43f1-9a71-f7563b0e22fd",
   "metadata": {},
   "outputs": [],
   "source": [
    "# need to create a JSON for the datasets where the id (.json url) and name are passed as well as the id column they're matched on and the relevant attributes\n",
    "# then start work on the html templates for site pages\n",
    "# then create the dictionary template\n",
    "# add in the links between the dictionary and sites\n",
    "# create dataset pages (and link to them as well)"
   ]
  },
  {
   "cell_type": "code",
   "execution_count": null,
   "id": "2409f2dc-7512-4a27-bdf7-13faa2d3e8a8",
   "metadata": {},
   "outputs": [],
   "source": []
  },
  {
   "cell_type": "code",
   "execution_count": 27,
   "id": "fea646b4-86f3-454f-ad02-9e0055262f0d",
   "metadata": {},
   "outputs": [
    {
     "name": "stdout",
     "output_type": "stream",
     "text": [
      "Converted 00-documentation.ipynb.\n",
      "Converted 01-combining power station data.ipynb.\n",
      "Converted 02-attribute extraction.ipynb.\n",
      "Converted 03-page-population.ipynb.\n"
     ]
    }
   ],
   "source": [
    "#hide\n",
    "from nbdev.export import *\n",
    "notebook2script()"
   ]
  }
 ],
 "metadata": {
  "kernelspec": {
   "display_name": "PowerDict",
   "language": "python",
   "name": "powerdict"
  },
  "language_info": {
   "codemirror_mode": {
    "name": "ipython",
    "version": 3
   },
   "file_extension": ".py",
   "mimetype": "text/x-python",
   "name": "python",
   "nbconvert_exporter": "python",
   "pygments_lexer": "ipython3",
   "version": "3.9.6"
  }
 },
 "nbformat": 4,
 "nbformat_minor": 5
}
