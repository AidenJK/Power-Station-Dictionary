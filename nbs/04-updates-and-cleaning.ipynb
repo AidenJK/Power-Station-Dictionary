{
 "cells": [
  {
   "cell_type": "code",
   "execution_count": 1,
   "metadata": {},
   "outputs": [],
   "source": [
    "# default_exp update"
   ]
  },
  {
   "cell_type": "markdown",
   "metadata": {},
   "source": [
    "# Data Checks, Updates & Cleaning\n",
    "\n",
    "<br>\n",
    "\n",
    "### Imports"
   ]
  },
  {
   "cell_type": "code",
   "execution_count": 2,
   "metadata": {},
   "outputs": [],
   "source": [
    "#exports\n",
    "import json\n",
    "import pandas as pd\n",
    "\n",
    "import os\n",
    "from warnings import warn\n",
    "\n",
    "from powerdict import construct"
   ]
  },
  {
   "cell_type": "code",
   "execution_count": 3,
   "metadata": {},
   "outputs": [],
   "source": [
    "from IPython.display import JSON"
   ]
  },
  {
   "cell_type": "markdown",
   "metadata": {},
   "source": [
    "<br>\n",
    "\n",
    "### User Inputs"
   ]
  },
  {
   "cell_type": "code",
   "execution_count": 12,
   "metadata": {},
   "outputs": [],
   "source": [
    "intermediate_data_dir = '../data/intermediate'\n",
    "updates_data_dir = '../data/updates'\n",
    "definitions_dir = '../data/definitions'"
   ]
  },
  {
   "cell_type": "markdown",
   "metadata": {},
   "source": [
    "<br>\n",
    "\n",
    "### Loading in Intermediate Data"
   ]
  },
  {
   "cell_type": "code",
   "execution_count": 5,
   "metadata": {},
   "outputs": [
    {
     "data": {
      "text/html": [
       "<div>\n",
       "<style scoped>\n",
       "    .dataframe tbody tr th:only-of-type {\n",
       "        vertical-align: middle;\n",
       "    }\n",
       "\n",
       "    .dataframe tbody tr th {\n",
       "        vertical-align: top;\n",
       "    }\n",
       "\n",
       "    .dataframe thead th {\n",
       "        text-align: right;\n",
       "    }\n",
       "</style>\n",
       "<table border=\"1\" class=\"dataframe\">\n",
       "  <thead>\n",
       "    <tr style=\"text-align: right;\">\n",
       "      <th></th>\n",
       "      <th>bmu_root</th>\n",
       "      <th>fuel_type</th>\n",
       "      <th>sett_bmu_id</th>\n",
       "      <th>longitude</th>\n",
       "      <th>latitude</th>\n",
       "    </tr>\n",
       "    <tr>\n",
       "      <th>osuked_id</th>\n",
       "      <th></th>\n",
       "      <th></th>\n",
       "      <th></th>\n",
       "      <th></th>\n",
       "      <th></th>\n",
       "    </tr>\n",
       "  </thead>\n",
       "  <tbody>\n",
       "    <tr>\n",
       "      <th>10000</th>\n",
       "      <td>MARK</td>\n",
       "      <td>biomass</td>\n",
       "      <td>E_MARK-1, E_MARK-2</td>\n",
       "      <td>-3.603516</td>\n",
       "      <td>57.480403</td>\n",
       "    </tr>\n",
       "    <tr>\n",
       "      <th>10001</th>\n",
       "      <td>DIDC</td>\n",
       "      <td>coal</td>\n",
       "      <td>T_DIDC1, T_DIDC2, T_DIDC4, T_DIDC3</td>\n",
       "      <td>-1.26757</td>\n",
       "      <td>51.62363</td>\n",
       "    </tr>\n",
       "    <tr>\n",
       "      <th>10002</th>\n",
       "      <td>ABTH</td>\n",
       "      <td>coal</td>\n",
       "      <td>T_ABTH7, T_ABTH8, T_ABTH9</td>\n",
       "      <td>-3.404866</td>\n",
       "      <td>51.387312</td>\n",
       "    </tr>\n",
       "    <tr>\n",
       "      <th>10003</th>\n",
       "      <td>COTPS</td>\n",
       "      <td>coal</td>\n",
       "      <td>T_COTPS-1, T_COTPS-2, T_COTPS-3, T_COTPS-4</td>\n",
       "      <td>-0.648193</td>\n",
       "      <td>53.245495</td>\n",
       "    </tr>\n",
       "    <tr>\n",
       "      <th>10004</th>\n",
       "      <td>DRAXX</td>\n",
       "      <td>coal</td>\n",
       "      <td>T_DRAXX-1, T_DRAXX-2, T_DRAXX-3, T_DRAXX-4, T_...</td>\n",
       "      <td>-0.626221</td>\n",
       "      <td>53.748711</td>\n",
       "    </tr>\n",
       "  </tbody>\n",
       "</table>\n",
       "</div>"
      ],
      "text/plain": [
       "          bmu_root fuel_type  \\\n",
       "osuked_id                      \n",
       "10000         MARK   biomass   \n",
       "10001         DIDC      coal   \n",
       "10002         ABTH      coal   \n",
       "10003        COTPS      coal   \n",
       "10004        DRAXX      coal   \n",
       "\n",
       "                                                 sett_bmu_id  longitude  \\\n",
       "osuked_id                                                                 \n",
       "10000                                     E_MARK-1, E_MARK-2  -3.603516   \n",
       "10001                     T_DIDC1, T_DIDC2, T_DIDC4, T_DIDC3   -1.26757   \n",
       "10002                              T_ABTH7, T_ABTH8, T_ABTH9  -3.404866   \n",
       "10003             T_COTPS-1, T_COTPS-2, T_COTPS-3, T_COTPS-4  -0.648193   \n",
       "10004      T_DRAXX-1, T_DRAXX-2, T_DRAXX-3, T_DRAXX-4, T_...  -0.626221   \n",
       "\n",
       "            latitude  \n",
       "osuked_id             \n",
       "10000      57.480403  \n",
       "10001       51.62363  \n",
       "10002      51.387312  \n",
       "10003      53.245495  \n",
       "10004      53.748711  "
      ]
     },
     "execution_count": 5,
     "metadata": {},
     "output_type": "execute_result"
    }
   ],
   "source": [
    "df = pd.read_csv(f'{intermediate_data_dir}/power_stations.csv').astype(str).set_index('osuked_id')\n",
    "\n",
    "df.head()"
   ]
  },
  {
   "cell_type": "markdown",
   "metadata": {},
   "source": [
    "<br>\n",
    "\n",
    "### Data Checks\n",
    "\n",
    "We'll start by confirming that none of the plants have multiple locations assigned to them"
   ]
  },
  {
   "cell_type": "code",
   "execution_count": 6,
   "metadata": {},
   "outputs": [],
   "source": [
    "#exports\n",
    "def filter_cols_for_one_to_many(df, cols=['longitude', 'latitude']):\n",
    "    df_one_to_many_filt = df[df[cols].astype(str).agg(''.join, axis=1).str.contains(', ')]\n",
    "    return df_one_to_many_filt"
   ]
  },
  {
   "cell_type": "code",
   "execution_count": 7,
   "metadata": {},
   "outputs": [],
   "source": [
    "df_multiple_locs = filter_cols_for_one_to_many(df)\n",
    "\n",
    "assert df_multiple_locs.size == 0, 'There should not be multiple locations for a single site'"
   ]
  },
  {
   "cell_type": "code",
   "execution_count": null,
   "metadata": {},
   "outputs": [],
   "source": []
  },
  {
   "cell_type": "code",
   "execution_count": 8,
   "metadata": {},
   "outputs": [],
   "source": [
    "#exports\n",
    "def apply_updates(df, updates_data_dir):\n",
    "    update_files = [f for f in os.listdir(updates_data_dir) if f.replace('.json', '') in df.columns]\n",
    "\n",
    "    for update_file in update_files:    \n",
    "        with open(f'{updates_data_dir}/{update_file}', 'r') as f:\n",
    "            update_dict = json.load(f)\n",
    "\n",
    "        update_col = update_file.replace('.json', '')\n",
    "        df = construct.update_df_col(df, update_col, update_dict)\n",
    "        \n",
    "    return df"
   ]
  },
  {
   "cell_type": "code",
   "execution_count": 9,
   "metadata": {},
   "outputs": [
    {
     "data": {
      "text/html": [
       "<div>\n",
       "<style scoped>\n",
       "    .dataframe tbody tr th:only-of-type {\n",
       "        vertical-align: middle;\n",
       "    }\n",
       "\n",
       "    .dataframe tbody tr th {\n",
       "        vertical-align: top;\n",
       "    }\n",
       "\n",
       "    .dataframe thead th {\n",
       "        text-align: right;\n",
       "    }\n",
       "</style>\n",
       "<table border=\"1\" class=\"dataframe\">\n",
       "  <thead>\n",
       "    <tr style=\"text-align: right;\">\n",
       "      <th></th>\n",
       "      <th>bmu_root</th>\n",
       "      <th>fuel_type</th>\n",
       "      <th>sett_bmu_id</th>\n",
       "      <th>longitude</th>\n",
       "      <th>latitude</th>\n",
       "    </tr>\n",
       "    <tr>\n",
       "      <th>osuked_id</th>\n",
       "      <th></th>\n",
       "      <th></th>\n",
       "      <th></th>\n",
       "      <th></th>\n",
       "      <th></th>\n",
       "    </tr>\n",
       "  </thead>\n",
       "  <tbody>\n",
       "    <tr>\n",
       "      <th>10000</th>\n",
       "      <td>MARK</td>\n",
       "      <td>biomass</td>\n",
       "      <td>E_MARK-1, E_MARK-2</td>\n",
       "      <td>-3.603516</td>\n",
       "      <td>57.480403</td>\n",
       "    </tr>\n",
       "    <tr>\n",
       "      <th>10001</th>\n",
       "      <td>DIDC</td>\n",
       "      <td>coal</td>\n",
       "      <td>T_DIDC1, T_DIDC2, T_DIDC4, T_DIDC3</td>\n",
       "      <td>-1.26757</td>\n",
       "      <td>51.62363</td>\n",
       "    </tr>\n",
       "    <tr>\n",
       "      <th>10002</th>\n",
       "      <td>ABTH</td>\n",
       "      <td>coal</td>\n",
       "      <td>T_ABTH7, T_ABTH8, T_ABTH9</td>\n",
       "      <td>-3.404866</td>\n",
       "      <td>51.387312</td>\n",
       "    </tr>\n",
       "    <tr>\n",
       "      <th>10003</th>\n",
       "      <td>COTPS</td>\n",
       "      <td>coal</td>\n",
       "      <td>T_COTPS-1, T_COTPS-2, T_COTPS-3, T_COTPS-4</td>\n",
       "      <td>-0.648193</td>\n",
       "      <td>53.245495</td>\n",
       "    </tr>\n",
       "    <tr>\n",
       "      <th>10004</th>\n",
       "      <td>DRAXX</td>\n",
       "      <td>coal, biomass</td>\n",
       "      <td>T_DRAXX-1, T_DRAXX-2, T_DRAXX-3, T_DRAXX-4, T_...</td>\n",
       "      <td>-0.626221</td>\n",
       "      <td>53.748711</td>\n",
       "    </tr>\n",
       "  </tbody>\n",
       "</table>\n",
       "</div>"
      ],
      "text/plain": [
       "          bmu_root      fuel_type  \\\n",
       "osuked_id                           \n",
       "10000         MARK        biomass   \n",
       "10001         DIDC           coal   \n",
       "10002         ABTH           coal   \n",
       "10003        COTPS           coal   \n",
       "10004        DRAXX  coal, biomass   \n",
       "\n",
       "                                                 sett_bmu_id  longitude  \\\n",
       "osuked_id                                                                 \n",
       "10000                                     E_MARK-1, E_MARK-2  -3.603516   \n",
       "10001                     T_DIDC1, T_DIDC2, T_DIDC4, T_DIDC3   -1.26757   \n",
       "10002                              T_ABTH7, T_ABTH8, T_ABTH9  -3.404866   \n",
       "10003             T_COTPS-1, T_COTPS-2, T_COTPS-3, T_COTPS-4  -0.648193   \n",
       "10004      T_DRAXX-1, T_DRAXX-2, T_DRAXX-3, T_DRAXX-4, T_...  -0.626221   \n",
       "\n",
       "            latitude  \n",
       "osuked_id             \n",
       "10000      57.480403  \n",
       "10001       51.62363  \n",
       "10002      51.387312  \n",
       "10003      53.245495  \n",
       "10004      53.748711  "
      ]
     },
     "execution_count": 9,
     "metadata": {},
     "output_type": "execute_result"
    }
   ],
   "source": [
    "df = apply_updates(df, updates_data_dir)\n",
    "\n",
    "df.head()"
   ]
  },
  {
   "cell_type": "code",
   "execution_count": null,
   "metadata": {},
   "outputs": [],
   "source": []
  },
  {
   "cell_type": "code",
   "execution_count": 14,
   "metadata": {},
   "outputs": [
    {
     "data": {
      "application/json": {
       "capacity": "float",
       "fuel_type": [
        "gas",
        "coal",
        "wind",
        "solar",
        "oil",
        "hydro",
        "nuclear",
        "biomass",
        "other"
       ],
       "latitude": "float",
       "longitude": "float",
       "plant_type": [
        "ccgt",
        "ocgt",
        "coal",
        "onshore_wind",
        "offshore_wind",
        "floating_wind",
        "conc_solar",
        "pv_solar",
        "oil",
        "run_of_river",
        "pumped_storage",
        "nuclear",
        "aggregator",
        "battery",
        "biomass",
        "other"
       ],
       "sett_bmu_id": "str"
      },
      "text/plain": [
       "<IPython.core.display.JSON object>"
      ]
     },
     "execution_count": 14,
     "metadata": {
      "application/json": {
       "expanded": false,
       "root": "root"
      }
     },
     "output_type": "execute_result"
    }
   ],
   "source": [
    "with open(f'{definitions_dir}/outputs.json', 'r') as f:\n",
    "    outputs = json.load(f)\n",
    "    \n",
    "JSON(outputs)"
   ]
  },
  {
   "cell_type": "code",
   "execution_count": null,
   "metadata": {},
   "outputs": [],
   "source": []
  },
  {
   "cell_type": "code",
   "execution_count": null,
   "metadata": {},
   "outputs": [],
   "source": [
    "# apply output def checks then apply dtypes"
   ]
  },
  {
   "cell_type": "code",
   "execution_count": null,
   "metadata": {},
   "outputs": [],
   "source": []
  },
  {
   "cell_type": "code",
   "execution_count": null,
   "metadata": {},
   "outputs": [],
   "source": []
  },
  {
   "cell_type": "code",
   "execution_count": null,
   "metadata": {},
   "outputs": [],
   "source": []
  }
 ],
 "metadata": {
  "kernelspec": {
   "display_name": "PowerDict",
   "language": "python",
   "name": "powerdict"
  },
  "language_info": {
   "codemirror_mode": {
    "name": "ipython",
    "version": 3
   },
   "file_extension": ".py",
   "mimetype": "text/x-python",
   "name": "python",
   "nbconvert_exporter": "python",
   "pygments_lexer": "ipython3",
   "version": "3.9.1"
  }
 },
 "nbformat": 4,
 "nbformat_minor": 4
}
