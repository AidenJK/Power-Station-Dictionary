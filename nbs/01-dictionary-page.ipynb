{
 "cells": [
  {
   "cell_type": "code",
   "execution_count": 1,
   "id": "9cdfda87-5f3c-4e2c-b004-f580851d7bc3",
   "metadata": {},
   "outputs": [],
   "source": [
    "# default_exp dictionary"
   ]
  },
  {
   "cell_type": "markdown",
   "id": "e78b4409-0342-489f-ba59-24f45124a36b",
   "metadata": {},
   "source": [
    "# Dictionary Page Generation\n",
    "\n",
    "<br>\n",
    "\n",
    "### Imports"
   ]
  },
  {
   "cell_type": "code",
   "execution_count": 116,
   "id": "9ea6c982-8745-4204-b4c2-54abc03ce8ee",
   "metadata": {},
   "outputs": [],
   "source": [
    "import json\n",
    "import numpy as np\n",
    "import pandas as pd\n",
    "\n",
    "from frictionless import Package\n",
    "\n",
    "from jinja2 import Template"
   ]
  },
  {
   "cell_type": "code",
   "execution_count": 56,
   "id": "5a51177c-72bf-48e5-bd47-568f9350f685",
   "metadata": {},
   "outputs": [],
   "source": [
    "from IPython.display import JSON, Markdown"
   ]
  },
  {
   "cell_type": "code",
   "execution_count": null,
   "id": "5fe4ceda-7762-4787-b8ed-f6e0efaebdd2",
   "metadata": {},
   "outputs": [],
   "source": []
  },
  {
   "cell_type": "code",
   "execution_count": 65,
   "id": "de278622-e757-445f-b3e6-b6f10e0ffdaf",
   "metadata": {},
   "outputs": [
    {
     "data": {
      "text/html": [
       "<div>\n",
       "<style scoped>\n",
       "    .dataframe tbody tr th:only-of-type {\n",
       "        vertical-align: middle;\n",
       "    }\n",
       "\n",
       "    .dataframe tbody tr th {\n",
       "        vertical-align: top;\n",
       "    }\n",
       "\n",
       "    .dataframe thead th {\n",
       "        text-align: right;\n",
       "    }\n",
       "</style>\n",
       "<table border=\"1\" class=\"dataframe\">\n",
       "  <thead>\n",
       "    <tr style=\"text-align: right;\">\n",
       "      <th></th>\n",
       "      <th>gppd_idnr</th>\n",
       "      <th>esail_id</th>\n",
       "      <th>name</th>\n",
       "      <th>sett_bmu_id</th>\n",
       "      <th>ngc_bmu_id</th>\n",
       "      <th>4c_offshore_id</th>\n",
       "      <th>windpowernet_id</th>\n",
       "      <th>wikidata_id</th>\n",
       "      <th>wikipedia_id</th>\n",
       "      <th>power_technology_id</th>\n",
       "      <th>eutl_id</th>\n",
       "      <th>eic_id</th>\n",
       "      <th>cfd_id</th>\n",
       "    </tr>\n",
       "    <tr>\n",
       "      <th>osuked_id</th>\n",
       "      <th></th>\n",
       "      <th></th>\n",
       "      <th></th>\n",
       "      <th></th>\n",
       "      <th></th>\n",
       "      <th></th>\n",
       "      <th></th>\n",
       "      <th></th>\n",
       "      <th></th>\n",
       "      <th></th>\n",
       "      <th></th>\n",
       "      <th></th>\n",
       "      <th></th>\n",
       "    </tr>\n",
       "  </thead>\n",
       "  <tbody>\n",
       "    <tr>\n",
       "      <th>10000</th>\n",
       "      <td>None</td>\n",
       "      <td>MARK</td>\n",
       "      <td>Rothes Bio-Plant CHP</td>\n",
       "      <td>[E_MARK-1, E_MARK-2]</td>\n",
       "      <td>[MARK-1, MARK-2]</td>\n",
       "      <td>None</td>\n",
       "      <td>None</td>\n",
       "      <td>None</td>\n",
       "      <td>None</td>\n",
       "      <td>None</td>\n",
       "      <td>None</td>\n",
       "      <td>[48W000000MARK-1D]</td>\n",
       "      <td>None</td>\n",
       "    </tr>\n",
       "    <tr>\n",
       "      <th>10001</th>\n",
       "      <td>[GBR1000377, GBR1000369]</td>\n",
       "      <td>DIDC</td>\n",
       "      <td>Didcot</td>\n",
       "      <td>[T_DIDC1, T_DIDC2, T_DIDC4, T_DIDC3, T_DIDC1G,...</td>\n",
       "      <td>[DIDC1, DIDC2, DIDC4, DIDC3, DIDC1G, DIDC2G, D...</td>\n",
       "      <td>None</td>\n",
       "      <td>None</td>\n",
       "      <td>None</td>\n",
       "      <td>None</td>\n",
       "      <td>None</td>\n",
       "      <td>[97165]</td>\n",
       "      <td>[48W00000DIDC01G1, 48W00000DIDC02GZ, 48W00000D...</td>\n",
       "      <td>None</td>\n",
       "    </tr>\n",
       "    <tr>\n",
       "      <th>10002</th>\n",
       "      <td>[GBR1000374, GBR1000375]</td>\n",
       "      <td>ABTH</td>\n",
       "      <td>Aberthaw B</td>\n",
       "      <td>[T_ABTH7, T_ABTH8, T_ABTH9, T_ABTH7G, T_ABTH8G...</td>\n",
       "      <td>[ABTH7, ABTH8, ABTH9, ABTH7G, ABTH8G, ABTH9G]</td>\n",
       "      <td>None</td>\n",
       "      <td>None</td>\n",
       "      <td>None</td>\n",
       "      <td>None</td>\n",
       "      <td>None</td>\n",
       "      <td>[97175]</td>\n",
       "      <td>[48W0000000ABTH7Y, 48W0000000ABTH8W, 48W000000...</td>\n",
       "      <td>None</td>\n",
       "    </tr>\n",
       "  </tbody>\n",
       "</table>\n",
       "</div>"
      ],
      "text/plain": [
       "                          gppd_idnr esail_id                  name  \\\n",
       "osuked_id                                                            \n",
       "10000                          None     MARK  Rothes Bio-Plant CHP   \n",
       "10001      [GBR1000377, GBR1000369]     DIDC                Didcot   \n",
       "10002      [GBR1000374, GBR1000375]     ABTH            Aberthaw B   \n",
       "\n",
       "                                                 sett_bmu_id  \\\n",
       "osuked_id                                                      \n",
       "10000                                   [E_MARK-1, E_MARK-2]   \n",
       "10001      [T_DIDC1, T_DIDC2, T_DIDC4, T_DIDC3, T_DIDC1G,...   \n",
       "10002      [T_ABTH7, T_ABTH8, T_ABTH9, T_ABTH7G, T_ABTH8G...   \n",
       "\n",
       "                                                  ngc_bmu_id 4c_offshore_id  \\\n",
       "osuked_id                                                                     \n",
       "10000                                       [MARK-1, MARK-2]           None   \n",
       "10001      [DIDC1, DIDC2, DIDC4, DIDC3, DIDC1G, DIDC2G, D...           None   \n",
       "10002          [ABTH7, ABTH8, ABTH9, ABTH7G, ABTH8G, ABTH9G]           None   \n",
       "\n",
       "          windpowernet_id wikidata_id wikipedia_id power_technology_id  \\\n",
       "osuked_id                                                                \n",
       "10000                None        None         None                None   \n",
       "10001                None        None         None                None   \n",
       "10002                None        None         None                None   \n",
       "\n",
       "           eutl_id                                             eic_id cfd_id  \n",
       "osuked_id                                                                     \n",
       "10000         None                                 [48W000000MARK-1D]   None  \n",
       "10001      [97165]  [48W00000DIDC01G1, 48W00000DIDC02GZ, 48W00000D...   None  \n",
       "10002      [97175]  [48W0000000ABTH7Y, 48W0000000ABTH8W, 48W000000...   None  "
      ]
     },
     "execution_count": 65,
     "metadata": {},
     "output_type": "execute_result"
    }
   ],
   "source": [
    "datapackage_json_fp = '../data/dictionary/datapackage.json'\n",
    "\n",
    "package = Package(datapackage_json_fp, profile='tabular-data-package')\n",
    "ids_resource = package.get_resource('ids')\n",
    "\n",
    "df_ids = ids_resource.to_pandas()\n",
    "\n",
    "df_ids.head(3)"
   ]
  },
  {
   "cell_type": "code",
   "execution_count": null,
   "id": "f772940a-bcfb-4abf-a1cd-54a866bc9961",
   "metadata": {},
   "outputs": [],
   "source": []
  },
  {
   "cell_type": "code",
   "execution_count": 53,
   "id": "da953623-c86e-4081-a62b-7a6e3651d747",
   "metadata": {},
   "outputs": [],
   "source": [
    "# need to include the file format\n",
    "\n",
    "def construct_metadata_table_str(package):\n",
    "    s_metadata = pd.Series({\n",
    "        'Version': package.version,\n",
    "        'Contributors': ', '.join([f'{contributor[\"title\"]} ({contributor[\"role\"].capitalize()})' for contributor in package.contributors]),\n",
    "        'Key words': ', '.join(package.keywords),\n",
    "        'Licences': ', '.join([f'[{license[\"name\"]}]({license[\"path\"]})' for license in package.licenses]),\n",
    "    })\n",
    "    \n",
    "    s_metadata.index.name = 'Attribute'\n",
    "    s_metadata.name = 'Value(s)'\n",
    "    \n",
    "    md_str = s_metadata.to_markdown()\n",
    "    \n",
    "    return md_str"
   ]
  },
  {
   "cell_type": "code",
   "execution_count": 59,
   "id": "32b58989-d891-47cf-b75a-4ef7d8859117",
   "metadata": {},
   "outputs": [
    {
     "data": {
      "text/markdown": [
       "| Attribute    | Value(s)                                                  |\n",
       "|:-------------|:----------------------------------------------------------|\n",
       "| Version      | 1.0.0                                                     |\n",
       "| Contributors | Ayrton Bourn (Author)                                     |\n",
       "| Key words    | power plants, ids                                         |\n",
       "| Licences     | [CC-BY-4.0](https://creativecommons.org/licenses/by/4.0/) |"
      ],
      "text/plain": [
       "<IPython.core.display.Markdown object>"
      ]
     },
     "execution_count": 59,
     "metadata": {},
     "output_type": "execute_result"
    }
   ],
   "source": [
    "metadata_table_str = construct_metadata_table_str(package)\n",
    "\n",
    "Markdown(metadata_table_str)"
   ]
  },
  {
   "cell_type": "code",
   "execution_count": null,
   "id": "4eccf99e-22d2-4b22-bdac-1b30f1bbb4f0",
   "metadata": {},
   "outputs": [],
   "source": []
  },
  {
   "cell_type": "code",
   "execution_count": 57,
   "id": "c8f4be0b-89d5-4e66-a759-4d20684a995a",
   "metadata": {},
   "outputs": [],
   "source": [
    "#exports\n",
    "def construct_field_desc_table_str(package, resource='ids'):\n",
    "    s_field_descs = pd.Series({field['title']: field['description'] for field in package.get_resource(resource).schema.fields})\n",
    "\n",
    "    s_field_descs.index.name = 'Field'\n",
    "    s_field_descs.name = 'Description'\n",
    "    \n",
    "    md_str = s_field_descs.to_markdown()\n",
    "    \n",
    "    return md_str"
   ]
  },
  {
   "cell_type": "code",
   "execution_count": 58,
   "id": "fffe8185-0614-4927-a1f1-15831f5e115d",
   "metadata": {
    "tags": []
   },
   "outputs": [
    {
     "data": {
      "text/markdown": [
       "| Field                | Description                                                                                                                                                                                                                                        |\n",
       "|:---------------------|:---------------------------------------------------------------------------------------------------------------------------------------------------------------------------------------------------------------------------------------------------|\n",
       "| OSUKED ID            | The identifier used to refer to power plants in the Subak data cooperative                                                                                                                                                                         |\n",
       "| GPPD ID              | The identifier used in the global power plant database                                                                                                                                                                                             |\n",
       "| ESAIL ID             | The identifier used by the Energy Systems and Artificial Intelligence Lab at UCL                                                                                                                                                                   |\n",
       "| Common Name          | The name used to refer to the power plant site                                                                                                                                                                                                     |\n",
       "| Settlement BMU ID    | The Balancing Mechanism Unit identifier used for settlement purposes by Elexon                                                                                                                                                                     |\n",
       "| National Grid BMU ID | The Balancing Mechanism Unit identifier used by the National Grid                                                                                                                                                                                  |\n",
       "| 4C-Offshore ID       | The identifier used by 4C-Offshore                                                                                                                                                                                                                 |\n",
       "| WindPowerNet ID      | The identifier used by the WindPower.Net                                                                                                                                                                                                           |\n",
       "| Wikidata ID          | The identifier used by Wikidata                                                                                                                                                                                                                    |\n",
       "| Wikipedia ID         | The identifier used by Wikipedia                                                                                                                                                                                                                   |\n",
       "| Power-Technology ID  | The identifier used by Power-Technology                                                                                                                                                                                                            |\n",
       "| EUTL ID              | The identifier used in the European (Emissions Trading Scheme) Transaction Logs                                                                                                                                                                    |\n",
       "| EIC ID               | The Energy Identification Code or EIC is a 16-character code used in Europe to uniquely identify entities and objects related to the electricity and gas sector. The EIC code is used for: Transmission System Operators, Market Participants etc. |\n",
       "| CfD ID               | The identifier used by the Low Carbon Contracts Company to uniquely identify Contracts for Difference projects                                                                                                                                     |"
      ],
      "text/plain": [
       "<IPython.core.display.Markdown object>"
      ]
     },
     "execution_count": 58,
     "metadata": {},
     "output_type": "execute_result"
    }
   ],
   "source": [
    "field_desc_table_str = construct_field_desc_table_str(package)\n",
    "\n",
    "Markdown(field_desc_table_str)"
   ]
  },
  {
   "cell_type": "code",
   "execution_count": null,
   "id": "77b18f4d-4d65-4ddb-910b-1eff4d4dbfd1",
   "metadata": {},
   "outputs": [],
   "source": []
  },
  {
   "cell_type": "code",
   "execution_count": 110,
   "id": "c2c632aa-f159-4b54-ad5b-ebe2c71c5337",
   "metadata": {},
   "outputs": [],
   "source": [
    "#exports\n",
    "def get_dp_field_to_url_format_str(datapackage_json_fp):\n",
    "    package = Package(datapackage_json_fp, profile='tabular-data-package')\n",
    "    ids_resource = package.get_resource('ids')\n",
    "\n",
    "    id_field_to_url_format_str = {\n",
    "        field['name']: field['url_format'] \n",
    "        for field \n",
    "        in ids_resource['schema']['fields'] \n",
    "        if 'url_format' in field.keys()\n",
    "    }\n",
    "\n",
    "    return id_field_to_url_format_str\n",
    "\n",
    "def get_dp_field_to_title(datapackage_json_fp):\n",
    "    package = Package(datapackage_json_fp, profile='tabular-data-package')\n",
    "    ids_resource = package.get_resource('ids')\n",
    "\n",
    "    id_field_to_title = {\n",
    "        field['name']: field['title'] \n",
    "        for field \n",
    "        in ids_resource['schema']['fields'] \n",
    "    }\n",
    "\n",
    "    return id_field_to_title\n",
    "\n",
    "def format_id_values(id_values, id_type, id_field_to_url_format_str):\n",
    "    if id_type in id_field_to_url_format_str.keys():\n",
    "        url_format_str = id_field_to_url_format_str[id_type]\n",
    "        id_values_strs = [f'[{id_value}]({url_format_str.format(value=id_value)})' for id_value in id_values]\n",
    "    else:\n",
    "        id_values_strs = [str(id_value) for id_value in id_values] \n",
    "    \n",
    "    return id_values_strs\n",
    "\n",
    "construct_linked_idxs = lambda df_ids_clean: [\n",
    "    f'[{idx}](https://osuked.github.io/Power-Station-Dictionary/objects/{name.replace(\" \", \"%20\")})' \n",
    "    if name != '-' \n",
    "    else f'[{idx}](https://osuked.github.io/Power-Station-Dictionary/objects/{idx})' \n",
    "    for idx, name \n",
    "    in df_ids_clean['Common Name'].items()\n",
    "]\n",
    "\n",
    "def construct_linked_ids_table_str(package, datapackage_json_fp):\n",
    "    id_field_to_url_format_str = get_dp_field_to_url_format_str(datapackage_json_fp)\n",
    "    id_field_to_title = get_dp_field_to_title(datapackage_json_fp)\n",
    "\n",
    "    df_ids_clean = pd.DataFrame(index=df_ids.index, columns=id_field_to_title.values())\n",
    "\n",
    "    for osuked_id, row in df_ids.iterrows():\n",
    "        row = pd.Series({\n",
    "            id_field_to_title[id_type]: (\n",
    "                ', '.join([str(id_) for id_ in format_id_values(id_values, id_type, id_field_to_url_format_str)]) if isinstance(id_values, list) \n",
    "                else f'[{id_values}]({id_field_to_url_format_str[id_type].format(value=id_values)})' if (id_type in id_field_to_url_format_str.keys()) and (id_values is not None)\n",
    "                else id_values\n",
    "            ) \n",
    "            for id_type, id_values \n",
    "            in row.items()\n",
    "        }).fillna('-')\n",
    "\n",
    "        df_ids_clean.loc[osuked_id] = row\n",
    "\n",
    "    df_ids_clean = df_ids_clean.drop(columns='OSUKED ID')\n",
    "    df_ids_clean.index = construct_linked_idxs(df_ids_clean)\n",
    "    df_ids_clean.index.name = 'OSUKED ID'\n",
    "    \n",
    "    return df_ids_clean.to_markdown()"
   ]
  },
  {
   "cell_type": "code",
   "execution_count": 113,
   "id": "948ccfe3-00cb-45b3-9426-489ebe8c5c73",
   "metadata": {},
   "outputs": [],
   "source": [
    "linked_ids_table_str = construct_linked_ids_table_str(package, datapackage_json_fp)\n",
    "\n",
    "# Markdown(linked_ids_table_str)"
   ]
  },
  {
   "cell_type": "code",
   "execution_count": null,
   "id": "cfc55a22-5a8d-4a6f-84c7-4b875fafe599",
   "metadata": {
    "tags": []
   },
   "outputs": [],
   "source": []
  },
  {
   "cell_type": "code",
   "execution_count": 119,
   "id": "718f97a1-52de-4c10-8510-a8619c29854d",
   "metadata": {},
   "outputs": [],
   "source": [
    "def populate_and_save_template(template_fp, save_fp, render_kwargs):\n",
    "    rendered_str = Template(open(template_fp).read()).render(**render_kwargs)\n",
    "\n",
    "    with open(save_fp, 'w', encoding='utf-8') as f:\n",
    "        try:\n",
    "            f.write(rendered_str)\n",
    "        except e as exc:\n",
    "            raise exc\n",
    "            \n",
    "    return None"
   ]
  },
  {
   "cell_type": "code",
   "execution_count": 120,
   "id": "a2704117-9a57-4c5e-9298-27d5d9a23086",
   "metadata": {},
   "outputs": [],
   "source": [
    "template_fp = '../templates/dictionary_page.md'\n",
    "save_fp = f'../docs/dictionary.md'\n",
    "\n",
    "render_kwargs = {\n",
    "    'title': package.title,\n",
    "    'description': package.description,\n",
    "    'metadata_table': construct_metadata_table_str(package),\n",
    "    'field_desc_table': construct_field_desc_table_str(package),\n",
    "    'linked_ids_table': construct_linked_ids_table_str(package, datapackage_json_fp),\n",
    "}\n",
    "\n",
    "populate_and_save_template(template_fp, save_fp, render_kwargs)"
   ]
  },
  {
   "cell_type": "code",
   "execution_count": null,
   "id": "e3fff58c-dc69-451d-9cd2-90604a04275e",
   "metadata": {},
   "outputs": [],
   "source": []
  },
  {
   "cell_type": "code",
   "execution_count": null,
   "id": "ef79af34-1be1-4242-a5d9-8edc251784c4",
   "metadata": {},
   "outputs": [],
   "source": []
  },
  {
   "cell_type": "code",
   "execution_count": null,
   "id": "ca6acd73-ccdc-4466-9df3-58d101ea33cf",
   "metadata": {},
   "outputs": [],
   "source": []
  },
  {
   "cell_type": "code",
   "execution_count": null,
   "id": "5beaf009-11be-4c31-b700-f2f143179aca",
   "metadata": {},
   "outputs": [],
   "source": []
  },
  {
   "cell_type": "code",
   "execution_count": null,
   "id": "064dbc65-e8e7-4f87-8130-b730e6eebd78",
   "metadata": {},
   "outputs": [],
   "source": []
  },
  {
   "cell_type": "code",
   "execution_count": 62,
   "id": "3182633b-0b87-4a87-ac75-e39efd7dacad",
   "metadata": {},
   "outputs": [
    {
     "data": {
      "application/json": {
       "fields": [
        {
         "description": "The identifier used to refer to power plants in the Subak data cooperative",
         "format": "default",
         "hierarchy": "root",
         "name": "osuked_id",
         "required": true,
         "title": "OSUKED ID",
         "type": "integer"
        },
        {
         "array_item": {
          "type": "string"
         },
         "description": "The identifier used in the global power plant database",
         "format": ", ",
         "hierarchy": "equivalent/child",
         "name": "gppd_idnr",
         "title": "GPPD ID",
         "type": "array"
        },
        {
         "description": "The identifier used by the Energy Systems and Artificial Intelligence Lab at UCL",
         "format": "default",
         "hierarchy": "equivalent",
         "name": "esail_id",
         "title": "ESAIL ID",
         "type": "string"
        },
        {
         "description": "The name used to refer to the power plant site",
         "format": "default",
         "hierarchy": "equivalent",
         "name": "name",
         "title": "Common Name",
         "type": "string"
        },
        {
         "array_item": {
          "type": "string"
         },
         "description": "The Balancing Mechanism Unit identifier used for settlement purposes by Elexon",
         "format": ", ",
         "hierarchy": "child",
         "name": "sett_bmu_id",
         "title": "Settlement BMU ID",
         "type": "array"
        },
        {
         "array_item": {
          "type": "string"
         },
         "description": "The Balancing Mechanism Unit identifier used by the National Grid",
         "format": ", ",
         "hierarchy": "child",
         "name": "ngc_bmu_id",
         "title": "National Grid BMU ID",
         "type": "array"
        },
        {
         "array_item": {
          "type": "string"
         },
         "description": "The identifier used by 4C-Offshore",
         "format": ", ",
         "hierarchy": "equivalent/child",
         "name": "4c_offshore_id",
         "title": "4C-Offshore ID",
         "type": "array",
         "url_format": "https://www.4coffshore.com/windfarms/united-kingdom/{value}.html"
        },
        {
         "array_item": {
          "type": "string"
         },
         "description": "The identifier used by the WindPower.Net",
         "format": ", ",
         "hierarchy": "equivalent/child",
         "name": "windpowernet_id",
         "title": "WindPowerNet ID",
         "type": "array",
         "url_format": "https://www.thewindpower.net/{value}.php"
        },
        {
         "array_item": {
          "type": "string"
         },
         "description": "The identifier used by Wikidata",
         "format": ", ",
         "hierarchy": "equivalent/child",
         "name": "wikidata_id",
         "title": "Wikidata ID",
         "type": "array",
         "url_format": "https://www.wikidata.org/wiki/{value}"
        },
        {
         "array_item": {
          "type": "string"
         },
         "description": "The identifier used by Wikipedia",
         "format": ", ",
         "hierarchy": "equivalent/child",
         "name": "wikipedia_id",
         "title": "Wikipedia ID",
         "type": "array",
         "url_format": "https://en.wikipedia.org/wiki/{value}"
        },
        {
         "array_item": {
          "type": "string"
         },
         "description": "The identifier used by Power-Technology",
         "format": ", ",
         "hierarchy": "equivalent/child",
         "name": "power_technology_id",
         "title": "Power-Technology ID",
         "type": "array",
         "url_format": "https://www.power-technology.com/projects/{value}"
        },
        {
         "array_item": {
          "type": "integer"
         },
         "description": "The identifier used in the European (Emissions Trading Scheme) Transaction Logs",
         "format": ", ",
         "hierarchy": "equivalent/child",
         "name": "eutl_id",
         "title": "EUTL ID",
         "type": "array"
        },
        {
         "array_item": {
          "type": "string"
         },
         "description": "The Energy Identification Code or EIC is a 16-character code used in Europe to uniquely identify entities and objects related to the electricity and gas sector. The EIC code is used for: Transmission System Operators, Market Participants etc.",
         "format": ", ",
         "hierarchy": "equivalent/child",
         "name": "eic_id",
         "title": "EIC ID",
         "type": "array"
        },
        {
         "array_item": {
          "type": "string"
         },
         "description": "The identifier used by the Low Carbon Contracts Company to uniquely identify Contracts for Difference projects",
         "format": ", ",
         "hierarchy": "equivalent/child",
         "name": "cfd_id",
         "title": "CfD ID",
         "type": "array"
        }
       ],
       "foreignKeys": [
        {
         "fields": "ngc_bmu_id",
         "reference": {
          "attributes": [
           "FUEL TYPE"
          ],
          "fields": "NGC_BMU_ID",
          "package": "https://raw.githubusercontent.com/OSUKED/Dictionary-Datasets/main/datasets/bmu-fuel-types/datapackage.json",
          "resource": "bmu-fuel-types"
         }
        },
        {
         "fields": "osuked_id",
         "reference": {
          "attributes": [
           "longitude",
           "latitude"
          ],
          "fields": "osuked_id",
          "package": "https://raw.githubusercontent.com/OSUKED/Dictionary-Datasets/main/datasets/plant-locations/datapackage.json",
          "resource": "plant-locations"
         }
        },
        {
         "fields": "osuked_id",
         "reference": {
          "attributes": [
           "plant_type",
           "hub_height"
          ],
          "fields": "osuked_id",
          "package": "https://raw.githubusercontent.com/OSUKED/Dictionary-Datasets/main/datasets/wind-farms/datapackage.json",
          "resource": "wind-farms"
         }
        },
        {
         "fields": "gppd_idnr",
         "reference": {
          "attributes": [
           "capacity_mw",
           "longitude",
           "latitude",
           "primary_fuel",
           "other_fuel1",
           "other_fuel2",
           "other_fuel3",
           "commissioning_year",
           "owner",
           "source",
           "url",
           "geolocation_source",
           "wepp_id",
           "year_of_capacity_data",
           "generation_gwh_2013",
           "generation_gwh_2014",
           "generation_gwh_2015",
           "generation_gwh_2016",
           "generation_gwh_2017",
           "generation_gwh_2018",
           "generation_gwh_2019",
           "generation_data_source",
           "estimated_generation_gwh_2013",
           "estimated_generation_gwh_2014",
           "estimated_generation_gwh_2015",
           "estimated_generation_gwh_2016",
           "estimated_generation_gwh_2017"
          ],
          "fields": "gppd_idnr",
          "package": "https://raw.githubusercontent.com/OSUKED/Dictionary-Datasets/main/datasets/global-power-plant-database/datapackage.json",
          "resource": "global-power-plant-database"
         }
        },
        {
         "fields": "eutl_id",
         "reference": {
          "aggregation": "sum",
          "alt_indexes": [
           "year"
          ],
          "attributes": [
           "tonnes_co2"
          ],
          "fields": "account_id",
          "package": "https://raw.githubusercontent.com/OSUKED/Dictionary-Datasets/main/datasets/verified-emissions/datapackage.json",
          "resource": "verified-emissions"
         }
        },
        {
         "fields": "ngc_bmu_id",
         "reference": {
          "aggregation": "sum",
          "alt_indexes": [
           "year"
          ],
          "attributes": [
           "output_MWh"
          ],
          "fields": "ngc_bmu_id",
          "package": "https://raw.githubusercontent.com/OSUKED/Dictionary-Datasets/main/datasets/annual-output/datapackage.json",
          "resource": "annual-output"
         }
        },
        {
         "fields": "ngc_bmu_id",
         "reference": {
          "alt_indexes": [
           "year"
          ],
          "attributes": [
           "capture_price"
          ],
          "fields": "ngc_bmu_id",
          "package": "https://raw.githubusercontent.com/OSUKED/Dictionary-Datasets/main/datasets/capture-prices/datapackage.json",
          "resource": "capture-prices"
         }
        }
       ],
       "primaryKey": "osuked_id"
      },
      "text/plain": [
       "<IPython.core.display.JSON object>"
      ]
     },
     "execution_count": 62,
     "metadata": {
      "application/json": {
       "expanded": false,
       "root": "root"
      }
     },
     "output_type": "execute_result"
    }
   ],
   "source": [
    "JSON(ids_resource.schema)"
   ]
  },
  {
   "cell_type": "code",
   "execution_count": null,
   "id": "45ca3162-d7e6-492a-9a93-d9c7bc24764c",
   "metadata": {},
   "outputs": [],
   "source": []
  },
  {
   "cell_type": "code",
   "execution_count": 35,
   "id": "01f84195-1947-484c-aa9d-9a1e51211b60",
   "metadata": {},
   "outputs": [
    {
     "data": {
      "text/plain": [
       "{'profile': 'tabular-data-package',\n",
       " 'resources': [{'name': 'ids',\n",
       "   'path': 'ids.csv',\n",
       "   'profile': 'tabular-data-resource',\n",
       "   'schema': {'fields': [{'name': 'osuked_id',\n",
       "      'required': True,\n",
       "      'type': 'integer',\n",
       "      'format': 'default',\n",
       "      'description': 'The identifier used to refer to power plants in the Subak data cooperative',\n",
       "      'title': 'OSUKED ID',\n",
       "      'hierarchy': 'root'},\n",
       "     {'name': 'gppd_idnr',\n",
       "      'type': 'array',\n",
       "      'format': ', ',\n",
       "      'array_item': {'type': 'string'},\n",
       "      'title': 'GPPD ID',\n",
       "      'description': 'The identifier used in the global power plant database',\n",
       "      'hierarchy': 'equivalent/child'},\n",
       "     {'name': 'esail_id',\n",
       "      'type': 'string',\n",
       "      'format': 'default',\n",
       "      'description': 'The identifier used by the Energy Systems and Artificial Intelligence Lab at UCL',\n",
       "      'title': 'ESAIL ID',\n",
       "      'hierarchy': 'equivalent'},\n",
       "     {'name': 'name',\n",
       "      'type': 'string',\n",
       "      'format': 'default',\n",
       "      'title': 'Common Name',\n",
       "      'description': 'The name used to refer to the power plant site',\n",
       "      'hierarchy': 'equivalent'},\n",
       "     {'name': 'sett_bmu_id',\n",
       "      'type': 'array',\n",
       "      'format': ', ',\n",
       "      'array_item': {'type': 'string'},\n",
       "      'description': 'The Balancing Mechanism Unit identifier used for settlement purposes by Elexon',\n",
       "      'title': 'Settlement BMU ID',\n",
       "      'hierarchy': 'child'},\n",
       "     {'name': 'ngc_bmu_id',\n",
       "      'type': 'array',\n",
       "      'format': ', ',\n",
       "      'array_item': {'type': 'string'},\n",
       "      'description': 'The Balancing Mechanism Unit identifier used by the National Grid',\n",
       "      'title': 'National Grid BMU ID',\n",
       "      'hierarchy': 'child'},\n",
       "     {'name': '4c_offshore_id',\n",
       "      'type': 'array',\n",
       "      'format': ', ',\n",
       "      'array_item': {'type': 'string'},\n",
       "      'title': '4C-Offshore ID',\n",
       "      'description': 'The identifier used by 4C-Offshore',\n",
       "      'hierarchy': 'equivalent/child',\n",
       "      'url_format': 'https://www.4coffshore.com/windfarms/united-kingdom/{value}.html'},\n",
       "     {'name': 'windpowernet_id',\n",
       "      'type': 'array',\n",
       "      'format': ', ',\n",
       "      'array_item': {'type': 'string'},\n",
       "      'title': 'WindPowerNet ID',\n",
       "      'description': 'The identifier used by the WindPower.Net',\n",
       "      'hierarchy': 'equivalent/child',\n",
       "      'url_format': 'https://www.thewindpower.net/{value}.php'},\n",
       "     {'name': 'wikidata_id',\n",
       "      'type': 'array',\n",
       "      'format': ', ',\n",
       "      'array_item': {'type': 'string'},\n",
       "      'title': 'Wikidata ID',\n",
       "      'description': 'The identifier used by Wikidata',\n",
       "      'hierarchy': 'equivalent/child',\n",
       "      'url_format': 'https://www.wikidata.org/wiki/{value}'},\n",
       "     {'name': 'wikipedia_id',\n",
       "      'type': 'array',\n",
       "      'format': ', ',\n",
       "      'array_item': {'type': 'string'},\n",
       "      'title': 'Wikipedia ID',\n",
       "      'description': 'The identifier used by Wikipedia',\n",
       "      'hierarchy': 'equivalent/child',\n",
       "      'url_format': 'https://en.wikipedia.org/wiki/{value}'},\n",
       "     {'name': 'power_technology_id',\n",
       "      'type': 'array',\n",
       "      'format': ', ',\n",
       "      'array_item': {'type': 'string'},\n",
       "      'title': 'Power-Technology ID',\n",
       "      'description': 'The identifier used by Power-Technology',\n",
       "      'hierarchy': 'equivalent/child',\n",
       "      'url_format': 'https://www.power-technology.com/projects/{value}'},\n",
       "     {'name': 'eutl_id',\n",
       "      'type': 'array',\n",
       "      'format': ', ',\n",
       "      'array_item': {'type': 'integer'},\n",
       "      'title': 'EUTL ID',\n",
       "      'description': 'The identifier used in the European (Emissions Trading Scheme) Transaction Logs',\n",
       "      'hierarchy': 'equivalent/child'},\n",
       "     {'name': 'eic_id',\n",
       "      'type': 'array',\n",
       "      'format': ', ',\n",
       "      'array_item': {'type': 'string'},\n",
       "      'title': 'EIC ID',\n",
       "      'description': 'The Energy Identification Code or EIC is a 16-character code used in Europe to uniquely identify entities and objects related to the electricity and gas sector. The EIC code is used for: Transmission System Operators, Market Participants etc.',\n",
       "      'hierarchy': 'equivalent/child'},\n",
       "     {'name': 'cfd_id',\n",
       "      'type': 'array',\n",
       "      'format': ', ',\n",
       "      'array_item': {'type': 'string'},\n",
       "      'title': 'CfD ID',\n",
       "      'description': 'The identifier used by the Low Carbon Contracts Company to uniquely identify Contracts for Difference projects',\n",
       "      'hierarchy': 'equivalent/child'}],\n",
       "    'primaryKey': 'osuked_id',\n",
       "    'foreignKeys': [{'fields': 'ngc_bmu_id',\n",
       "      'reference': {'package': 'https://raw.githubusercontent.com/OSUKED/Dictionary-Datasets/main/datasets/bmu-fuel-types/datapackage.json',\n",
       "       'resource': 'bmu-fuel-types',\n",
       "       'fields': 'NGC_BMU_ID',\n",
       "       'attributes': ['FUEL TYPE']}},\n",
       "     {'fields': 'osuked_id',\n",
       "      'reference': {'package': 'https://raw.githubusercontent.com/OSUKED/Dictionary-Datasets/main/datasets/plant-locations/datapackage.json',\n",
       "       'resource': 'plant-locations',\n",
       "       'fields': 'osuked_id',\n",
       "       'attributes': ['longitude', 'latitude']}},\n",
       "     {'fields': 'osuked_id',\n",
       "      'reference': {'package': 'https://raw.githubusercontent.com/OSUKED/Dictionary-Datasets/main/datasets/wind-farms/datapackage.json',\n",
       "       'resource': 'wind-farms',\n",
       "       'fields': 'osuked_id',\n",
       "       'attributes': ['plant_type', 'hub_height']}},\n",
       "     {'fields': 'gppd_idnr',\n",
       "      'reference': {'package': 'https://raw.githubusercontent.com/OSUKED/Dictionary-Datasets/main/datasets/global-power-plant-database/datapackage.json',\n",
       "       'resource': 'global-power-plant-database',\n",
       "       'fields': 'gppd_idnr',\n",
       "       'attributes': ['capacity_mw',\n",
       "        'longitude',\n",
       "        'latitude',\n",
       "        'primary_fuel',\n",
       "        'other_fuel1',\n",
       "        'other_fuel2',\n",
       "        'other_fuel3',\n",
       "        'commissioning_year',\n",
       "        'owner',\n",
       "        'source',\n",
       "        'url',\n",
       "        'geolocation_source',\n",
       "        'wepp_id',\n",
       "        'year_of_capacity_data',\n",
       "        'generation_gwh_2013',\n",
       "        'generation_gwh_2014',\n",
       "        'generation_gwh_2015',\n",
       "        'generation_gwh_2016',\n",
       "        'generation_gwh_2017',\n",
       "        'generation_gwh_2018',\n",
       "        'generation_gwh_2019',\n",
       "        'generation_data_source',\n",
       "        'estimated_generation_gwh_2013',\n",
       "        'estimated_generation_gwh_2014',\n",
       "        'estimated_generation_gwh_2015',\n",
       "        'estimated_generation_gwh_2016',\n",
       "        'estimated_generation_gwh_2017']}},\n",
       "     {'fields': 'eutl_id',\n",
       "      'reference': {'package': 'https://raw.githubusercontent.com/OSUKED/Dictionary-Datasets/main/datasets/verified-emissions/datapackage.json',\n",
       "       'resource': 'verified-emissions',\n",
       "       'fields': 'account_id',\n",
       "       'attributes': ['tonnes_co2'],\n",
       "       'aggregation': 'sum',\n",
       "       'alt_indexes': ['year']}},\n",
       "     {'fields': 'ngc_bmu_id',\n",
       "      'reference': {'package': 'https://raw.githubusercontent.com/OSUKED/Dictionary-Datasets/main/datasets/annual-output/datapackage.json',\n",
       "       'resource': 'annual-output',\n",
       "       'fields': 'ngc_bmu_id',\n",
       "       'attributes': ['output_MWh'],\n",
       "       'aggregation': 'sum',\n",
       "       'alt_indexes': ['year']}},\n",
       "     {'fields': 'ngc_bmu_id',\n",
       "      'reference': {'package': 'https://raw.githubusercontent.com/OSUKED/Dictionary-Datasets/main/datasets/capture-prices/datapackage.json',\n",
       "       'resource': 'capture-prices',\n",
       "       'fields': 'ngc_bmu_id',\n",
       "       'attributes': ['capture_price'],\n",
       "       'alt_indexes': ['year']}}]},\n",
       "   'scheme': 'file',\n",
       "   'format': 'csv',\n",
       "   'hashing': 'md5',\n",
       "   'encoding': 'utf-8',\n",
       "   'stats': {'hash': '', 'bytes': 0, 'fields': 14, 'rows': 0}}],\n",
       " 'keywords': ['power plants', 'ids'],\n",
       " 'version': '1.0.0',\n",
       " 'name': 'ids',\n",
       " 'title': 'Power Plant IDs',\n",
       " 'description': 'Dataset listing the various IDs used to refer to the same power plants. These IDs can represent same-as relationships as well as sets which relate to different elements of the same plant (e.g.BMUs).',\n",
       " 'contributors': [{'title': 'Ayrton Bourn', 'role': 'author'}],\n",
       " 'licenses': [{'name': 'CC-BY-4.0',\n",
       "   'title': 'Creative Commons Attribution 4.0',\n",
       "   'path': 'https://creativecommons.org/licenses/by/4.0/'}]}"
      ]
     },
     "execution_count": 35,
     "metadata": {},
     "output_type": "execute_result"
    }
   ],
   "source": [
    "package"
   ]
  },
  {
   "cell_type": "code",
   "execution_count": null,
   "id": "ee1ff5e2-5c41-4d46-9d44-14d5bffd4862",
   "metadata": {},
   "outputs": [],
   "source": []
  }
 ],
 "metadata": {
  "kernelspec": {
   "display_name": "PowerDict",
   "language": "python",
   "name": "powerdict"
  },
  "language_info": {
   "codemirror_mode": {
    "name": "ipython",
    "version": 3
   },
   "file_extension": ".py",
   "mimetype": "text/x-python",
   "name": "python",
   "nbconvert_exporter": "python",
   "pygments_lexer": "ipython3",
   "version": "3.9.6"
  }
 },
 "nbformat": 4,
 "nbformat_minor": 5
}
