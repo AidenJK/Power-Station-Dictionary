{
 "cells": [
  {
   "cell_type": "code",
   "execution_count": null,
   "id": "d3699bd4-81f5-4ae9-8a7e-f2d2141715cd",
   "metadata": {},
   "outputs": [],
   "source": []
  },
  {
   "cell_type": "code",
   "execution_count": null,
   "id": "703eb61d-ca16-48ea-8879-ba802dae417b",
   "metadata": {},
   "outputs": [],
   "source": [
    "@article{QUARTON2020105886,\n",
    "title = {Resource and technology data for spatio-temporal value chain modelling of the Great Britain energy system},\n",
    "journal = {Data in Brief},\n",
    "volume = {31},\n",
    "pages = {105886},\n",
    "year = {2020},\n",
    "issn = {2352-3409},\n",
    "doi = {https://doi.org/10.1016/j.dib.2020.105886},\n",
    "url = {https://www.sciencedirect.com/science/article/pii/S2352340920307800},\n",
    "author = {Christopher J. Quarton and Sheila Samsatli},\n",
    "keywords = {Energy system data, Technology costs, Electricity demands, Heat demands},\n",
    "abstract = {A comprehensive dataset for the resources and technologies in a present-day energy system is presented. These data were used as the model input data for spatio-temporal value chain optimisation studies for the Great Britain energy system. Although focussed on Great Britain, these data may be applicable to other energy systems worldwide. Data are presented for energy resources and energy technologies. Spatio-temporal energy resource data include availabilities of primary resources such as wind and solar, and demands for heat and electricity in the domestic, commercial and industrial sectors. Economic and operating parameters for a wide range of energy technologies are presented, including resource utilisation and conversion technologies such as wind turbines and electrolysers, resource transportation such as gas transmission systems, and energy storage technologies. The data were gathered from a wide range of academic literature, technical reports, and government databases; all references are provided with the data. This dataset will be valuable for greater understanding of the energy value chain optimisation studies performed using the Value Web Model, carrying out further energy system modelling, and as a general reference for the resources and technologies in present-day energy systems.}\n",
    "}"
   ]
  },
  {
   "cell_type": "code",
   "execution_count": null,
   "id": "3749d8a0-2770-46a9-93ed-6ec4e1563c37",
   "metadata": {},
   "outputs": [],
   "source": []
  },
  {
   "cell_type": "code",
   "execution_count": null,
   "id": "ed4f84a4-b0e4-4a34-96df-da7d1cd8471b",
   "metadata": {},
   "outputs": [],
   "source": []
  },
  {
   "cell_type": "code",
   "execution_count": null,
   "id": "585f6c3e-f60d-4c40-bce1-ecb7e5d29b66",
   "metadata": {},
   "outputs": [],
   "source": []
  }
 ],
 "metadata": {
  "kernelspec": {
   "display_name": "PowerDict",
   "language": "python",
   "name": "powerdict"
  },
  "language_info": {
   "codemirror_mode": {
    "name": "ipython",
    "version": 3
   },
   "file_extension": ".py",
   "mimetype": "text/x-python",
   "name": "python",
   "nbconvert_exporter": "python",
   "pygments_lexer": "ipython3",
   "version": "3.9.6"
  }
 },
 "nbformat": 4,
 "nbformat_minor": 5
}
